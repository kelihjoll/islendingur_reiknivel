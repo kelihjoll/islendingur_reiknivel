{
 "cells": [
  {
   "cell_type": "code",
   "execution_count": 1,
   "metadata": {},
   "outputs": [
    {
     "name": "stdout",
     "output_type": "stream",
     "text": [
      "Populating the interactive namespace from numpy and matplotlib\n"
     ]
    }
   ],
   "source": [
    "import numpy as np\n",
    "import pylab as pl\n",
    "import seaborn as sb\n",
    "\n",
    "%pylab inline"
   ]
  },
  {
   "cell_type": "markdown",
   "metadata": {
    "collapsed": true
   },
   "source": [
    "## Functions"
   ]
  },
  {
   "cell_type": "code",
   "execution_count": 12,
   "metadata": {
    "collapsed": true
   },
   "outputs": [],
   "source": [
    "def islendingur():\n",
    "    bakgrunnsuppl = input_bakgrunnsuppl()\n",
    "    tekjur_e_skatt, stadgreidsla, lifeyrisgreidsla, sereignarlifeyrisgr = stadgreidsla_func(bakgrunnsuppl)\n",
    "    husnaedisstudningur, husn_eignaskerding, husn_tekjuskerding =\\\n",
    "        husnaedisstudningur_func(bakgrunnsuppl)\n",
    "    if bakgrunnsuppl['hjuskaparstada'] != 1:\n",
    "        barnabaetur = barnabaetur_func(bakgrunnsuppl)\n",
    "    else: barnabaetur = 0\n",
    "    \n",
    "    if bakgrunnsuppl['tekjur'][0] >= 1678001/12:\n",
    "        utvarpsgjald = 16800/12\n",
    "    else: utvarpsgjald = 0\n",
    "    \n",
    "    netto = tekjur_e_skatt + husnaedisstudningur + barnabaetur - utvarpsgjald\n",
    "    \n",
    "    nidurstodur = {'tekjur': bakgrunnsuppl['tekjur'],\\\n",
    "                   'tekjur_e_skatt': tekjur_e_skatt,\\\n",
    "                   'stadgreidsla': stadgreidsla,\\\n",
    "                   'lifeyrisgreidsla': (lifeyrisgreidsla+sereignarlifeyrisgr),\\\n",
    "                   'husnaedisstudningur': husnaedisstudningur,\\\n",
    "                   'barnabaetur': barnabaetur,\\\n",
    "                   'utvarpsgjald': utvarpsgjald,\\\n",
    "                   'pjeng_i_vasa': netto}\n",
    "    \n",
    "    return nidurstodur, bakgrunnsuppl"
   ]
  },
  {
   "cell_type": "code",
   "execution_count": 15,
   "metadata": {},
   "outputs": [
    {
     "ename": "SyntaxError",
     "evalue": "EOL while scanning string literal (<ipython-input-15-f70934610be8>, line 46)",
     "output_type": "error",
     "traceback": [
      "\u001b[1;36m  File \u001b[1;32m\"<ipython-input-15-f70934610be8>\"\u001b[1;36m, line \u001b[1;32m46\u001b[0m\n\u001b[1;33m    print \"Allar eignir (samanlagðar eignir hjóna) að frádregnum öllum skuldum.\u001b[0m\n\u001b[1;37m                                                                                \n^\u001b[0m\n\u001b[1;31mSyntaxError\u001b[0m\u001b[1;31m:\u001b[0m EOL while scanning string literal\n"
     ]
    }
   ],
   "source": [
    "def input_bakgrunnsuppl():\n",
    "    # HJÚSKAPARSTAÐA\n",
    "    # =======================================================\n",
    "    hjuskaparstada = 4\n",
    "    while hjuskaparstada >3 or hjuskaparstada <1:\n",
    "        hjuskaparstada = int(raw_input('1: einhleypur, 2: einst. foreldri, 3: giftur/sambud '))\n",
    "    \n",
    "    # BÚSETUFORM\n",
    "    # =======================================================\n",
    "    print \"Hver er husnæðisstaða þín? Býrðu í eigin húsnæði, leiguhúsnæði/búsetu eða hvorugt?\"\n",
    "    husn = 4\n",
    "    while husn >3 or husn <1:\n",
    "        husn = int(raw_input('1: eigin, 2: leigu, 3: hvorugt '))\n",
    "    \n",
    "    # TEKJUR OG IÐGJALD\n",
    "    # =======================================================\n",
    "    laun_a_manudi = int(raw_input(\"Laun fyrir skatt: \"))\n",
    "    fjarmagnstekjur = int(raw_input(\"Fjarmagnstekjur: \"))\n",
    "    \n",
    "    print \"\tIðgjald í lífeyrissjóð?\"\n",
    "    idgjald = 3\n",
    "    while idgjald >2 or idgjald <1:\n",
    "        idgjald = int(raw_input('1: 0%, 2: 4% '))\n",
    "    if idgjald == 1:\n",
    "        idgjald = 0.0\n",
    "    elif idgjald == 2:\n",
    "        idgjald = 0.04\n",
    "            \n",
    "    print \"\tIðgjald í séreign?\"\n",
    "    sereignaridgjald = 5\n",
    "    while sereignaridgjald >4 or sereignaridgjald <0:\n",
    "        sereignaridgjald = int(raw_input('0: 0%, 1: 1%, 2: 2%, 3: 3%, 4: 4% '))\n",
    "    sereignaridgjald = sereignaridgjald / 100.0\n",
    "    \n",
    "    if hjuskaparstada == 3:\n",
    "        laun_maka = int(raw_input(\"Laun maka fyrir skatt: \"))\n",
    "        fjarmagnstekjur_maka = int(raw_input(\"Fjarmagnstekjur maka: \"))\n",
    "    else:\n",
    "        laun_maka = 0\n",
    "        fjarmagnstekjur_maka = 0\n",
    "    tekju_uppl = [laun_a_manudi, fjarmagnstekjur, laun_maka, fjarmagnstekjur_maka]\n",
    "    \n",
    "    # EIGNIR\n",
    "    # =======================================================\n",
    "    if hjuskaparstada == 3:\n",
    "        print \"Allar eignir (samanlagðar eignir hjóna) að frádregnum öllum skuldum. \n",
    "        print \"Með eignum skal telja hlutabréf, innstæður og verðbréf: \"\n",
    "    else:\n",
    "        print \"Allar eignir að frádregnum öllum skuldum. Með eignum skal telja hlutabréf, innstæður og verðbréf: \"\n",
    "    eignir = int(raw_input())\n",
    "    \n",
    "    # HÚSNÆÐISBREYTUR\n",
    "    # =======================================================\n",
    "    if husn == 1:   \n",
    "        print 'Eftirstöðvar í árslok af lánum sem tekin hafa verið til öflunar íbúðarhúsnæðis til eigin nota: '\n",
    "        eftirstodvar = int(raw_input())\n",
    "        print \"Vextir og verðbætur af íbúðarlánum á ársgrundvelli, þ.m.t. dráttarvextir og lántökukostnaður: \"\n",
    "        vaxtagjold = int(raw_input())\n",
    "    else:\n",
    "        eftirstodvar = 0\n",
    "        vaxtagjold = 0\n",
    "    if husn == 2:\n",
    "        fjoldi_heimilismanna = int(raw_input(\"fjoldi heimilismanna ad ther medtoldum: \"))\n",
    "        if fjoldi_heimilismanna > 4:\n",
    "            fjoldi_heimilismanna = 4\n",
    "        if fjoldi_heimilismanna == 1:\n",
    "            heimilistekjur = (tekju_uppl[0] + tekju_uppl[1])\n",
    "            heimiliseignir = eignir\n",
    "        elif fjoldi_heimilismanna == 2 and hjuskaparstada == 3:\n",
    "            heimilistekjur = sum(tekju_uppl)\n",
    "            heimiliseignir = eignir\n",
    "        else:\n",
    "            heimilistekjur = int(raw_input('samanlagdar manadartekjur allra heimilismanna: '))\n",
    "            heimiliseignir = int(raw_input('samanlagdar eignir allra heimilismanna: '))\n",
    "        husnaediskostnadur = int(raw_input('manadarlegur husnaediskostnadur: '))\n",
    "    else: \n",
    "        fjoldi_heimilismanna = 0\n",
    "        heimilistekjur = 0\n",
    "        heimiliseignir = 0\n",
    "        husnaediskostnadur = 0\n",
    "        \n",
    "    # BÖRN\n",
    "    # =======================================================\n",
    "    if hjuskaparstada != 1:    \n",
    "        print \"Fjöldi barna á heimli: \"\n",
    "        fj_barna = int(raw_input())\n",
    "        if fj_barna != 0:\n",
    "            print \" - þar af yngri en 7 ára: \"\n",
    "            fj_barna_undir_7 = fj_barna + 1\n",
    "            while fj_barna_undir_7 > fj_barna:\n",
    "                fj_barna_undir_7 = int(raw_input())\n",
    "        elif fj_barna == 0:\n",
    "            fj_barna_undir_7 = 0\n",
    "        if fj_barna > 3:\n",
    "            fj_barna = 3\n",
    "    else:\n",
    "        fj_barna = 0\n",
    "        fj_barna_undir_7 = 0\n",
    "    \n",
    "    bakgrunnsuppl = {'hjuskaparstada': hjuskaparstada,\\\n",
    "                    'busetuform': husn,\\\n",
    "                    'tekjur': tekju_uppl,\\\n",
    "                    'eignir': eignir,\\\n",
    "                    'husnaedislan': eftirstodvar,\\\n",
    "                    'vaxtagjold': vaxtagjold,\\\n",
    "                    'husnaediskostnadur': husnaediskostnadur,\\\n",
    "                    'fjoldi_heimilismanna': fjoldi_heimilismanna,\\\n",
    "                    'heimilistekjur': heimilistekjur,\\\n",
    "                    'heimiliseignir': heimiliseignir,\\\n",
    "                    'fjoldi_barna': fj_barna,\\\n",
    "                    'fjoldi_barna_undir_7': fj_barna_undir_7,\\\n",
    "                    'idgjald': idgjald,\\\n",
    "                    'sereignaridgjald': sereignaridgjald\n",
    "                    }\n",
    "    \n",
    "    return bakgrunnsuppl"
   ]
  },
  {
   "cell_type": "code",
   "execution_count": 4,
   "metadata": {
    "collapsed": true
   },
   "outputs": [],
   "source": [
    "def stadgreidsla_func(info):\n",
    "    \n",
    "    skattthrep = 834707\n",
    "    skatthlutfall_nedra = 0.3694\n",
    "    skatthlutfall_efra = 0.4624\n",
    "    personuafsl = 52907\n",
    "    \n",
    "    lifeyrir = (info['tekjur'][0] * info['idgjald'])\n",
    "    serlifeyrir = (info['tekjur'][0] * info['sereignaridgjald'])\n",
    "    \n",
    "    stofn = info['tekjur'][0] - lifeyrir - serlifeyrir\n",
    "    \n",
    "    if stofn <= skattthrep:\n",
    "        skattstofn_1 = stofn\n",
    "        skattstofn_2 = 0\n",
    "    else:\n",
    "        skattstofn_1 = skattthrep\n",
    "        skattstofn_2 = stofn - skattthrep\n",
    "        \n",
    "    skattur_nedra_threp = (skattstofn_1*skatthlutfall_nedra)\n",
    "    skattur_efra_threp = (skattstofn_2*skatthlutfall_efra)\n",
    "    \n",
    "    reiknud_stadgreidsla = skattur_nedra_threp + skattur_efra_threp\n",
    "    stadgreidsla_alls = reiknud_stadgreidsla - personuafsl\n",
    "    \n",
    "    laun_e_skatt = stofn - stadgreidsla_alls\n",
    "    \n",
    "    return laun_e_skatt, stadgreidsla_alls, lifeyrir, serlifeyrir        "
   ]
  },
  {
   "cell_type": "code",
   "execution_count": 5,
   "metadata": {
    "collapsed": true
   },
   "outputs": [],
   "source": [
    "def husnaedisstudningur_func(info):\n",
    "\n",
    "    if info['busetuform'] == 1:      \n",
    "        studningur = vaxtabaetur_func(info)\n",
    "        \n",
    "    elif info['busetuform'] == 2:\n",
    "        studningur = husnaedisbaetur_func(info)\n",
    "        \n",
    "    else:\n",
    "        studningur = 0\n",
    "    \n",
    "    return studningur"
   ]
  },
  {
   "cell_type": "code",
   "execution_count": 6,
   "metadata": {
    "collapsed": true,
    "scrolled": true
   },
   "outputs": [],
   "source": [
    "def vaxtabaetur_func(info):\n",
    "    \n",
    "    hamark_vaxtagjalda = [800000, 1000000, 1200000] #fyrir: [einstakling, einstætt foreldri, hjón]\n",
    "    hamark_bota = [400000, 500000, 600000] #fyrir: [einstakling, einstætt foreldri, hjón]\n",
    "    tekjur_yearly = [info['tekjur'][0]*12,\\\n",
    "                     info['tekjur'][1]*12,\\\n",
    "                     info['tekjur'][2]*12,\\\n",
    "                     info['tekjur'][3]*12]\n",
    "    \n",
    "    eignaskerdingarmork_nedri = [4500000.0, 4500000.0, 7300000.0] #fyrir: [einstakling, einstætt foreldri, hjón]\n",
    "    eignaskerdingarmork_efri = [7200000.0, 7200000.0, 11680000.0] #fyrir: [einstakling, einstætt foreldri, hjón]\n",
    "\n",
    "    stofn_list = [hamark_vaxtagjalda[info['hjuskaparstada']-1], \n",
    "                  0.07*info['husnaedislan'], \n",
    "                  info['vaxtagjold']]\n",
    "    stofn =  min(float(s) for s in stofn_list)\n",
    "    \n",
    "    tekjuskerding = (0.085 * sum(tekjur_yearly))\n",
    "    baetur = stofn - tekjuskerding\n",
    "    if baetur < 0:\n",
    "        baetur = 0\n",
    "    \n",
    "    if info['eignir'] >= eignaskerdingarmork_efri[info['hjuskaparstada']-1]:\n",
    "        eignaskerding = baetur\n",
    "        baetur = 0\n",
    "        \n",
    "    elif info['eignir'] >= eignaskerdingarmork_nedri[info['hjuskaparstada']-1]:\n",
    "        eignaskerding =\\\n",
    "            baetur *\\\n",
    "            ((info['eignir'] - eignaskerdingarmork_nedri[info['hjuskaparstada']-1]) /\n",
    "            (eignaskerdingarmork_efri[info['hjuskaparstada']-1] - \n",
    "             eignaskerdingarmork_nedri[info['hjuskaparstada']-1]))\n",
    "        baetur -= eignaskerding\n",
    "    \n",
    "    else:\n",
    "        eignaskerding = 0\n",
    "            \n",
    "    if baetur > hamark_bota[info['hjuskaparstada']-1]:\n",
    "        baetur = hamark_bota[info['hjuskaparstada']-1]\n",
    "\n",
    "    if info['hjuskaparstada'] == 3:\n",
    "        baetur = baetur/24 #bætur deilast jafnt milli hjóna\n",
    "    else:\n",
    "        baetur = baetur/12\n",
    "    tekjuskerding = tekjuskerding/12\n",
    "    eignaskerding = (eignaskerding/12)\n",
    "    \n",
    "    if baetur < 0:\n",
    "        baetur = 0\n",
    "    if tekjuskerding < 0:\n",
    "        tekjuskerding = 0\n",
    "    if eignaskerding < 0:\n",
    "        eignaskerding = 0\n",
    "            \n",
    "    return baetur, tekjuskerding, eignaskerding"
   ]
  },
  {
   "cell_type": "code",
   "execution_count": 7,
   "metadata": {
    "collapsed": true
   },
   "outputs": [],
   "source": [
    "def husnaedisbaetur_func(info):\n",
    "\n",
    "    grunnfjarhaedir = [372000/12, 492000/12, 576000/12, 624000/12]\n",
    "    fritekjumark = [3373000/12, 4461064/12, 5222710/12, 5657936/12]\n",
    "    eignaskerdingarmork_nedri = 6500000.0\n",
    "    eignaskerdingarmork_efri = 10400000.0\n",
    "    \n",
    "    stofn = grunnfjarhaedir[(info['fjoldi_heimilismanna']-1)]\n",
    "    \n",
    "    if info['heimilistekjur'] <= fritekjumark[info['fjoldi_heimilismanna']-1]:\n",
    "        baetur = stofn\n",
    "        tekjuskerding = 0\n",
    "    else:\n",
    "        tekjuskerding = 0.09 *\\\n",
    "        (info['heimilistekjur'] - fritekjumark[info['fjoldi_heimilismanna']-1])\n",
    "        baetur = stofn - tekjuskerding\n",
    "    \n",
    "    if info['heimiliseignir'] >= eignaskerdingarmork_efri:\n",
    "        eignaskerding = baetur\n",
    "        baetur = 0\n",
    "    elif info['heimiliseignir'] >= eignaskerdingarmork_nedri:\n",
    "        eignaskerding = baetur *\\\n",
    "            ((info['heimiliseignir'] - eignaskerdingarmork_nedri) /\n",
    "             (eignaskerdingarmork_efri - eignaskerdingarmork_nedri))\n",
    "        baetur -= eignaskerding\n",
    "    else:\n",
    "        eignaskerding = 0\n",
    "    \n",
    "    if baetur > 0.75*info['husnaediskostnadur']:\n",
    "        baetur = 0.75*info['husnaediskostnadur']\n",
    "    if baetur < 0:\n",
    "        baetur = 0\n",
    "    if tekjuskerding < 0:\n",
    "        tekjuskerding = 0\n",
    "    if eignaskerding < 0:\n",
    "        eignaskerding = 0\n",
    "            \n",
    "    return baetur, tekjuskerding, eignaskerding"
   ]
  },
  {
   "cell_type": "code",
   "execution_count": 8,
   "metadata": {
    "collapsed": true
   },
   "outputs": [],
   "source": [
    "def barnabaetur_func(info):\n",
    "    tekjur_yearly = [info['tekjur'][0]*12, \n",
    "                     info['tekjur'][1]*12, \n",
    "                     info['tekjur'][2]*12, \n",
    "                     info['tekjur'][3]*12]\n",
    "    \n",
    "    fj_barna = info['fjoldi_barna']\n",
    "    fj_barna_undir_7 = info['fjoldi_barna_undir_7']\n",
    "    \n",
    "    # SKERÐINGARHLUFÖLL\n",
    "    skerdingarhlutfoll = [0.04, 0.06, 0.08] # [1 barn, 2 börn, 3 börn eða fleiri]\n",
    "    skerdingarhlutf_vidbot = 0.04\n",
    "    \n",
    "    # FJÁRHÆÐIR 2017\n",
    "    fjarhaedir_fyrsta_barn = [342939, 205834] # [einstætt foreldri, hjón/sambúðarfólk]\n",
    "    fjarhaedir_umfram_born = [351787, 245087] # [einstætt foreldri, hjón/sambúðarfólk]\n",
    "    vidbotarfjarhaed_hvert_barn_undir_7 = 122879\n",
    "    \n",
    "    # SKERÐINGARMÖRK\n",
    "    skerdingarmork = [2700000, 5400000] # [einstætt foreldri, hjón/sambúðarfólk]\n",
    "    \n",
    "    # ÚTREIKNINGUR ÓSKERTRAR BÓTAFJÁRHÆÐAR\n",
    "    stofn_til_skerdingar = sum(tekjur_yearly) - skerdingarmork[info['hjuskaparstada']-2]\n",
    "    if stofn_til_skerdingar < 0:\n",
    "        stofn_til_skerdingar = 0\n",
    "        \n",
    "    almennar_barnabaetur =\\\n",
    "        fjarhaedir_fyrsta_barn[info['hjuskaparstada']-2] +\\\n",
    "        ((fj_barna-1) * fjarhaedir_umfram_born[info['hjuskaparstada']-2]) \n",
    "        \n",
    "    vidbotarbaetur = (fj_barna_undir_7 * vidbotarfjarhaed_hvert_barn_undir_7)\n",
    "        \n",
    "    skerding = (skerdingarhlutfoll[fj_barna-1] * stofn_til_skerdingar)\n",
    "    if skerding > almennar_barnabaetur:\n",
    "        skerding = almennar_barnabaetur\n",
    "    skerding_vidbotar = ((fj_barna_undir_7*skerdingarhlutf_vidbot) * stofn_til_skerdingar)\n",
    "    if skerding_vidbotar > vidbotarbaetur:\n",
    "        skerding_vidbotar = vidbotarbaetur\n",
    "    \n",
    "    baetur = almennar_barnabaetur + vidbotarbaetur - (skerding + skerding_vidbotar)\n",
    "    if baetur < 0:\n",
    "        baetur = 0\n",
    "    \n",
    "    if info['hjuskaparstada'] == 2:\n",
    "        return baetur/12\n",
    "    else:\n",
    "        return baetur/24 #bætur deilast jafnt milli hjóna\n"
   ]
  },
  {
   "cell_type": "code",
   "execution_count": 9,
   "metadata": {
    "collapsed": true
   },
   "outputs": [],
   "source": [
    "def print_dict(person_dict):\n",
    "    print \"\"\n",
    "    print \"\"\n",
    "    print \"==========LAUN============\"\n",
    "    print \"Laun fyrir skatt: {:,}\".format(person_dict['tekjur'][0])\n",
    "    print \" - staðgreiðsla: {:,}\".format(person_dict['stadgreidsla'])\n",
    "    print \" - greitt i lifeyrissparnad: {:,}\".format(person_dict['lifeyrisgreidsla'])\n",
    "    print \"Útborguð laun: {:,}\".format(person_dict['tekjur_e_skatt'])\n",
    "    print \"\"\n",
    "    print \"====HÚSNÆÐISSTUÐNINGUR============\"\n",
    "    print \"Húsnæðisstuðningur á mánuði: {:,}\".format(person_dict['husnaedisstudningur'])\n",
    "    print \"\"\n",
    "    print \"====Barnabætur=========\"\n",
    "    print \"Barnabætur á mánuði: {:,}\".format(person_dict['barnabaetur'])\n",
    "    print \"\"\n",
    "    print \"=====FRÁDRÁTTUR========\"\n",
    "    print \"Útvarpsgjald: {:,}\".format(person_dict['utvarpsgjald'])\n",
    "    print \"\"\n",
    "    print \"\"\n",
    "    print \"====NIÐURSTAÐA========\"\n",
    "    print \"Pjénge í vasann í hverjum mánuði: {:,}\"\\\n",
    "        .format(person_dict['pjeng_i_vasa'])\n",
    "    print \"======================\""
   ]
  },
  {
   "cell_type": "code",
   "execution_count": 28,
   "metadata": {
    "collapsed": true
   },
   "outputs": [],
   "source": [
    "def vasapeningur(bakgrunnsuppl):\n",
    "    tekjur_e_skatt, stadgreidsla, lifeyrisgreidsla, sereignarlifeyrisgr = stadgreidsla_func(bakgrunnsuppl)\n",
    "    husnaedisstudningur, husn_eignaskerding, husn_tekjuskerding =\\\n",
    "        husnaedisstudningur_func(bakgrunnsuppl)\n",
    "    if bakgrunnsuppl['hjuskaparstada'] != 1:\n",
    "        barnabaetur = barnabaetur_func(bakgrunnsuppl)\n",
    "    else: barnabaetur = 0\n",
    "    \n",
    "    if bakgrunnsuppl['tekjur'][0] >= 1678001/12:\n",
    "        utvarpsgjald = 16800/12\n",
    "    else: utvarpsgjald = 0\n",
    "    \n",
    "    netto = tekjur_e_skatt + husnaedisstudningur + barnabaetur - utvarpsgjald\n",
    "    \n",
    "    nidurstodur = {'tekjur': bakgrunnsuppl['tekjur'],\\\n",
    "                   'tekjur_e_skatt': tekjur_e_skatt,\\\n",
    "                   'stadgreidsla': stadgreidsla,\\\n",
    "                   'lifeyrisgreidsla': (lifeyrisgreidsla+sereignarlifeyrisgr),\\\n",
    "                   'husnaedisstudningur': husnaedisstudningur,\\\n",
    "                   'barnabaetur': barnabaetur,\\\n",
    "                   'utvarpsgjald': utvarpsgjald,\\\n",
    "                   'pjeng_i_vasa': netto}\n",
    "    \n",
    "    return netto"
   ]
  },
  {
   "cell_type": "markdown",
   "metadata": {},
   "source": [
    "# Reiknireikn "
   ]
  },
  {
   "cell_type": "code",
   "execution_count": 14,
   "metadata": {},
   "outputs": [
    {
     "name": "stdout",
     "output_type": "stream",
     "text": [
      "1: einhleypur, 2: einst. foreldri, 3: giftur/sambud 3\n",
      "Hver er husnæðisstaða þín? Býrðu í eigin húsnæði, leiguhúsnæði/búsetu eða hvorugt?\n",
      "1: eigin, 2: leigu, 3: hvorugt 1\n",
      "Laun fyrir skatt: 400000\n",
      "Fjarmagnstekjur: 0\n",
      "\tIðgjald í lífeyrissjóð?\n",
      "1: 0%, 2: 4% 2\n",
      "\tIðgjald í séreign?\n",
      "0: 0%, 1: 1%, 2: 2%, 3: 3%, 4: 4% 4\n",
      "Laun maka fyrir skatt: 400000\n",
      "Fjarmagnstekjur maka: 0\n",
      "Allar eignir (samanlagðar eignir hjóna)        að frádregnum öllum skuldum. Með eignum skal telja hlutabréf, innstæður og verðbréf: \n",
      "0\n",
      "Eftirstöðvar í árslok af lánum sem tekin hafa verið til öflunar íbúðarhúsnæðis til eigin nota: \n",
      "35000000\n",
      "Vextir og verðbætur af íbúðarlánum á ársgrundvelli, þ.m.t. dráttarvextir og lántökukostnaður: \n",
      "2000000\n",
      "Fjöldi barna á heimli: \n",
      "3\n",
      " - þar af yngri en 7 ára: \n",
      "1\n"
     ]
    }
   ],
   "source": [
    "prufa = islendingur()"
   ]
  },
  {
   "cell_type": "code",
   "execution_count": 16,
   "metadata": {},
   "outputs": [
    {
     "name": "stdout",
     "output_type": "stream",
     "text": [
      "\n",
      "\n",
      "==========LAUN============\n",
      "Laun fyrir skatt: 400,000\n",
      " - staðgreiðsla: 83,032.2\n",
      " - greitt i lifeyrissparnad: 32,000.0\n",
      "Útborguð laun: 284,967.8\n",
      "\n",
      "====HÚSNÆÐISSTUÐNINGUR============\n",
      "Húsnæðisstuðningur á mánuði: 16,000.0\n",
      "\n",
      "====Barnabætur=========\n",
      "Barnabætur á mánuði: 15,000.3333333\n",
      "\n",
      "=====FRÁDRÁTTUR========\n",
      "Útvarpsgjald: 1,400\n",
      "\n",
      "\n",
      "====NIÐURSTAÐA========\n",
      "Pjénge í vasann í hverjum mánuði: 314,568.133333\n",
      "======================\n"
     ]
    }
   ],
   "source": [
    "print_dict(prufa[0])"
   ]
  },
  {
   "cell_type": "markdown",
   "metadata": {},
   "source": [
    "#### útreikningar réttir skv. reiknivélum rsk"
   ]
  },
  {
   "cell_type": "code",
   "execution_count": 17,
   "metadata": {},
   "outputs": [
    {
     "name": "stdout",
     "output_type": "stream",
     "text": [
      "1: einhleypur, 2: einst. foreldri, 3: giftur/sambud 2\n",
      "Hver er husnæðisstaða þín? Býrðu í eigin húsnæði, leiguhúsnæði/búsetu eða hvorugt?\n",
      "1: eigin, 2: leigu, 3: hvorugt 1\n",
      "Laun fyrir skatt: 420000\n",
      "Fjarmagnstekjur: 0\n",
      "\tIðgjald í lífeyrissjóð?\n",
      "1: 0%, 2: 4% 2\n",
      "\tIðgjald í séreign?\n",
      "0: 0%, 1: 1%, 2: 2%, 3: 3%, 4: 4% 2\n",
      "Allar eignir að frádregnum öllum skuldum. Með eignum skal telja hlutabréf, innstæður og verðbréf: \n",
      "2000000\n",
      "Eftirstöðvar í árslok af lánum sem tekin hafa verið til öflunar íbúðarhúsnæðis til eigin nota: \n",
      "30000000\n",
      "Vextir og verðbætur af íbúðarlánum á ársgrundvelli, þ.m.t. dráttarvextir og lántökukostnaður: \n",
      "1500000\n",
      "Fjöldi barna á heimli: \n",
      "2\n",
      " - þar af yngri en 7 ára: \n",
      "1\n",
      "\n",
      "\n",
      "==========LAUN============\n",
      "Laun fyrir skatt: 420,000\n",
      " - staðgreiðsla: 92,932.12\n",
      " - greitt i lifeyrissparnad: 25,200.0\n",
      "Útborguð laun: 301,867.88\n",
      "\n",
      "====HÚSNÆÐISSTUÐNINGUR============\n",
      "Húsnæðisstuðningur á mánuði: 41,666\n",
      "\n",
      "====Barnabætur=========\n",
      "Barnabætur á mánuði: 48,633.75\n",
      "\n",
      "=====FRÁDRÁTTUR========\n",
      "Útvarpsgjald: 1,400\n",
      "\n",
      "\n",
      "====NIÐURSTAÐA========\n",
      "Pjénge í vasann í hverjum mánuði: 390,767.63\n",
      "======================\n"
     ]
    }
   ],
   "source": [
    "prufa2 = islendingur()\n",
    "print_dict(prufa2[0])"
   ]
  },
  {
   "cell_type": "markdown",
   "metadata": {},
   "source": [
    "#### Rétt skv. reiknivélum rsk "
   ]
  },
  {
   "cell_type": "code",
   "execution_count": 19,
   "metadata": {},
   "outputs": [
    {
     "name": "stdout",
     "output_type": "stream",
     "text": [
      "1: einhleypur, 2: einst. foreldri, 3: giftur/sambud 2\n",
      "Hver er husnæðisstaða þín? Býrðu í eigin húsnæði, leiguhúsnæði/búsetu eða hvorugt?\n",
      "1: eigin, 2: leigu, 3: hvorugt 2\n",
      "Laun fyrir skatt: 420000\n",
      "Fjarmagnstekjur: 0\n",
      "\tIðgjald í lífeyrissjóð?\n",
      "1: 0%, 2: 4% 4\n",
      "1: 0%, 2: 4% 2\n",
      "\tIðgjald í séreign?\n",
      "0: 0%, 1: 1%, 2: 2%, 3: 3%, 4: 4% 2\n",
      "Allar eignir að frádregnum öllum skuldum. Með eignum skal telja hlutabréf, innstæður og verðbréf: \n",
      "2000000\n",
      "fjoldi heimilismanna ad ther medtoldum: 3\n",
      "samanlagdar manadartekjur allra heimilismanna: 420000\n",
      "samanlagdar eignir allra heimilismanna: 2000000\n",
      "manadarlegur husnaediskostnadur: 250000\n",
      "Fjöldi barna á heimli: \n",
      "2\n",
      " - þar af yngri en 7 ára: \n",
      "1\n",
      "\n",
      "\n",
      "==========LAUN============\n",
      "Laun fyrir skatt: 420,000\n",
      " - staðgreiðsla: 92,932.12\n",
      " - greitt i lifeyrissparnad: 25,200.0\n",
      "Útborguð laun: 301,867.88\n",
      "\n",
      "====HÚSNÆÐISSTUÐNINGUR============\n",
      "Húsnæðisstuðningur á mánuði: 48,000\n",
      "\n",
      "====Barnabætur=========\n",
      "Barnabætur á mánuði: 48,633.75\n",
      "\n",
      "=====FRÁDRÁTTUR========\n",
      "Útvarpsgjald: 1,400\n",
      "\n",
      "\n",
      "====NIÐURSTAÐA========\n",
      "Pjénge í vasann í hverjum mánuði: 397,101.63\n",
      "======================\n"
     ]
    }
   ],
   "source": [
    "prufa3 = islendingur()\n",
    "print_dict(prufa3[0])"
   ]
  },
  {
   "cell_type": "markdown",
   "metadata": {},
   "source": [
    "#### Rétt skv. reiknivélum rsk og husbot.is"
   ]
  },
  {
   "cell_type": "code",
   "execution_count": 20,
   "metadata": {},
   "outputs": [
    {
     "name": "stdout",
     "output_type": "stream",
     "text": [
      "1: einhleypur, 2: einst. foreldri, 3: giftur/sambud 2\n",
      "Hver er husnæðisstaða þín? Býrðu í eigin húsnæði, leiguhúsnæði/búsetu eða hvorugt?\n",
      "1: eigin, 2: leigu, 3: hvorugt 2\n",
      "Laun fyrir skatt: 550000\n",
      "Fjarmagnstekjur: 0\n",
      "\tIðgjald í lífeyrissjóð?\n",
      "1: 0%, 2: 4% 4\n",
      "1: 0%, 2: 4% 2\n",
      "\tIðgjald í séreign?\n",
      "0: 0%, 1: 1%, 2: 2%, 3: 3%, 4: 4% 2\n",
      "Allar eignir að frádregnum öllum skuldum. Með eignum skal telja hlutabréf, innstæður og verðbréf: \n",
      "3500000\n",
      "fjoldi heimilismanna ad ther medtoldum: 3\n",
      "samanlagdar manadartekjur allra heimilismanna: 550000\n",
      "samanlagdar eignir allra heimilismanna: 3500000\n",
      "manadarlegur husnaediskostnadur: 250000\n",
      "Fjöldi barna á heimli: \n",
      "2\n",
      " - þar af yngri en 7 ára: \n",
      "1\n",
      "\n",
      "\n",
      "==========LAUN============\n",
      "Laun fyrir skatt: 550,000\n",
      " - staðgreiðsla: 138,072.8\n",
      " - greitt i lifeyrissparnad: 33,000.0\n",
      "Útborguð laun: 378,927.2\n",
      "\n",
      "====HÚSNÆÐISSTUÐNINGUR============\n",
      "Húsnæðisstuðningur á mánuði: 37,670.25\n",
      "\n",
      "====Barnabætur=========\n",
      "Barnabætur á mánuði: 38,393.8333333\n",
      "\n",
      "=====FRÁDRÁTTUR========\n",
      "Útvarpsgjald: 1,400\n",
      "\n",
      "\n",
      "====NIÐURSTAÐA========\n",
      "Pjénge í vasann í hverjum mánuði: 453,591.283333\n",
      "======================\n"
     ]
    }
   ],
   "source": [
    "prufa4 = islendingur()\n",
    "print_dict(prufa4[0])"
   ]
  },
  {
   "cell_type": "markdown",
   "metadata": {},
   "source": [
    "#### Rétt skv. reiknivélum rsk og husbot.is "
   ]
  },
  {
   "cell_type": "code",
   "execution_count": 21,
   "metadata": {},
   "outputs": [
    {
     "name": "stdout",
     "output_type": "stream",
     "text": [
      "1: einhleypur, 2: einst. foreldri, 3: giftur/sambud 2\n",
      "Hver er husnæðisstaða þín? Býrðu í eigin húsnæði, leiguhúsnæði/búsetu eða hvorugt?\n",
      "1: eigin, 2: leigu, 3: hvorugt 2\n",
      "Laun fyrir skatt: 680000\n",
      "Fjarmagnstekjur: 0\n",
      "\tIðgjald í lífeyrissjóð?\n",
      "1: 0%, 2: 4% 2\n",
      "\tIðgjald í séreign?\n",
      "0: 0%, 1: 1%, 2: 2%, 3: 3%, 4: 4% 4\n",
      "Allar eignir að frádregnum öllum skuldum. Með eignum skal telja hlutabréf, innstæður og verðbréf: \n",
      "4500000\n",
      "fjoldi heimilismanna ad ther medtoldum: 3\n",
      "samanlagdar manadartekjur allra heimilismanna: 680000\n",
      "samanlagdar eignir allra heimilismanna: 4500000\n",
      "manadarlegur husnaediskostnadur: 300000\n",
      "Fjöldi barna á heimli: \n",
      "2\n",
      " - þar af yngri en 7 ára: \n",
      "1\n",
      "\n",
      "\n",
      "==========LAUN============\n",
      "Laun fyrir skatt: 680,000\n",
      " - staðgreiðsla: 178,189.64\n",
      " - greitt i lifeyrissparnad: 54,400.0\n",
      "Útborguð laun: 447,410.36\n",
      "\n",
      "====HÚSNÆÐISSTUÐNINGUR============\n",
      "Húsnæðisstuðningur á mánuði: 25,970.25\n",
      "\n",
      "====Barnabætur=========\n",
      "Barnabætur á mánuði: 30,593.8333333\n",
      "\n",
      "=====FRÁDRÁTTUR========\n",
      "Útvarpsgjald: 1,400\n",
      "\n",
      "\n",
      "====NIÐURSTAÐA========\n",
      "Pjénge í vasann í hverjum mánuði: 502,574.443333\n",
      "======================\n"
     ]
    }
   ],
   "source": [
    "prufa5 = islendingur()\n",
    "print_dict(prufa5[0])"
   ]
  },
  {
   "cell_type": "markdown",
   "metadata": {},
   "source": [
    "#### Rétt skv. reiknivélum rsk og husbot.is "
   ]
  },
  {
   "cell_type": "code",
   "execution_count": null,
   "metadata": {
    "collapsed": true
   },
   "outputs": [],
   "source": []
  },
  {
   "cell_type": "markdown",
   "metadata": {},
   "source": [
    "## Þróun útborgunar"
   ]
  },
  {
   "cell_type": "code",
   "execution_count": 23,
   "metadata": {},
   "outputs": [
    {
     "data": {
      "text/plain": [
       "{'busetuform': 1,\n",
       " 'eignir': 0,\n",
       " 'fjoldi_barna': 3,\n",
       " 'fjoldi_barna_undir_7': 1,\n",
       " 'fjoldi_heimilismanna': 0,\n",
       " 'heimiliseignir': 0,\n",
       " 'heimilistekjur': 0,\n",
       " 'hjuskaparstada': 3,\n",
       " 'husnaediskostnadur': 0,\n",
       " 'husnaedislan': 35000000,\n",
       " 'idgjald': 0.04,\n",
       " 'sereignaridgjald': 0.04,\n",
       " 'tekjur': [400000, 0, 400000, 0],\n",
       " 'vaxtagjold': 2000000}"
      ]
     },
     "execution_count": 23,
     "metadata": {},
     "output_type": "execute_result"
    }
   ],
   "source": [
    "prufa[1]"
   ]
  },
  {
   "cell_type": "code",
   "execution_count": 29,
   "metadata": {},
   "outputs": [],
   "source": [
    "vasapjenlisti = []\n",
    "tekjulisti = np.arange(0, 2000000, 1000)\n",
    "for i in tekjulisti:\n",
    "    prufa[1]['tekjur'][0] = i\n",
    "    tekjur_i_vasa = vasapeningur(prufa[1])\n",
    "    vasapjenlisti.append(tekjur_i_vasa)"
   ]
  },
  {
   "cell_type": "code",
   "execution_count": 32,
   "metadata": {},
   "outputs": [
    {
     "data": {
      "text/plain": [
       "(0, 2000000)"
      ]
     },
     "execution_count": 32,
     "metadata": {},
     "output_type": "execute_result"
    },
    {
     "data": {
      "image/png": "[encoded data removed]",
      "text/plain": [
       "<matplotlib.figure.Figure at 0xd126278>"
      ]
     },
     "metadata": {},
     "output_type": "display_data"
    }
   ],
   "source": [
    "fig=pl.figure(figsize(15,15))\n",
    "pl.plot(tekjulisti, vasapjenlisti)\n",
    "pl.xlabel('Manadarlaun fyrir skatt', size=20)\n",
    "pl.ylabel('Peningur i vasann a manudi', size=20)\n",
    "pl.ylim(0,2000000)"
   ]
  }
 ],
 "metadata": {
  "kernelspec": {
   "display_name": "Python 2",
   "language": "python",
   "name": "python2"
  },
  "language_info": {
   "codemirror_mode": {
    "name": "ipython",
    "version": 2
   },
   "file_extension": ".py",
   "mimetype": "text/x-python",
   "name": "python",
   "nbconvert_exporter": "python",
   "pygments_lexer": "ipython2",
   "version": "2.7.13"
  }
 },
 "nbformat": 4,
 "nbformat_minor": 2
}
