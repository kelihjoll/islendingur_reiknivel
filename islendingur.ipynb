{
 "cells": [
  {
   "cell_type": "markdown",
   "metadata": {
    "collapsed": true
   },
   "source": [
    "## Functions"
   ]
  },
  {
   "cell_type": "code",
   "execution_count": 109,
   "metadata": {
    "collapsed": true
   },
   "outputs": [],
   "source": [
    "def islendingur():\n",
    "    bakgrunnsuppl = input_bakgrunnsuppl()\n",
    "    tekjur_e_skatt, stadgreidsla, lifeyrisgreidsla, sereignarlifeyrisgr = stadgreidsla_func(bakgrunnsuppl)\n",
    "    husnaedisstudningur, husn_eignaskerding, husn_tekjuskerding =\\\n",
    "        husnaedisstudningur_func(bakgrunnsuppl)\n",
    "    if hjuskaparstada != 1:\n",
    "        barnabaetur = barnabaetur_func(bakgrunnsuppl)\n",
    "    else: barnabaetur = 0\n",
    "    \n",
    "    if bakgrunnsuppl['tekjur'][0] >= 1678001/12:\n",
    "        utvarpsgjald = 16800/12\n",
    "    else: utvarpsgjald = 0\n",
    "    \n",
    "    netto = tekjur_e_skatt + husnaedisstudningur + barnabaetur - utvarpsgjald\n",
    "    \n",
    "    nidurstodur = {'tekjur': tekjur,\\\n",
    "                   'tekjur_e_skatt': tekjur_e_skatt,\\\n",
    "                   'stadgreidsla': stadgreidsla,\\\n",
    "                   'lifeyrisgreidsla': (lifeyrisgreidsla+sereignarlifeyrisgr),\\\n",
    "                   'husnaedisstudningur': husnaedisstudningur,\\\n",
    "                   'barnabaetur': barnabaetur,\\\n",
    "                   'utvarpsgjald': utvarpsgjald,\\\n",
    "                   'pjeng_i_vasa': netto}\n",
    "    \n",
    "    return nidurstodur"
   ]
  },
  {
   "cell_type": "code",
   "execution_count": 86,
   "metadata": {
    "collapsed": true
   },
   "outputs": [],
   "source": [
    "def input_bakgrunnsuppl():\n",
    "    # HJÚSKAPARSTAÐA\n",
    "    # =======================================================\n",
    "    hjuskaparstada = 4\n",
    "    while hjuskaparstada >3 or hjuskaparstada <1:\n",
    "        hjuskaparstada = int(raw_input('1: einhleypur, 2: einst. foreldri, 3: giftur/sambud '))\n",
    "    \n",
    "    # BÚSETUFORM\n",
    "    # =======================================================\n",
    "    print \"Hver er husnæðisstaða þín? Býrðu í eigin húsnæði, leiguhúsnæði/búsetu eða hvorugt?\"\n",
    "    husn = 4\n",
    "    while husn >3 or husn <1:\n",
    "        husn = int(raw_input('1: eigin, 2: leigu, 3: hvorugt '))\n",
    "    \n",
    "    # TEKJUR OG IÐGJALD\n",
    "    # =======================================================\n",
    "    laun_a_manudi = int(raw_input(\"Laun fyrir skatt: \"))\n",
    "    fjarmagnstekjur = int(raw_input(\"Fjarmagnstekjur: \"))\n",
    "    \n",
    "    print \"\tIðgjald í lífeyrissjóð?\"\n",
    "    idgjald = 3\n",
    "    while idgjald >2 or idgjald <1:\n",
    "        idgjald = int(raw_input('1: 0%, 2: 4% '))\n",
    "    if idgjald == 1:\n",
    "        idgjald = 0.0\n",
    "    elif idgjald == 2:\n",
    "        idgjald = 0.04\n",
    "            \n",
    "    print \"\tIðgjald í séreign?\"\n",
    "    sereignaridgjald = 5\n",
    "    while sereignaridgjald >4 or sereignaridgjald <0:\n",
    "        sereignaridgjald = int(raw_input('0: 0%, 1: 1%, 2: 2%, 3: 3%, 4: 4% '))\n",
    "    sereignaridgjald = sereignaridgjald / 100.0\n",
    "    \n",
    "    if hjuskaparstada == 3:\n",
    "        laun_maka = int(raw_input(\"Laun maka fyrir skatt: \"))\n",
    "        fjarmagnstekjur_maka = int(raw_input(\"Fjarmagnstekjur maka: \"))\n",
    "    else:\n",
    "        laun_maka = 0\n",
    "        fjarmagnstekjur_maka = 0\n",
    "    tekju_uppl = [laun_a_manudi, fjarmagnstekjur, laun_maka, fjarmagnstekjur_maka]\n",
    "    \n",
    "    # EIGNIR\n",
    "    # =======================================================\n",
    "    if hjuskaparstada == 3:\n",
    "        print \"Allar eignir (samanlagðar eignir hjóna) \\\n",
    "        að frádregnum öllum skuldum. Með eignum skal telja hlutabréf, innstæður og verðbréf: \"\n",
    "    else:\n",
    "        print \"Allar eignir að frádregnum öllum skuldum. Með eignum skal telja hlutabréf, innstæður og verðbréf: \"\n",
    "    eignir = int(raw_input())\n",
    "    \n",
    "    # HÚSNÆÐISBREYTUR\n",
    "    # =======================================================\n",
    "    if husn == 1:   \n",
    "        print 'Eftirstöðvar í árslok af lánum sem tekin hafa verið til öflunar íbúðarhúsnæðis til eigin nota: '\n",
    "        eftirstodvar = int(raw_input())\n",
    "        print \"Vextir og verðbætur af íbúðarlánum á ársgrundvelli, þ.m.t. dráttarvextir og lántökukostnaður: \"\n",
    "        vaxtagjold = int(raw_input())\n",
    "    else:\n",
    "        eftirstodvar = 0\n",
    "        vaxtagjold = 0\n",
    "    if husn == 2:\n",
    "        fjoldi_heimilismanna = int(raw_input(\"fjoldi heimilismanna ad ther medtoldum: \"))\n",
    "        if fjoldi_heimilismanna > 4:\n",
    "            fjoldi_heimilismanna = 4\n",
    "        if fjoldi_heimilismanna == 1:\n",
    "            heimilistekjur = (tekju_uppl[0] + tekju_uppl[1])\n",
    "            heimiliseignir = eignir\n",
    "        elif fjoldi_heimilismanna == 2 and hjuskaparstada == 3:\n",
    "            heimilistekjur = sum(tekju_uppl)\n",
    "            heimiliseignir = eignir\n",
    "        else:\n",
    "            heimilistekjur = int(raw_input('samanlagdar manadartekjur allra heimilismanna: '))\n",
    "            heimiliseignir = int(raw_input('samanlagdar eignir allra heimilismanna: '))\n",
    "        husnaediskostnadur = int(raw_input('manadarlegur husnaediskostnadur: '))\n",
    "    else: \n",
    "        fjoldi_heimilismanna = 0\n",
    "        heimilistekjur = 0\n",
    "        heimiliseignir = 0\n",
    "        husnaediskostnadur = 0\n",
    "        \n",
    "    # BÖRN\n",
    "    # =======================================================\n",
    "    if hjuskaparstada != 1:    \n",
    "        print \"Fjöldi barna á heimli: \"\n",
    "        fj_barna = int(raw_input())\n",
    "        if fj_barna != 0:\n",
    "            print \" - þar af yngri en 7 ára: \"\n",
    "            fj_barna_undir_7 = fj_barna + 1\n",
    "            while fj_barna_undir_7 > fj_barna:\n",
    "                fj_barna_undir_7 = int(raw_input())\n",
    "        elif fj_barna == 0:\n",
    "            fj_barna_undir_7 = 0\n",
    "        if fj_barna > 3:\n",
    "            fj_barna = 3\n",
    "    else:\n",
    "        fj_barna = 0\n",
    "        fj_barna_undir_7 = 0\n",
    "    \n",
    "    bakgrunnsuppl = {'hjuskaparstada': hjuskaparstada,\\\n",
    "                    'busetuform': husn,\\\n",
    "                    'tekjur': tekju_uppl,\\\n",
    "                    'eignir': eignir,\\\n",
    "                    'husnaedislan': eftirstodvar,\\\n",
    "                    'vaxtagjold': vaxtagjold,\\\n",
    "                    'husnaediskostnadur': husnaediskostnadur,\\\n",
    "                    'fjoldi_heimilismanna': fjoldi_heimilismanna,\\\n",
    "                    'heimilistekjur': heimilistekjur,\\\n",
    "                    'heimiliseignir': heimiliseignir,\\\n",
    "                    'fjoldi_barna': fj_barna,\\\n",
    "                    'fjoldi_barna_undir_7': fj_barna_undir_7,\\\n",
    "                    'idgjald': idgjald,\\\n",
    "                    'sereignaridgjald': sereignaridgjald\n",
    "                    }\n",
    "    \n",
    "    return bakgrunnsuppl"
   ]
  },
  {
   "cell_type": "code",
   "execution_count": 99,
   "metadata": {
    "collapsed": true
   },
   "outputs": [],
   "source": [
    "def stadgreidsla_func(info):\n",
    "    \n",
    "    skattthrep = 834707\n",
    "    skatthlutfall_nedra = 0.3694\n",
    "    skatthlutfall_efra = 0.4624\n",
    "    personuafsl = 52907\n",
    "    \n",
    "    lifeyrir = (info['tekjur'][0] * info['idgjald'])\n",
    "    serlifeyrir = (info['tekjur'][0] * info['sereignaridgjald'])\n",
    "    \n",
    "    stofn = info['tekjur'][0] - lifeyrir - serlifeyrir\n",
    "    \n",
    "    if stofn <= skattthrep:\n",
    "        skattstofn_1 = stofn\n",
    "        skattstofn_2 = 0\n",
    "    else:\n",
    "        skattstofn_1 = skattthrep\n",
    "        skattstofn_2 = stofn - skattthrep\n",
    "        \n",
    "    skattur_nedra_threp = (skattstofn_1*skatthlutfall_nedra)\n",
    "    skattur_efra_threp = (skattstofn_2*skatthlutfall_efra)\n",
    "    \n",
    "    reiknud_stadgreidsla = skattur_nedra_threp + skattur_efra_threp\n",
    "    stadgreidsla_alls = reiknud_stadgreidsla - personuafsl\n",
    "    \n",
    "    laun_e_skatt = stofn - stadgreidsla_alls\n",
    "    \n",
    "    return laun_e_skatt, stadgreidsla_alls, lifeyrir, serlifeyrir        "
   ]
  },
  {
   "cell_type": "code",
   "execution_count": 101,
   "metadata": {
    "collapsed": true
   },
   "outputs": [],
   "source": [
    "def husnaedisstudningur_func(info):\n",
    "\n",
    "    if info['busetuform'] == 1:      \n",
    "        studningur = vaxtabaetur_func(info)\n",
    "        \n",
    "    elif info['busetuform'] == 2:\n",
    "        studningur = husnaedisbaetur_func(info)\n",
    "        \n",
    "    else:\n",
    "        studningur = 0\n",
    "    \n",
    "    return studningur"
   ]
  },
  {
   "cell_type": "code",
   "execution_count": 73,
   "metadata": {
    "collapsed": true,
    "scrolled": true
   },
   "outputs": [],
   "source": [
    "def vaxtabaetur_func(info):\n",
    "    \n",
    "    hamark_vaxtagjalda = [800000, 1000000, 1200000] #fyrir: [einstakling, einstætt foreldri, hjón]\n",
    "    hamark_bota = [400000, 500000, 600000] #fyrir: [einstakling, einstætt foreldri, hjón]\n",
    "    tekjur_yearly = [info['tekjur'][0]*12,\\\n",
    "                     info['tekjur'][1]*12,\\\n",
    "                     info['tekjur'][2]*12,\\\n",
    "                     info['tekjur'][3]*12]\n",
    "    \n",
    "    eignaskerdingarmork_nedri = [4500000.0, 4500000.0, 7300000.0] #fyrir: [einstakling, einstætt foreldri, hjón]\n",
    "    eignaskerdingarmork_efri = [7200000.0, 7200000.0, 11680000.0] #fyrir: [einstakling, einstætt foreldri, hjón]\n",
    "\n",
    "    stofn_list = [hamark_vaxtagjalda[info['hjuskaparstada']-1], \n",
    "                  0.07*info['husnaedislan'], \n",
    "                  info['vaxtagjold']]\n",
    "    stofn =  min(float(s) for s in stofn_list)\n",
    "    \n",
    "    tekjuskerding = (0.085 * sum(tekjur_yearly))\n",
    "    baetur = stofn - tekjuskerding\n",
    "    if baetur < 0:\n",
    "        baetur = 0\n",
    "    \n",
    "    if info['eignir'] >= eignaskerdingarmork_efri[info['hjuskaparstada']-1]:\n",
    "        eignaskerding = baetur\n",
    "        baetur = 0\n",
    "        \n",
    "    elif info['eignir'] >= eignaskerdingarmork_nedri[info['hjuskaparstada']-1]:\n",
    "        eignaskerding =\\\n",
    "            baetur *\\\n",
    "            ((info['eignir'] - eignaskerdingarmork_nedri[info['hjuskaparstada']-1]) /\n",
    "            (eignaskerdingarmork_efri[info['hjuskaparstada']-1] - \n",
    "             eignaskerdingarmork_nedri[info['hjuskaparstada']-1]))\n",
    "        baetur -= eignaskerding\n",
    "    \n",
    "    else:\n",
    "        eignaskerding = 0\n",
    "            \n",
    "    if baetur > hamark_bota[info['hjuskaparstada']-1]:\n",
    "        baetur = hamark_bota[info['hjuskaparstada']-1]\n",
    "\n",
    "    if hjuskaparstada == 3:\n",
    "        baetur = baetur/24 #bætur deilast jafnt milli hjóna\n",
    "    else:\n",
    "        baetur = baetur/12\n",
    "    tekjuskerding = tekjuskerding/12\n",
    "    eignaskerding = (eignaskerding/12)\n",
    "    \n",
    "    if baetur < 0:\n",
    "        baetur = 0\n",
    "    if tekjuskerding < 0:\n",
    "        tekjuskerding = 0\n",
    "    if eignaskerding < 0:\n",
    "        eignaskerding = 0\n",
    "            \n",
    "    return baetur, tekjuskerding, eignaskerding"
   ]
  },
  {
   "cell_type": "code",
   "execution_count": 108,
   "metadata": {},
   "outputs": [],
   "source": [
    "def husnaedisbaetur_func(info):\n",
    "\n",
    "    grunnfjarhaedir = [372000/12, 492000/12, 576000/12, 624000/12]\n",
    "    fritekjumark = [3373000/12, 4461064/12, 5222710/12, 5657936/12]\n",
    "    eignaskerdingarmork_nedri = 6500000.0\n",
    "    eignaskerdingarmork_efri = 10400000.0\n",
    "    \n",
    "    stofn = grunnfjarhaedir[(info['fjoldi_heimilismanna']-1)]\n",
    "    \n",
    "    if info['heimilistekjur'] <= fritekjumark[info['fjoldi_heimilismanna']-1]:\n",
    "        baetur = stofn\n",
    "        tekjuskerding = 0\n",
    "    else:\n",
    "        tekjuskerding = 0.09 *\\\n",
    "        (info['heimilistekjur'] - fritekjumark[info['fjoldi_heimilismanna']-1])\n",
    "        baetur = stofn - tekjuskerding\n",
    "    \n",
    "    if info['heimiliseignir'] >= eignaskerdingarmork_efri:\n",
    "        eignaskerding = baetur\n",
    "        baetur = 0\n",
    "    elif info['heimiliseignir'] >= eignaskerdingarmork_nedri:\n",
    "        eignaskerding = baetur *\\\n",
    "            ((info['heimiliseignir'] - eignaskerdingarmork_nedri) /\n",
    "             (eignaskerdingarmork_efri - eignaskerdingarmork_nedri))\n",
    "        baetur -= eignaskerding\n",
    "    else:\n",
    "        eignaskerding = 0\n",
    "    \n",
    "    if baetur > 0.75*info['husnaediskostnadur']:\n",
    "        baetur = 0.75*info['husnaediskostnadur']\n",
    "    if baetur < 0:\n",
    "        baetur = 0\n",
    "    if tekjuskerding < 0:\n",
    "        tekjuskerding = 0\n",
    "    if eignaskerding < 0:\n",
    "        eignaskerding = 0\n",
    "            \n",
    "    return baetur, tekjuskerding, eignaskerding"
   ]
  },
  {
   "cell_type": "code",
   "execution_count": 85,
   "metadata": {},
   "outputs": [],
   "source": [
    "def barnabaetur_func(info):\n",
    "    tekjur_yearly = [info['tekjur'][0]*12, \n",
    "                     info['tekjur'][1]*12, \n",
    "                     info['tekjur'][2]*12, \n",
    "                     info['tekjur'][3]*12]\n",
    "    \n",
    "    fj_barna = info['fjoldi_barna']\n",
    "    fj_barna_undir_7 = info['fjoldi_barna_undir_7']\n",
    "    \n",
    "    # SKERÐINGARHLUFÖLL\n",
    "    skerdingarhlutfoll = [0.04, 0.06, 0.08] # [1 barn, 2 börn, 3 börn eða fleiri]\n",
    "    skerdingarhlutf_vidbot = 0.04\n",
    "    \n",
    "    # FJÁRHÆÐIR 2017\n",
    "    fjarhaedir_fyrsta_barn = [342939, 205834] # [einstætt foreldri, hjón/sambúðarfólk]\n",
    "    fjarhaedir_umfram_born = [351787, 245087] # [einstætt foreldri, hjón/sambúðarfólk]\n",
    "    vidbotarfjarhaed_hvert_barn_undir_7 = 122879\n",
    "    \n",
    "    # SKERÐINGARMÖRK\n",
    "    skerdingarmork = [2700000, 5400000] # [einstætt foreldri, hjón/sambúðarfólk]\n",
    "    \n",
    "    # ÚTREIKNINGUR ÓSKERTRAR BÓTAFJÁRHÆÐAR\n",
    "    stofn_til_skerdingar = sum(tekjur_yearly) - skerdingarmork[info['hjuskaparstada']-2]\n",
    "    if stofn_til_skerdingar < 0:\n",
    "        stofn_til_skerdingar = 0\n",
    "        \n",
    "    almennar_barnabaetur =\\\n",
    "        fjarhaedir_fyrsta_barn[info['hjuskaparstada']-2] +\\\n",
    "        ((fj_barna-1) * fjarhaedir_umfram_born[info['hjuskaparstada']-2]) \n",
    "        \n",
    "    vidbotarbaetur = (fj_barna_undir_7 * vidbotarfjarhaed_hvert_barn_undir_7)\n",
    "        \n",
    "    skerding = (skerdingarhlutfoll[fj_barna-1] * stofn_til_skerdingar)\n",
    "    if skerding > almennar_barnabaetur:\n",
    "        skerding = almennar_barnabaetur\n",
    "    skerding_vidbotar = ((fj_barna_undir_7*skerdingarhlutf_vidbot) * stofn_til_skerdingar)\n",
    "    if skerding_vidbotar > vidbotarbaetur:\n",
    "        skerding_vidbotar = vidbotarbaetur\n",
    "    \n",
    "    baetur = almennar_barnabaetur + vidbotarbaetur - (skerding + skerding_vidbotar)\n",
    "    if baetur < 0:\n",
    "        baetur = 0\n",
    "    \n",
    "    if hjuskaparstada == 2:\n",
    "        return baetur/12\n",
    "    else:\n",
    "        return baetur/24 #bætur deilast jafnt milli hjóna\n"
   ]
  },
  {
   "cell_type": "code",
   "execution_count": 44,
   "metadata": {},
   "outputs": [],
   "source": [
    "def print_dict(person_dict):\n",
    "    print \"\"\n",
    "    print \"\"\n",
    "    print \"==========LAUN============\"\n",
    "    print \"Laun fyrir skatt: {:,}\".format(person_dict['tekjur'][0])\n",
    "    print \" - staðgreiðsla: {:,}\".format(person_dict['stadgreidsla'])\n",
    "    print \" - greitt i lifeyrissparnad: {:,}\".format(person_dict['lifeyrisgreidsla'])\n",
    "    print \"Útborguð laun: {:,}\".format(person_dict['tekjur_e_skatt'])\n",
    "    print \"\"\n",
    "    print \"====HÚSNÆÐISSTUÐNINGUR============\"\n",
    "    print \"Húsnæðisstuðningur á mánuði: {:,}\".format(person_dict['husnaedisstudningur'])\n",
    "    print \"\"\n",
    "    print \"====Barnabætur=========\"\n",
    "    print \"Barnabætur á mánuði: {:,}\".format(person_dict['barnabaetur'])\n",
    "    print \"\"\n",
    "    print \"=====FRÁDRÁTTUR========\"\n",
    "    print \"Útvarpsgjald: {:,}\".format(person_dict['utvarpsgjald'])\n",
    "    print \"\"\n",
    "    print \"\"\n",
    "    print \"====NIÐURSTAÐA========\"\n",
    "    print \"Pjénge í vasann í hverjum mánuði: {:,}\"\\\n",
    "        .format(person_dict['pjeng_i_vasa'])\n",
    "    print \"======================\""
   ]
  },
  {
   "cell_type": "code",
   "execution_count": null,
   "metadata": {
    "collapsed": true
   },
   "outputs": [],
   "source": [
    "def pen_i_vasa(tekjur):\n",
    "    tekjur_e_skatt, stadgreidsla, lifeyrisgreidsla, sereignarlifeyrisgr = stadgreidsla_func(tekjur[0])\n",
    "    husnaedisstudningur, husn_eignaskerding, husn_tekjuskerding =\\\n",
    "        husnaedisstudningur_func(tekjur, hjuskaparstada)\n",
    "    if hjuskaparstada != 1:\n",
    "        barnabaetur = barnabaetur_func(hjuskaparstada, tekjur)\n",
    "    else: barnabaetur = 0\n",
    "    \n",
    "    if tekjur[0] >= 1678001/12:\n",
    "        utvarpsgjald = 16800/12\n",
    "    else: utvarpsgjald = 0\n",
    "    \n",
    "    #print_all(tekjur, tekjur_e_skatt, stadgreidsla, lifeyrisgreidsla,\\\n",
    "    #          sereignarlifeyrisgr, husnaedisstudningur, barnabaetur, utvarpsgjald)\n",
    "    netto = tekjur_e_skatt + husnaedisstudningur + barnabaetur - utvarpsgjald\n",
    "    \n",
    "    nidurstodur = {'tekjur': tekjur,\\\n",
    "                   'tekjur_e_skatt': tekjur_e_skatt,\\\n",
    "                   'stadgreidsla': stadgreidsla,\\\n",
    "                   'lifeyrisgreidsla': (lifeyrisgreidsla+sereignarlifeyrisgr),\\\n",
    "                   'husnaedisstudningur': husnaedisstudningur,\\\n",
    "                   'barnabaetur': barnabaetur,\\\n",
    "                   'utvarpsgjald': utvarpsgjald,\\\n",
    "                   'pjeng_i_vasa': netto}\n",
    "    \n",
    "    return nidurstodur  "
   ]
  },
  {
   "cell_type": "markdown",
   "metadata": {},
   "source": [
    "# Reiknireikn "
   ]
  },
  {
   "cell_type": "code",
   "execution_count": 13,
   "metadata": {
    "scrolled": true
   },
   "outputs": [
    {
     "name": "stdout",
     "output_type": "stream",
     "text": [
      "1: einhleypur, 2: einst. foreldri, 3: giftur/sambud 1\n",
      "Laun fyrir skatt: 400000\n",
      "Fjarmagnstekjur: 20000\n",
      "\tIðgjald í lífeyrissjóð?\n",
      "1: 0%, 2: 4% 2\n",
      "\tIðgjald í séreign?\n",
      "0: 0%, 1: 1%, 2: 2%, 3: 3%, 4: 4% 4\n",
      "Hver er husnæðisstaða þín? Býrðu í eigin húsnæði, leiguhúsnæði eða hvorugt?\n",
      "1: eigin, 2: leigu, 3: hvorugt 2\n",
      "fjoldi heimilismanna ad ther medtoldum: 1\n",
      "samanlagdar eignir allra heimilismanna: 1000000\n",
      "manadarlegur husnaediskostnadur: 240000\n"
     ]
    }
   ],
   "source": [
    "kelson = islendingur_input()"
   ]
  },
  {
   "cell_type": "code",
   "execution_count": 14,
   "metadata": {},
   "outputs": [
    {
     "data": {
      "text/plain": [
       "{'allar_baetur': [18497.47, 0],\n",
       " 'allar_tekjur': [[400000, 20000, 0, 0], 284967.8],\n",
       " 'fradrattur': [1400, 83032.20000000001, 16000.0],\n",
       " 'pjeng_i_vasa': 302065.27}"
      ]
     },
     "execution_count": 14,
     "metadata": {},
     "output_type": "execute_result"
    }
   ],
   "source": [
    "kelson"
   ]
  },
  {
   "cell_type": "code",
   "execution_count": 50,
   "metadata": {},
   "outputs": [
    {
     "name": "stdout",
     "output_type": "stream",
     "text": [
      "1: einhleypur, 2: einst. foreldri, 3: giftur/sambud 2\n",
      "Laun fyrir skatt: 600000\n",
      "Fjarmagnstekjur: 20000\n",
      "\tIðgjald í lífeyrissjóð?\n",
      "1: 0%, 2: 4% 2\n",
      "\tIðgjald í séreign?\n",
      "0: 0%, 1: 1%, 2: 2%, 3: 3%, 4: 4% 4\n",
      "Hver er husnæðisstaða þín? Býrðu í eigin húsnæði, leiguhúsnæði eða hvorugt?\n",
      "1: eigin, 2: leigu, 3: hvorugt 2\n",
      "fjoldi heimilismanna ad ther medtoldum: 2\n",
      "samanlagdar manadartekjur allra heimilismanna: 620000\n",
      "samanlagdar eignir allra heimilismanna: 1000000\n",
      "manadarlegur husnaediskostnadur: 240000\n",
      "Fjöldi barna á heimli: \n",
      "1\n",
      " - þar af yngri en 7 ára: \n",
      "1\n"
     ]
    }
   ],
   "source": [
    "sextuttuguthus_a_manudi = islendingur_input()"
   ]
  },
  {
   "cell_type": "code",
   "execution_count": 37,
   "metadata": {},
   "outputs": [
    {
     "data": {
      "text/plain": [
       "{'barnabaetur': 12778.25,\n",
       " 'husnaedisstudningur': 18657.95,\n",
       " 'lifeyrisgreidsla': 24000.0,\n",
       " 'pjeng_i_vasa': 431034.39999999997,\n",
       " 'stadgreidsla': 151001.80000000002,\n",
       " 'tekjur': [600000, 20000, 0, 0],\n",
       " 'tekjur_e_skatt': 400998.19999999995,\n",
       " 'utvarpsgjald': 1400}"
      ]
     },
     "execution_count": 37,
     "metadata": {},
     "output_type": "execute_result"
    }
   ],
   "source": [
    "sextuttuguthus_a_manudi"
   ]
  },
  {
   "cell_type": "code",
   "execution_count": 51,
   "metadata": {},
   "outputs": [
    {
     "name": "stdout",
     "output_type": "stream",
     "text": [
      "\n",
      "\n",
      "==========LAUN============\n",
      "Laun fyrir skatt: 600,000\n",
      " - staðgreiðsla: 151,001.8\n",
      " - greitt i lifeyrissparnad: 48,000.0\n",
      "Útborguð laun: 400,998.2\n",
      "\n",
      "====HÚSNÆÐISSTUÐNINGUR============\n",
      "Húsnæðisstuðningur á mánuði: 18,657.95\n",
      "\n",
      "====Barnabætur=========\n",
      "Barnabætur á mánuði: 12,778.25\n",
      "\n",
      "=====FRÁDRÁTTUR========\n",
      "Útvarpsgjald: 1,400\n",
      "\n",
      "\n",
      "====NIÐURSTAÐA========\n",
      "Pjénge í vasann í hverjum mánuði: 431,034.4\n",
      "======================\n"
     ]
    }
   ],
   "source": [
    "print_dict(sextuttuguthus_a_manudi)"
   ]
  },
  {
   "cell_type": "code",
   "execution_count": 18,
   "metadata": {
    "scrolled": false
   },
   "outputs": [
    {
     "name": "stdout",
     "output_type": "stream",
     "text": [
      "\n",
      "\n",
      "==========LAUN============\n",
      "Tekjur fyrir skatt: 400,000\n",
      " - staðgreiðsla: 83,032.2\n",
      " - greitt i lifeyrissparnad: 16,000.0\n",
      "Útborguð laun: 284,967.8\n",
      "\n",
      "====HÚSNÆÐISSTUÐNINGUR============\n",
      "Húsnæðisstuðningur á mánuði: 18,497.47\n",
      "\n",
      "====Barnabætur=========\n",
      "Barnabætur á mánuði: 0\n",
      "\n",
      "=====FRÁDRÁTTUR========\n",
      "Útvarpsgjald: 1,400\n",
      "\n",
      "\n",
      "====NIÐURSTAÐA========\n",
      "Pjénge í vasann í hverjum mánuði: 302,065.27\n",
      "======================\n"
     ]
    }
   ],
   "source": [
    "print_dict(kelson)"
   ]
  },
  {
   "cell_type": "code",
   "execution_count": null,
   "metadata": {
    "collapsed": true
   },
   "outputs": [],
   "source": []
  }
 ],
 "metadata": {
  "kernelspec": {
   "display_name": "Python 2",
   "language": "python",
   "name": "python2"
  },
  "language_info": {
   "codemirror_mode": {
    "name": "ipython",
    "version": 2
   },
   "file_extension": ".py",
   "mimetype": "text/x-python",
   "name": "python",
   "nbconvert_exporter": "python",
   "pygments_lexer": "ipython2",
   "version": "2.7.13"
  }
 },
 "nbformat": 4,
 "nbformat_minor": 2
}
