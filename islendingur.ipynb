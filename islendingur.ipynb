{
 "cells": [
  {
   "cell_type": "code",
   "execution_count": 1,
   "metadata": {},
   "outputs": [
    {
     "name": "stdout",
     "output_type": "stream",
     "text": [
      "Populating the interactive namespace from numpy and matplotlib\n"
     ]
    },
    {
     "name": "stderr",
     "output_type": "stream",
     "text": [
      "C:\\Users\\kelihjoll\\Anaconda2\\lib\\site-packages\\IPython\\core\\magics\\pylab.py:161: UserWarning: pylab import has clobbered these variables: ['random']\n",
      "`%matplotlib` prevents importing * from pylab and numpy\n",
      "  \"\\n`%matplotlib` prevents importing * from pylab and numpy\"\n"
     ]
    }
   ],
   "source": [
    "import numpy as np\n",
    "import matplotlib.pyplot as plt\n",
    "import seaborn as sb\n",
    "import math\n",
    "from IPython.core.display import display, HTML\n",
    "from string import Template\n",
    "import pandas as pd\n",
    "import json\n",
    "import random\n",
    "import pickle\n",
    "\n",
    "%pylab inline"
   ]
  },
  {
   "cell_type": "markdown",
   "metadata": {
    "collapsed": true
   },
   "source": [
    "## Functions"
   ]
  },
  {
   "cell_type": "code",
   "execution_count": 2,
   "metadata": {
    "collapsed": true
   },
   "outputs": [],
   "source": [
    "def islendingur():\n",
    "    bakgrunnsuppl = input_bakgrunnsuppl()\n",
    "    tekjur_e_skatt, stadgreidsla, lifeyrisgreidsla, sereignarlifeyrisgr = stadgreidsla_func(bakgrunnsuppl)\n",
    "    husnaedisstudningur, husn_eignaskerding, husn_tekjuskerding =\\\n",
    "        husnaedisstudningur_func(bakgrunnsuppl)\n",
    "    if bakgrunnsuppl['hjuskaparstada'] != 1:\n",
    "        barnabaetur = barnabaetur_func(bakgrunnsuppl)\n",
    "    else: barnabaetur = 0\n",
    "    \n",
    "    if bakgrunnsuppl['tekjur'][0] >= 1678001/12:\n",
    "        utvarpsgjald = 16800/12\n",
    "    else: utvarpsgjald = 0\n",
    "    \n",
    "    netto = tekjur_e_skatt + husnaedisstudningur + barnabaetur - utvarpsgjald\n",
    "    \n",
    "    nidurstodur = {'tekjur': bakgrunnsuppl['tekjur'],\\\n",
    "                   'tekjur_e_skatt': tekjur_e_skatt,\\\n",
    "                   'stadgreidsla': stadgreidsla,\\\n",
    "                   'lifeyrisgreidsla': (lifeyrisgreidsla+sereignarlifeyrisgr),\\\n",
    "                   'husnaedisstudningur': husnaedisstudningur,\\\n",
    "                   'barnabaetur': barnabaetur,\\\n",
    "                   'utvarpsgjald': utvarpsgjald,\\\n",
    "                   'pjeng_i_vasa': netto}\n",
    "    \n",
    "    return nidurstodur, bakgrunnsuppl"
   ]
  },
  {
   "cell_type": "code",
   "execution_count": 3,
   "metadata": {
    "collapsed": true
   },
   "outputs": [],
   "source": [
    "def input_bakgrunnsuppl():\n",
    "    # HJÚSKAPARSTAÐA\n",
    "    # =======================================================\n",
    "    hjuskaparstada = 4\n",
    "    while hjuskaparstada >3 or hjuskaparstada <1:\n",
    "        hjuskaparstada = int(raw_input('1: einhleypur, 2: einst. foreldri, 3: giftur/sambud '))\n",
    "    \n",
    "    # BÚSETUFORM\n",
    "    # =======================================================\n",
    "    print \"Hver er husnæðisstaða þín? Býrðu í eigin húsnæði, leiguhúsnæði/búsetu eða hvorugt?\"\n",
    "    husn = 4\n",
    "    while husn >3 or husn <1:\n",
    "        husn = int(raw_input('1: eigin, 2: leigu, 3: hvorugt '))\n",
    "    \n",
    "    # TEKJUR OG IÐGJALD\n",
    "    # =======================================================\n",
    "    laun_a_manudi = int(raw_input(\"Laun fyrir skatt: \"))\n",
    "    fjarmagnstekjur = int(raw_input(\"Fjarmagnstekjur: \"))\n",
    "    \n",
    "    print \"\tIðgjald í lífeyrissjóð?\"\n",
    "    idgjald = 3\n",
    "    while idgjald >2 or idgjald <1:\n",
    "        idgjald = int(raw_input('1: 0%, 2: 4% '))\n",
    "    if idgjald == 1:\n",
    "        idgjald = 0.0\n",
    "    elif idgjald == 2:\n",
    "        idgjald = 0.04\n",
    "            \n",
    "    print \"\tIðgjald í séreign?\"\n",
    "    sereignaridgjald = 5\n",
    "    while sereignaridgjald >4 or sereignaridgjald <0:\n",
    "        sereignaridgjald = int(raw_input('0: 0%, 1: 1%, 2: 2%, 3: 3%, 4: 4% '))\n",
    "    sereignaridgjald = sereignaridgjald / 100.0\n",
    "    \n",
    "    if hjuskaparstada == 3:\n",
    "        laun_maka = int(raw_input(\"Laun maka fyrir skatt: \"))\n",
    "        fjarmagnstekjur_maka = int(raw_input(\"Fjarmagnstekjur maka: \"))\n",
    "    else:\n",
    "        laun_maka = 0\n",
    "        fjarmagnstekjur_maka = 0\n",
    "    tekju_uppl = [laun_a_manudi, fjarmagnstekjur, laun_maka, fjarmagnstekjur_maka]\n",
    "    \n",
    "    # EIGNIR\n",
    "    # =======================================================\n",
    "    if hjuskaparstada == 3:\n",
    "        print \"Allar eignir (samanlagðar eignir hjóna) að frádregnum öllum skuldum.\"\n",
    "        print \"Með eignum skal telja hlutabréf, innstæður og verðbréf: \"\n",
    "    else:\n",
    "        print \"Allar eignir að frádregnum öllum skuldum. Með eignum skal telja hlutabréf, innstæður og verðbréf: \"\n",
    "    eignir = int(raw_input())\n",
    "    \n",
    "    # HÚSNÆÐISBREYTUR\n",
    "    # =======================================================\n",
    "    if husn == 1:   \n",
    "        print 'Eftirstöðvar í árslok af lánum sem tekin hafa verið til öflunar íbúðarhúsnæðis til eigin nota: '\n",
    "        eftirstodvar = int(raw_input())\n",
    "        print \"Vextir og verðbætur af íbúðarlánum á ársgrundvelli, þ.m.t. dráttarvextir og lántökukostnaður: \"\n",
    "        vaxtagjold = int(raw_input())\n",
    "    else:\n",
    "        eftirstodvar = 0\n",
    "        vaxtagjold = 0\n",
    "    if husn == 2:\n",
    "        fjoldi_heimilismanna = int(raw_input(\"fjoldi heimilismanna ad ther medtoldum: \"))\n",
    "        if fjoldi_heimilismanna > 4:\n",
    "            fjoldi_heimilismanna = 4\n",
    "        if fjoldi_heimilismanna == 1:\n",
    "            heimilistekjur = (tekju_uppl[0] + tekju_uppl[1])\n",
    "            heimiliseignir = eignir\n",
    "        elif fjoldi_heimilismanna == 2 and hjuskaparstada == 3:\n",
    "            heimilistekjur = sum(tekju_uppl)\n",
    "            heimiliseignir = eignir\n",
    "        else:\n",
    "            heimilistekjur = int(raw_input('samanlagdar manadartekjur allra heimilismanna: '))\n",
    "            heimiliseignir = int(raw_input('samanlagdar eignir allra heimilismanna: '))\n",
    "        husnaediskostnadur = int(raw_input('manadarlegur husnaediskostnadur: '))\n",
    "    else: \n",
    "        fjoldi_heimilismanna = 0\n",
    "        heimilistekjur = 0\n",
    "        heimiliseignir = 0\n",
    "        husnaediskostnadur = 0\n",
    "        \n",
    "    # BÖRN\n",
    "    # =======================================================\n",
    "    if hjuskaparstada != 1:    \n",
    "        print \"Fjöldi barna á heimli: \"\n",
    "        fj_barna = int(raw_input())\n",
    "        if fj_barna != 0:\n",
    "            print \" - þar af yngri en 7 ára: \"\n",
    "            fj_barna_undir_7 = fj_barna + 1\n",
    "            while fj_barna_undir_7 > fj_barna:\n",
    "                fj_barna_undir_7 = int(raw_input())\n",
    "        elif fj_barna == 0:\n",
    "            fj_barna_undir_7 = 0\n",
    "        if fj_barna > 3:\n",
    "            fj_barna = 3\n",
    "    else:\n",
    "        fj_barna, fj_barna_undir_7 = 0\n",
    "        \n",
    "    # ÖRORKA\n",
    "    # =======================================================\n",
    "    aldur = -1\n",
    "    while aldur <= 0:\n",
    "        aldur = int(raw_input(\"Aldur?\"))\n",
    "    \n",
    "    if aldur < 67:\n",
    "        print \"Hlutfall örorku?\"\n",
    "        ororkuhlutfall = int(raw_input(\"Hlutfall i prosentum: \"))\n",
    "        if ororkuhlutfall != 0:\n",
    "            if ororkuhlutfall >= 75:\n",
    "                print \"Fyrsta 75% örorkumat?\"\n",
    "                fyrsta_75_mat = int(raw_input(\"Aldur vid fyrsta mat: \"))\n",
    "            else:\n",
    "                fyrsta_75_mat = 0\n",
    "            print \"Býrðu einn?\"\n",
    "            byr_einn = 2\n",
    "            while byr_einn <0 or byr_einn >1:\n",
    "                byr_einn = int(raw_input(\"0: by ein/n, 1: by ekki ein/n: \"))\n",
    "            print \"Hreyfihömlunarmat?\"\n",
    "            hreyfihomlun = 3\n",
    "            while hreyfihomlun <0 or hreyfihomlun >2:\n",
    "                hreyfihomlun = int(raw_input(\"0: Nei, 1: Ja, bensinstyrkur fra TR, 2: Ja, uppbot v/reksturs bifreidar fra TR\"))\n",
    "            if fj_barna >0:\n",
    "                medlag_fj = 100\n",
    "                while medlag_fj > fj_barna:\n",
    "                    medlag_fj = int(raw_input(\"Fjoldi barna sem medlag faest greitt med fra TR: \"))\n",
    "\n",
    "    else:\n",
    "        ororkuhlutfall, fyrsta_75_mat, byr_einn, hreyfihomlun, medlag_fj = 0\n",
    "    \n",
    "    # ELLILÍFEYRIR\n",
    "    # =======================================================\n",
    "    if aldur >= 67:\n",
    "        print \"Býrðu einn?\"\n",
    "        byr_einn = 2\n",
    "        while byr_einn <0 or byr_einn >1:\n",
    "            byr_einn = int(raw_input(\"0: by ein/n, 1: by ekki ein/n: \"))\n",
    "        print \"Hreyfihömlunarmat?\"\n",
    "        hreyfihomlun = 3\n",
    "        while hreyfihomlun <0 or hreyfihomlun >2:\n",
    "            hreyfihomlun = int(raw_input(\"0: Nei, 1: Ja, bensinstyrkur fra TR, 2: Ja, uppbot v/reksturs bifreidar fra TR\"))\n",
    "    \n",
    "    \n",
    "    \n",
    "    # =======================================================\n",
    "    \n",
    "    bakgrunnsuppl = {'hjuskaparstada': hjuskaparstada,\\\n",
    "                    'busetuform': husn,\\\n",
    "                    'tekjur': tekju_uppl,\\\n",
    "                    'eignir': eignir,\\\n",
    "                    'husnaedislan': eftirstodvar,\\\n",
    "                    'vaxtagjold': vaxtagjold,\\\n",
    "                    'husnaediskostnadur': husnaediskostnadur,\\\n",
    "                    'fjoldi_heimilismanna': fjoldi_heimilismanna,\\\n",
    "                    'heimilistekjur': heimilistekjur,\\\n",
    "                    'heimiliseignir': heimiliseignir,\\\n",
    "                    'fjoldi_barna': fj_barna,\\\n",
    "                    'fjoldi_barna_undir_7': fj_barna_undir_7,\\\n",
    "                    'idgjald': idgjald,\\\n",
    "                    'sereignaridgjald': sereignaridgjald,\n",
    "                    'ororkuhlutfall': ororkuhlutfall,\n",
    "                    'fyrsta_75_mat': fyrsta_75_mat,\n",
    "                    'byr_einn': byr_einn,\n",
    "                    'hreyfihomlun': hreyfihomlun,\n",
    "                    'medlag_fj': medlag_fj\n",
    "                    }\n",
    "    \n",
    "    return bakgrunnsuppl"
   ]
  },
  {
   "cell_type": "code",
   "execution_count": 4,
   "metadata": {
    "collapsed": true
   },
   "outputs": [],
   "source": [
    "def stadgreidsla_func(info):\n",
    "    \n",
    "    skattthrep = 834707\n",
    "    skatthlutfall_nedra = 0.3694\n",
    "    skatthlutfall_efra = 0.4624\n",
    "    personuafsl = 52907\n",
    "    \n",
    "    lifeyrir = (info['tekjur'][0] * info['idgjald'])\n",
    "    serlifeyrir = (info['tekjur'][0] * info['sereignaridgjald'])\n",
    "    \n",
    "    stofn = info['tekjur'][0] - lifeyrir - serlifeyrir\n",
    "    \n",
    "    if stofn <= skattthrep:\n",
    "        skattstofn_1 = stofn\n",
    "        skattstofn_2 = 0\n",
    "    else:\n",
    "        skattstofn_1 = skattthrep\n",
    "        skattstofn_2 = stofn - skattthrep\n",
    "        \n",
    "    skattur_nedra_threp = (skattstofn_1*skatthlutfall_nedra)\n",
    "    skattur_efra_threp = (skattstofn_2*skatthlutfall_efra)\n",
    "    \n",
    "    reiknud_stadgreidsla = skattur_nedra_threp + skattur_efra_threp\n",
    "    stadgreidsla_alls = reiknud_stadgreidsla - personuafsl\n",
    "    \n",
    "    laun_e_skatt = stofn - stadgreidsla_alls\n",
    "    \n",
    "    return laun_e_skatt, stadgreidsla_alls, lifeyrir, serlifeyrir        "
   ]
  },
  {
   "cell_type": "code",
   "execution_count": 5,
   "metadata": {
    "collapsed": true
   },
   "outputs": [],
   "source": [
    "def husnaedisstudningur_func(info):\n",
    "\n",
    "    if info['busetuform'] == 1:      \n",
    "        studningur = vaxtabaetur_func(info)\n",
    "        \n",
    "    elif info['busetuform'] == 2:\n",
    "        studningur = husnaedisbaetur_func(info)\n",
    "        \n",
    "    else:\n",
    "        studningur = 0\n",
    "    \n",
    "    return studningur"
   ]
  },
  {
   "cell_type": "code",
   "execution_count": 6,
   "metadata": {
    "collapsed": true,
    "scrolled": true
   },
   "outputs": [],
   "source": [
    "def vaxtabaetur_func(info):\n",
    "    \n",
    "    hamark_vaxtagjalda = [800000, 1000000, 1200000] #fyrir: [einstakling, einstætt foreldri, hjón]\n",
    "    hamark_bota = [400000, 500000, 600000] #fyrir: [einstakling, einstætt foreldri, hjón]\n",
    "    tekjur_yearly = [info['tekjur'][0]*12,\\\n",
    "                     info['tekjur'][1]*12,\\\n",
    "                     info['tekjur'][2]*12,\\\n",
    "                     info['tekjur'][3]*12]\n",
    "    \n",
    "    eignaskerdingarmork_nedri = [4500000.0, 4500000.0, 7300000.0] #fyrir: [einstakling, einstætt foreldri, hjón]\n",
    "    eignaskerdingarmork_efri = [7200000.0, 7200000.0, 11680000.0] #fyrir: [einstakling, einstætt foreldri, hjón]\n",
    "\n",
    "    stofn_list = [hamark_vaxtagjalda[info['hjuskaparstada']-1], \n",
    "                  0.07*info['husnaedislan'], \n",
    "                  info['vaxtagjold']]\n",
    "    stofn =  min(float(s) for s in stofn_list)\n",
    "    \n",
    "    tekjuskerding = (0.085 * sum(tekjur_yearly))\n",
    "    baetur = stofn - tekjuskerding\n",
    "    if baetur < 0:\n",
    "        baetur = 0\n",
    "    \n",
    "    if info['eignir'] >= eignaskerdingarmork_efri[info['hjuskaparstada']-1]:\n",
    "        eignaskerding = baetur\n",
    "        baetur = 0\n",
    "        \n",
    "    elif info['eignir'] >= eignaskerdingarmork_nedri[info['hjuskaparstada']-1]:\n",
    "        eignaskerding =\\\n",
    "            baetur *\\\n",
    "            ((info['eignir'] - eignaskerdingarmork_nedri[info['hjuskaparstada']-1]) /\n",
    "            (eignaskerdingarmork_efri[info['hjuskaparstada']-1] - \n",
    "             eignaskerdingarmork_nedri[info['hjuskaparstada']-1]))\n",
    "        baetur -= eignaskerding\n",
    "    \n",
    "    else:\n",
    "        eignaskerding = 0\n",
    "            \n",
    "    if baetur > hamark_bota[info['hjuskaparstada']-1]:\n",
    "        baetur = hamark_bota[info['hjuskaparstada']-1]\n",
    "\n",
    "    if info['hjuskaparstada'] == 3:\n",
    "        baetur = baetur/24 #bætur deilast jafnt milli hjóna\n",
    "    else:\n",
    "        baetur = baetur/12\n",
    "    tekjuskerding = tekjuskerding/12\n",
    "    eignaskerding = (eignaskerding/12)\n",
    "    \n",
    "    if baetur < 0:\n",
    "        baetur = 0\n",
    "    if tekjuskerding < 0:\n",
    "        tekjuskerding = 0\n",
    "    if eignaskerding < 0:\n",
    "        eignaskerding = 0\n",
    "            \n",
    "    return baetur, tekjuskerding, eignaskerding"
   ]
  },
  {
   "cell_type": "code",
   "execution_count": 7,
   "metadata": {
    "collapsed": true
   },
   "outputs": [],
   "source": [
    "def husnaedisbaetur_func(info):\n",
    "\n",
    "    grunnfjarhaedir = [372000/12, 492000/12, 576000/12, 624000/12]\n",
    "    fritekjumark = [3373000/12, 4461064/12, 5222710/12, 5657936/12]\n",
    "    eignaskerdingarmork_nedri = 6500000.0\n",
    "    eignaskerdingarmork_efri = 10400000.0\n",
    "    \n",
    "    stofn = grunnfjarhaedir[(info['fjoldi_heimilismanna']-1)]\n",
    "    \n",
    "    if info['heimilistekjur'] <= fritekjumark[info['fjoldi_heimilismanna']-1]:\n",
    "        baetur = stofn\n",
    "        tekjuskerding = 0\n",
    "    else:\n",
    "        tekjuskerding = 0.09 *\\\n",
    "        (info['heimilistekjur'] - fritekjumark[info['fjoldi_heimilismanna']-1])\n",
    "        baetur = stofn - tekjuskerding\n",
    "    \n",
    "    if info['heimiliseignir'] >= eignaskerdingarmork_efri:\n",
    "        eignaskerding = baetur\n",
    "        baetur = 0\n",
    "    elif info['heimiliseignir'] >= eignaskerdingarmork_nedri:\n",
    "        eignaskerding = baetur *\\\n",
    "            ((info['heimiliseignir'] - eignaskerdingarmork_nedri) /\n",
    "             (eignaskerdingarmork_efri - eignaskerdingarmork_nedri))\n",
    "        baetur -= eignaskerding\n",
    "    else:\n",
    "        eignaskerding = 0\n",
    "    \n",
    "    if baetur > 0.75*info['husnaediskostnadur']:\n",
    "        baetur = 0.75*info['husnaediskostnadur']\n",
    "    if baetur < 0:\n",
    "        baetur = 0\n",
    "    if tekjuskerding < 0:\n",
    "        tekjuskerding = 0\n",
    "    if eignaskerding < 0:\n",
    "        eignaskerding = 0\n",
    "            \n",
    "    return baetur, tekjuskerding, eignaskerding"
   ]
  },
  {
   "cell_type": "code",
   "execution_count": 8,
   "metadata": {
    "collapsed": true
   },
   "outputs": [],
   "source": [
    "def barnabaetur_func(info):\n",
    "    tekjur_yearly = [info['tekjur'][0]*12, \n",
    "                     info['tekjur'][1]*12, \n",
    "                     info['tekjur'][2]*12, \n",
    "                     info['tekjur'][3]*12]\n",
    "    \n",
    "    fj_barna = info['fjoldi_barna']\n",
    "    fj_barna_undir_7 = info['fjoldi_barna_undir_7']\n",
    "    \n",
    "    # SKERÐINGARHLUFÖLL\n",
    "    skerdingarhlutfoll = [0.04, 0.06, 0.08] # [1 barn, 2 börn, 3 börn eða fleiri]\n",
    "    skerdingarhlutf_vidbot = 0.04\n",
    "    \n",
    "    # FJÁRHÆÐIR 2017\n",
    "    fjarhaedir_fyrsta_barn = [342939, 205834] # [einstætt foreldri, hjón/sambúðarfólk]\n",
    "    fjarhaedir_umfram_born = [351787, 245087] # [einstætt foreldri, hjón/sambúðarfólk]\n",
    "    vidbotarfjarhaed_hvert_barn_undir_7 = 122879\n",
    "    \n",
    "    # SKERÐINGARMÖRK\n",
    "    skerdingarmork = [2700000, 5400000] # [einstætt foreldri, hjón/sambúðarfólk]\n",
    "    \n",
    "    # ÚTREIKNINGUR ÓSKERTRAR BÓTAFJÁRHÆÐAR\n",
    "    stofn_til_skerdingar = sum(tekjur_yearly) - skerdingarmork[info['hjuskaparstada']-2]\n",
    "    if stofn_til_skerdingar < 0:\n",
    "        stofn_til_skerdingar = 0\n",
    "        \n",
    "    almennar_barnabaetur =\\\n",
    "        fjarhaedir_fyrsta_barn[info['hjuskaparstada']-2] +\\\n",
    "        ((fj_barna-1) * fjarhaedir_umfram_born[info['hjuskaparstada']-2]) \n",
    "        \n",
    "    vidbotarbaetur = (fj_barna_undir_7 * vidbotarfjarhaed_hvert_barn_undir_7)\n",
    "        \n",
    "    skerding = (skerdingarhlutfoll[fj_barna-1] * stofn_til_skerdingar)\n",
    "    if skerding > almennar_barnabaetur:\n",
    "        skerding = almennar_barnabaetur\n",
    "    skerding_vidbotar = ((fj_barna_undir_7*skerdingarhlutf_vidbot) * stofn_til_skerdingar)\n",
    "    if skerding_vidbotar > vidbotarbaetur:\n",
    "        skerding_vidbotar = vidbotarbaetur\n",
    "    \n",
    "    baetur = almennar_barnabaetur + vidbotarbaetur - (skerding + skerding_vidbotar)\n",
    "    if baetur < 0:\n",
    "        baetur = 0\n",
    "    \n",
    "    if info['hjuskaparstada'] == 2:\n",
    "        return baetur/12\n",
    "    else:\n",
    "        return baetur/24 #bætur deilast jafnt milli hjóna\n"
   ]
  },
  {
   "cell_type": "code",
   "execution_count": 263,
   "metadata": {},
   "outputs": [],
   "source": [
    "def ororka_func(info):\n",
    "    \"\"\"\n",
    "    Til einfoldunar er gert rad fyrir ad:\n",
    "        busetuhlutfall = 100%\n",
    "        hlutfall skattkorts hjá TR = 0%\n",
    "        greiðslur frá lífeyrissjóðum = 0\n",
    "        greiðslur úr séreignarsjóðum = 0\n",
    "        aðrar tekjur = 0 (aðrar tekjur eiga að bætast við launatekjur í útreikningum)\n",
    "        skattskyldar bætur sveitarfélaga = 0\n",
    "        afborganir krafna hjá TR = 0\n",
    "        erlendur grunnlifeyrir = 0\n",
    "        n.b. aðrar tekjur innihalda ekki fjármagnstekjur\n",
    "    \"\"\"\n",
    "    grunnlifeyrir = 42852.0\n",
    "    nedri_skerdingarmork_lifeyris = 214602.0\n",
    "    efri_skerdingarmork_lifeyris = 386010.0\n",
    "    fritekjumark_fjarmagstekna = 98640.0/12\n",
    "    fritekjumark_launa = 1315200/12\n",
    "    fritekjumark_lifeyris = 328800/12\n",
    "    tekjutrygging = 137226\n",
    "    tekjutrygging_hamark_tekna = 386010\n",
    "    heimilisuppbot = 39851\n",
    "    laun = info['tekjur'][0]\n",
    "    if info['hjuskaparstada'] == 2:\n",
    "        fjt =(info['tekjur'][1] + info['tekjur'][3])/2\n",
    "    else:\n",
    "        fjt = info['tekjur'][1]\n",
    "    liftek = info['tekjur'][2] #ATHUGA BREYTA\n",
    "    barnalifeyrir_per_barn = 31679\n",
    "    medlag_per_barn = 31679\n",
    "    framfaersluvidmid_ekki_einn = 227883\n",
    "    framfaersluvidmid_einn = 280000\n",
    "    \n",
    "    ##### TEKJUSKERDINGAR ######\n",
    "    launatekjur_til_skerdingar =\\\n",
    "        (laun-(laun*(info['idgjald']+info['sereignaridgjald'])))\n",
    "        # idgjald i lifeyrissjod kemur til fradrattar tekna vid utreikning lifeyris\n",
    "    fjarmagnstekjur_til_skerdingar = fjt - fritekjumark_fjarmagstekna\n",
    "    if fjarmagnstekjur_til_skerdingar < 0:\n",
    "        fjarmagnstekjur_til_skerdingar = 0\n",
    "    grunnur = launatekjur_til_skerdingar + fjarmagnstekjur_til_skerdingar\n",
    "        \n",
    "    tekjuskerding = grunnlifeyrir *\\\n",
    "        ((grunnur - nedri_skerdingarmork_lifeyris) /\\\n",
    "         (efri_skerdingarmork_lifeyris - nedri_skerdingarmork_lifeyris))\n",
    "    \n",
    "    if tekjuskerding <0:\n",
    "        tekjuskerding = 0\n",
    "        \n",
    "    ororkulifeyrir = grunnlifeyrir - tekjuskerding\n",
    "    \n",
    "    if ororkulifeyrir <0:\n",
    "        ororkulifeyrir = 0\n",
    "    \n",
    "    ##### ALDURSTENGD UPPBÓT ##### \n",
    "    if info['fyrsta_75_mat'] <= 24:\n",
    "        studull = 1\n",
    "    elif info['fyrsta_75_mat'] <= 27:\n",
    "        studull = 1 - (0.05 * (info['fyrsta_75_mat'] - 24)) #=> 25=95%, 26=90%, 27=85%\n",
    "    elif info['fyrsta_75_mat'] <= 39:\n",
    "        studull = round(0.85 - (0.05 * (info['fyrsta_75_mat'] - 27)),2)\n",
    "        if (studull*10) % 1 == 0:\n",
    "            studull -= 0.05\n",
    "    elif info['fyrsta_75_mat'] <= 45:\n",
    "        studull = 0.15\n",
    "    elif info['fyrsta_75_mat'] <= 50:\n",
    "        studull = 0.10\n",
    "    elif info['fyrsta_75_mat'] <= 55:\n",
    "        studull = 0.075\n",
    "    elif info['fyrsta_75_mat'] <= 60:\n",
    "        studull = 0.05\n",
    "    elif info['fyrsta_75_mat'] <= 66:\n",
    "        studull = 0.025\n",
    "    else:\n",
    "        studull = 0\n",
    "    \n",
    "    aldurstengd_uppbot = studull * ororkulifeyrir\n",
    "\n",
    "    ##### TEKJUTRYGGING #####       \n",
    "    ##\n",
    "    # tekjurtrygging er rétt hafi viðkomandi engar greiðslur frá lífeyrissjóðum\n",
    "    # reiknivél TR gerir ekki ráð fyrir tveggja þrepa skerðingu á þeim tekjum\n",
    "    # hef sent fyrirspurn\n",
    "    # þegar þetta liggur fyrir þarf að bæta inn þessum faktor og hann telur fyrst í röðinni\n",
    "    # gr. úr lífeyrissjóð > launatekjur > fjármagnstekjur\n",
    "    #\n",
    "    \n",
    "    if laun < nedri_skerdingarmork_lifeyris:\n",
    "        skerding_laun = 0.3835*(laun - fritekjumark_launa)\n",
    "    else:\n",
    "        nedri = 0.3835*(nedri_skerdingarmork_lifeyris - fritekjumark_launa)\n",
    "        efri = 0.1335*(laun - nedri_skerdingarmork_lifeyris)\n",
    "        skerding_laun = efri + nedri\n",
    "    \n",
    "    if skerding_laun < 0:\n",
    "        skerding_laun = 0\n",
    "    \n",
    "    if laun == 0:\n",
    "        if fjt < (nedri_skerdingarmork_lifeyris + fritekjumark_fjarmagstekna):\n",
    "            skerding_fjt = 0.3835 * (fjt - fritekjumark_fjarmagstekna)\n",
    "        else:\n",
    "            nedri = 0.3835 * (nedri_skerdingarmork_lifeyris)\n",
    "            efri = 0.1335*(fjt - (nedri_skerdingarmork_lifeyris+fritekjumark_fjarmagstekna))\n",
    "            skerding_fjt = efri + nedri\n",
    "    elif laun < nedri_skerdingarmork_lifeyris:    \n",
    "        if fjt < (nedri_skerdingarmork_lifeyris - laun):\n",
    "            skerding_fjt = 0.3835*(fjt - fritekjumark_fjarmagstekna)\n",
    "        else:\n",
    "            nedri = 0.3835 * (nedri_skerdingarmork_lifeyris - laun)\n",
    "            efri = 0.1335 * (fjt - (nedri_skerdingarmork_lifeyris - laun + fritekjumark_fjarmagstekna))\n",
    "            skerding_fjt = nedri + efri\n",
    "    else:\n",
    "        skerding_fjt = 0.1335 * (fjt - fritekjumark_fjarmagstekna)\n",
    "        \n",
    "    if skerding_fjt < 0:\n",
    "        skerding_fjt = 0\n",
    "    \n",
    "    tekjutrygging = tekjutrygging - skerding_laun - skerding_fjt\n",
    "    if info['tekjur'][0] > tekjutrygging_hamark_tekna:\n",
    "        tekjutrygging = 0\n",
    "        \n",
    "    ##### HEIMILISUPPBÓT #####\n",
    "    if info['byr_einn'] == 0:\n",
    "        grunnur_laun = laun - fritekjumark_launa\n",
    "        if grunnur_laun < 0:\n",
    "            grunnur_laun = 0\n",
    "        grunnur_liftek = liftek - fritekjumark_lifeyris\n",
    "        if grunnur_liftek < 0:\n",
    "            grunnur_liftek = 0\n",
    "        grunnur_fjt = fjt - fritekjumark_fjarmagstekna\n",
    "        if grunnur_fjt < 0:\n",
    "            grunnur_fjt = 0\n",
    "        grunnur = grunnur_laun + grunnur_liftek + grunnur_fjt\n",
    "\n",
    "        heimilisuppbot = heimilisuppbot - (0.1114 * grunnur)\n",
    "    else:\n",
    "        heimilisuppbot = 0\n",
    "        \n",
    "    ##### HREYFIHÖMLUNARMAT #####\n",
    "    if info['hreyfihomlun'] == 1 or info['hreyfihomlun'] == 2:\n",
    "        bensinsstyrkur = 15839\n",
    "    else:\n",
    "        bensinsstyrkur = 0\n",
    "        \n",
    "    ##### BARNALÍFEYRIR #####\n",
    "    barnalifeyrir = barnalifeyrir_per_barn * info['fj_barna']\n",
    "    if info['medlag_fj'] > 0:\n",
    "        medlag = medlag_per_barn * info['fj_barna']\n",
    "    else:\n",
    "        medlag = 0\n",
    "    \n",
    "    if info['hjuskaparstada'] == 1:\n",
    "        if info['fj_barna'] < 2:\n",
    "            foreldralaun = 0\n",
    "        if info['fj_barna'] == 2:\n",
    "            foreldralaun = 9171\n",
    "        elif info['fj_barna'] > 2:\n",
    "            foreldralaun = 23844\n",
    "    else:\n",
    "        foreldralaun = 0\n",
    "    \n",
    "    \n",
    "    samtals =\\\n",
    "        ororkulifeyrir + aldurstengd_uppbot + tekjutrygging +\\\n",
    "        heimilisuppbot + bensinsstyrkur +\\\n",
    "        barnalifeyrir + medlag + foreldralaun\n",
    "    \n",
    "    ##### FRAMFÆRSLUUPPBÓT #####\n",
    "    grunnur_uppbot = samtals - barnalifeyrir - medlag - bensinsstyrkur +\\\n",
    "        laun + fjt + liftek\n",
    "    if (grunnur_uppbot < framfaersluvidmid_einn and\\\n",
    "    info['byr_einn'] == 0):\n",
    "        framfaersluppbot = framfaersluvidmid_einn - (grunnur_uppbot)\n",
    "    elif (grunnur_uppbot < framfaersluvidmid_ekki_einn and\\\n",
    "    info['byr_einn'] == 1):\n",
    "        framfaersluppbot = framfaersluvidmid_ekki_einn - (grunnur_uppbot)\n",
    "    else:\n",
    "        framfaersluppbot = 0\n",
    "        \n",
    "    samtals += framfaersluppbot\n",
    "    \n",
    "    \"\"\"print \"ororkulifeyrir: %d\" %ororkulifeyrir\n",
    "    print \"aldurstengd uppbot: %d\" %aldurstengd_uppbot\n",
    "    print \"tekjutrygging: %d\" %tekjutrygging\n",
    "    print \"heimilisuppbot: %d\" %heimilisuppbot\n",
    "    print \"framfaersluuppbot: %d\" %framfaersluppbot\n",
    "    print \"bensinsstyrkur: %d\" %bensinsstyrkur\n",
    "    print \"barnalifeyrir: %d\" %barnalifeyrir\n",
    "    print \"maedra-/fedralaun: %d\" %foreldralaun\n",
    "    print \"medlag: %d\" %medlag\n",
    "    print \"\"\n",
    "    print \"Samtals: %d\" %samtals\n",
    "    \n",
    "    print \"skerding launa: %d\" %skerding_laun\n",
    "    print \"skerding fjt: %d\" %skerding_fjt\n",
    "\"\"\"\n",
    "    \n",
    "    return samtals"
   ]
  },
  {
   "cell_type": "code",
   "execution_count": 266,
   "metadata": {
    "collapsed": true
   },
   "outputs": [],
   "source": [
    "ororkutest = {'tekjur': [20000, 7500,0,0],\n",
    "             'idgjald': 0.00,\n",
    "             'sereignaridgjald': 0.00,\n",
    "             'fyrsta_75_mat': 40,\n",
    "             'byr_einn': 1,\n",
    "             'hjuskaparstada': 1,\n",
    "             'hreyfihomlun': 1,\n",
    "             'fj_barna': 2,\n",
    "             'medlag_fj': 0}"
   ]
  },
  {
   "cell_type": "code",
   "execution_count": 267,
   "metadata": {},
   "outputs": [
    {
     "name": "stdout",
     "output_type": "stream",
     "text": [
      "ororkulifeyrir: 42852\n",
      "aldurstengd uppbot: 6427\n",
      "tekjutrygging: 137226\n",
      "heimilisuppbot: 0\n",
      "framfaersluuppbot: 4706\n",
      "bensinsstyrkur: 15839\n",
      "barnalifeyrir: 63358\n",
      "maedra-/fedralaun: 9171\n",
      "medlag: 0\n",
      "\n",
      "Samtals: 279580\n",
      "skerding launa: 0\n",
      "skerding fjt: 0\n"
     ]
    }
   ],
   "source": [
    "ororka(ororkutest)"
   ]
  },
  {
   "cell_type": "code",
   "execution_count": 288,
   "metadata": {
    "collapsed": true
   },
   "outputs": [],
   "source": [
    "def ellilifeyrir_func(info):\n",
    "    '''\n",
    "    midast vid full rettindi til ellilifeyris (40 ara buseta frá 16-67 ára aldri)\n",
    "    '''\n",
    "    \n",
    "    ellilifeyrir = 228734\n",
    "    heimilisuppbot = 52316\n",
    "    uppbot_v_bils = 15839\n",
    "    radstofunarfe = 68662\n",
    "    fritekjumork = 25000\n",
    "    efri_mork_lifeyrir = 533298\n",
    "    efri_mork_huppbot = 464597\n",
    "    laun = info['tekjur'][0]\n",
    "    \n",
    "    ##### ELLILÍFEYRIR #####\n",
    "    launatekjur_til_skerdingar =\\\n",
    "        (laun-(laun*(info['idgjald']+info['sereignaridgjald'])))\n",
    "    tekjur_til_skerdingar =\\\n",
    "        launatekjur_til_skerdingar + info['tekjur'][1]#+lifeyrisgreidslur\n",
    "        \n",
    "    if tekjur_til_skerdingar > fritekjumork:\n",
    "        skerding = 0.45*(tekjur_til_skerdingar - fritekjumork)\n",
    "        ellilifeyrir -= skerding\n",
    "        if ellilifeyrir < 0:\n",
    "            ellilifeyrir = 0\n",
    "            \n",
    "    ##### HEIMILISUPPBÓT #####\n",
    "    if info['byr_einn'] == 0:\n",
    "        if tekjur_til_skerdingar > fritekjumork:\n",
    "            skerding = 0.119*(tekjur_til_skerdingar - fritekjumork)\n",
    "            heimilisuppbot -= skerding\n",
    "            if heimilisuppbot < 0:\n",
    "                heimilisuppbot = 0\n",
    "    else:\n",
    "        heimilisuppbot = 0\n",
    "    \n",
    "    ##### HREYFIHÖMLUNARMAT #####\n",
    "    if info['hreyfihomlun'] == 1 or info['hreyfihomlun'] == 2:\n",
    "        bensinsstyrkur = 15839\n",
    "    else:\n",
    "        bensinsstyrkur = 0\n",
    "        \n",
    "    ##### BARNALÍFEYRIR #####\n",
    "    barnalifeyrir = barnalifeyrir_per_barn * info['fj_barna']\n",
    "    if info['medlag_fj'] > 0:\n",
    "        medlag = medlag_per_barn * info['fj_barna']\n",
    "    else:\n",
    "        medlag = 0\n",
    "    \n",
    "    if info['hjuskaparstada'] == 1:\n",
    "        if info['fj_barna'] < 2:\n",
    "            foreldralaun = 0\n",
    "        if info['fj_barna'] == 2:\n",
    "            foreldralaun = 9171\n",
    "        elif info['fj_barna'] > 2:\n",
    "            foreldralaun = 23844\n",
    "    else:\n",
    "        foreldralaun = 0\n",
    "            \n",
    "    print \"ellilifeyrir: %d\" %ellilifeyrir\n",
    "    print \"heimilisuppbot: %d\" %heimilisuppbot"
   ]
  },
  {
   "cell_type": "code",
   "execution_count": 289,
   "metadata": {},
   "outputs": [],
   "source": [
    "elliliftest = {'tekjur': [250000, 7500,0,0],\n",
    "             'idgjald': 0.00,\n",
    "             'sereignaridgjald': 0.00,\n",
    "             'fyrsta_75_mat': 40,\n",
    "             'byr_einn': 0,\n",
    "             'hjuskaparstada': 1,\n",
    "             'hreyfihomlun': 1,\n",
    "             'fj_barna': 2,\n",
    "             'medlag_fj': 0}"
   ]
  },
  {
   "cell_type": "code",
   "execution_count": 290,
   "metadata": {},
   "outputs": [
    {
     "name": "stdout",
     "output_type": "stream",
     "text": [
      "ellilifeyrir: 124109\n",
      "heimilisuppbot: 24648\n"
     ]
    }
   ],
   "source": [
    "ellilifeyrir_func(elliliftest)"
   ]
  },
  {
   "cell_type": "code",
   "execution_count": 33,
   "metadata": {
    "collapsed": true
   },
   "outputs": [],
   "source": [
    "def print_dict(person_dict):\n",
    "    print \"\"\n",
    "    print \"\"\n",
    "    print \"==========LAUN============\"\n",
    "    print \"Laun fyrir skatt: {:,}\".format(person_dict['tekjur'][0])\n",
    "    print \" - staðgreiðsla: {:,}\".format(person_dict['stadgreidsla'])\n",
    "    print \" - greitt i lifeyrissparnad: {:,}\".format(person_dict['lifeyrisgreidsla'])\n",
    "    print \"Útborguð laun: {:,}\".format(person_dict['tekjur_e_skatt'])\n",
    "    print \"\"\n",
    "    print \"====HÚSNÆÐISSTUÐNINGUR============\"\n",
    "    print \"Húsnæðisstuðningur á mánuði: {:,}\".format(person_dict['husnaedisstudningur'])\n",
    "    print \"\"\n",
    "    print \"====Barnabætur=========\"\n",
    "    print \"Barnabætur á mánuði: {:,}\".format(person_dict['barnabaetur'])\n",
    "    print \"\"\n",
    "    print \"=====FRÁDRÁTTUR========\"\n",
    "    print \"Útvarpsgjald: {:,}\".format(person_dict['utvarpsgjald'])\n",
    "    print \"\"\n",
    "    print \"\"\n",
    "    print \"====NIÐURSTAÐA========\"\n",
    "    print \"Nettó tekjur í hverjum mánuði: {:,}\"\\\n",
    "        .format(person_dict['pjeng_i_vasa'])\n",
    "    print \"======================\""
   ]
  },
  {
   "cell_type": "code",
   "execution_count": 41,
   "metadata": {
    "collapsed": true
   },
   "outputs": [],
   "source": [
    "def vasapeningur(bakgrunnsuppl):\n",
    "    tekjur_e_skatt, stadgreidsla, lifeyrisgreidsla, sereignarlifeyrisgr = stadgreidsla_func(bakgrunnsuppl)\n",
    "    husnaedisstudningur, husn_eignaskerding, husn_tekjuskerding =\\\n",
    "        husnaedisstudningur_func(bakgrunnsuppl)\n",
    "    if bakgrunnsuppl['hjuskaparstada'] != 1:\n",
    "        barnabaetur = barnabaetur_func(bakgrunnsuppl)\n",
    "    else: barnabaetur = 0\n",
    "    \n",
    "    if bakgrunnsuppl['tekjur'][0] >= 1678001/12:\n",
    "        utvarpsgjald = 16800/12\n",
    "    else: utvarpsgjald = 0\n",
    "    \n",
    "    netto = tekjur_e_skatt + husnaedisstudningur + barnabaetur - utvarpsgjald\n",
    "    \n",
    "    nidurstodur = {'tekjur': bakgrunnsuppl['tekjur'],\\\n",
    "                   'tekjur_e_skatt': tekjur_e_skatt,\\\n",
    "                   'stadgreidsla': stadgreidsla,\\\n",
    "                   'lifeyrisgreidsla': (lifeyrisgreidsla+sereignarlifeyrisgr),\\\n",
    "                   'husnaedisstudningur': husnaedisstudningur,\\\n",
    "                   'barnabaetur': barnabaetur,\\\n",
    "                   'utvarpsgjald': utvarpsgjald,\\\n",
    "                   'pjeng_i_vasa': netto}\n",
    "    \n",
    "    return nidurstodur"
   ]
  },
  {
   "cell_type": "markdown",
   "metadata": {},
   "source": [
    "# Reiknireikn "
   ]
  },
  {
   "cell_type": "code",
   "execution_count": 47,
   "metadata": {},
   "outputs": [
    {
     "name": "stdout",
     "output_type": "stream",
     "text": [
      "1: einhleypur, 2: einst. foreldri, 3: giftur/sambud 2\n",
      "Hver er husnæðisstaða þín? Býrðu í eigin húsnæði, leiguhúsnæði/búsetu eða hvorugt?\n",
      "1: eigin, 2: leigu, 3: hvorugt 1\n",
      "Laun fyrir skatt: 350000\n",
      "Fjarmagnstekjur: 0\n",
      "\tIðgjald í lífeyrissjóð?\n",
      "1: 0%, 2: 4% 2\n",
      "\tIðgjald í séreign?\n",
      "0: 0%, 1: 1%, 2: 2%, 3: 3%, 4: 4% 4\n",
      "Allar eignir að frádregnum öllum skuldum. Með eignum skal telja hlutabréf, innstæður og verðbréf: \n",
      "0\n",
      "Eftirstöðvar í árslok af lánum sem tekin hafa verið til öflunar íbúðarhúsnæðis til eigin nota: \n",
      "24000000\n",
      "Vextir og verðbætur af íbúðarlánum á ársgrundvelli, þ.m.t. dráttarvextir og lántökukostnaður: \n",
      "1300000\n",
      "Fjöldi barna á heimli: \n",
      "3\n",
      " - þar af yngri en 7 ára: \n",
      "1\n",
      "\n",
      "\n",
      "==========LAUN============\n",
      "Laun fyrir skatt: 350,000\n",
      " - staðgreiðsla: 66,039.8\n",
      " - greitt i lifeyrissparnad: 28,000.0\n",
      "Útborguð laun: 255,960.2\n",
      "\n",
      "====HÚSNÆÐISSTUÐNINGUR============\n",
      "Húsnæðisstuðningur á mánuði: 41,666\n",
      "\n",
      "====Barnabætur=========\n",
      "Barnabætur á mánuði: 82,449.3333333\n",
      "\n",
      "=====FRÁDRÁTTUR========\n",
      "Útvarpsgjald: 1,400\n",
      "\n",
      "\n",
      "====NIÐURSTAÐA========\n",
      "Nettó tekjur í hverjum mánuði: 378,675.533333\n",
      "======================\n"
     ]
    }
   ],
   "source": [
    "prufa = islendingur()\n",
    "print_dict(prufa[0])"
   ]
  },
  {
   "cell_type": "markdown",
   "metadata": {},
   "source": [
    "#### útreikningar réttir skv. reiknivélum rsk"
   ]
  },
  {
   "cell_type": "code",
   "execution_count": 49,
   "metadata": {
    "collapsed": true
   },
   "outputs": [],
   "source": [
    "# saving outcome to access later\n",
    "pickle_out = open(\"einstaed_3born.pickle\",\"wb\")\n",
    "pickle.dump(prufa, pickle_out)\n",
    "pickle_out.close()"
   ]
  },
  {
   "cell_type": "markdown",
   "metadata": {},
   "source": [
    "## Þróun útborgunar"
   ]
  },
  {
   "cell_type": "code",
   "execution_count": 23,
   "metadata": {},
   "outputs": [
    {
     "data": {
      "text/plain": [
       "{'busetuform': 1,\n",
       " 'eignir': 0,\n",
       " 'fjoldi_barna': 3,\n",
       " 'fjoldi_barna_undir_7': 1,\n",
       " 'fjoldi_heimilismanna': 0,\n",
       " 'heimiliseignir': 0,\n",
       " 'heimilistekjur': 0,\n",
       " 'hjuskaparstada': 3,\n",
       " 'husnaediskostnadur': 0,\n",
       " 'husnaedislan': 35000000,\n",
       " 'idgjald': 0.04,\n",
       " 'sereignaridgjald': 0.04,\n",
       " 'tekjur': [400000, 0, 400000, 0],\n",
       " 'vaxtagjold': 2000000}"
      ]
     },
     "execution_count": 23,
     "metadata": {},
     "output_type": "execute_result"
    }
   ],
   "source": [
    "prufa[1]"
   ]
  },
  {
   "cell_type": "code",
   "execution_count": 29,
   "metadata": {
    "collapsed": true
   },
   "outputs": [],
   "source": [
    "vasapjenlisti = []\n",
    "tekjulisti = np.arange(0, 2000000, 1000)\n",
    "for i in tekjulisti:\n",
    "    prufa[1]['tekjur'][0] = i\n",
    "    tekjur_i_vasa = vasapeningur(prufa[1])\n",
    "    vasapjenlisti.append(tekjur_i_vasa)"
   ]
  },
  {
   "cell_type": "code",
   "execution_count": 19,
   "metadata": {},
   "outputs": [
    {
     "name": "stdout",
     "output_type": "stream",
     "text": [
      "1: einhleypur, 2: einst. foreldri, 3: giftur/sambud 2\n",
      "Hver er husnæðisstaða þín? Býrðu í eigin húsnæði, leiguhúsnæði/búsetu eða hvorugt?\n",
      "1: eigin, 2: leigu, 3: hvorugt 2\n",
      "Laun fyrir skatt: 450000\n",
      "Fjarmagnstekjur: 0\n",
      "\tIðgjald í lífeyrissjóð?\n",
      "1: 0%, 2: 4% 2\n",
      "\tIðgjald í séreign?\n",
      "0: 0%, 1: 1%, 2: 2%, 3: 3%, 4: 4% 4\n",
      "Allar eignir að frádregnum öllum skuldum. Með eignum skal telja hlutabréf, innstæður og verðbréf: \n",
      "2000000\n",
      "fjoldi heimilismanna ad ther medtoldum: 3\n",
      "samanlagdar manadartekjur allra heimilismanna: 450000\n",
      "samanlagdar eignir allra heimilismanna: 2000000\n",
      "manadarlegur husnaediskostnadur: 250000\n",
      "Fjöldi barna á heimli: \n",
      "2\n",
      " - þar af yngri en 7 ára: \n",
      "1\n"
     ]
    }
   ],
   "source": [
    "einstaedingur = islendingur()"
   ]
  },
  {
   "cell_type": "code",
   "execution_count": 20,
   "metadata": {},
   "outputs": [
    {
     "data": {
      "text/plain": [
       "{'barnabaetur': 45633.75,\n",
       " 'husnaedisstudningur': 46670.25,\n",
       " 'lifeyrisgreidsla': 36000.0,\n",
       " 'pjeng_i_vasa': 404879.4,\n",
       " 'stadgreidsla': 100024.6,\n",
       " 'tekjur': [450000, 0, 0, 0],\n",
       " 'tekjur_e_skatt': 313975.4,\n",
       " 'utvarpsgjald': 1400}"
      ]
     },
     "execution_count": 20,
     "metadata": {},
     "output_type": "execute_result"
    }
   ],
   "source": [
    "einstaedingur[0]"
   ]
  },
  {
   "cell_type": "code",
   "execution_count": 21,
   "metadata": {},
   "outputs": [
    {
     "data": {
      "text/plain": [
       "{'busetuform': 2,\n",
       " 'eignir': 2000000,\n",
       " 'fjoldi_barna': 2,\n",
       " 'fjoldi_barna_undir_7': 1,\n",
       " 'fjoldi_heimilismanna': 3,\n",
       " 'heimiliseignir': 2000000,\n",
       " 'heimilistekjur': 450000,\n",
       " 'hjuskaparstada': 2,\n",
       " 'husnaediskostnadur': 250000,\n",
       " 'husnaedislan': 0,\n",
       " 'idgjald': 0.04,\n",
       " 'sereignaridgjald': 0.04,\n",
       " 'tekjur': [450000, 0, 0, 0],\n",
       " 'vaxtagjold': 0}"
      ]
     },
     "execution_count": 21,
     "metadata": {},
     "output_type": "execute_result"
    }
   ],
   "source": [
    "einstaedingur[1]"
   ]
  },
  {
   "cell_type": "code",
   "execution_count": 22,
   "metadata": {
    "collapsed": true
   },
   "outputs": [],
   "source": [
    "vasapjenlisti = []\n",
    "tekjulisti = np.arange(0, 2000000, 1000)\n",
    "for i in tekjulisti:\n",
    "    einstaedingur[1]['tekjur'][0] = i\n",
    "    tekjur_i_vasa = vasapeningur(einstaedingur[1])\n",
    "    vasapjenlisti.append(tekjur_i_vasa)"
   ]
  },
  {
   "cell_type": "code",
   "execution_count": 32,
   "metadata": {
    "collapsed": true
   },
   "outputs": [],
   "source": [
    "class Formatter(object):\n",
    "    def __init__(self, im):\n",
    "        self.im = im\n",
    "    def __call__(self, x, y):\n",
    "        z = self.im.get_array()[int(y), int(x)]\n",
    "        return 'x={:.01f}, y={:.01f}, z={:.01f}'.format(x, y, z)"
   ]
  },
  {
   "cell_type": "code",
   "execution_count": 67,
   "metadata": {
    "collapsed": true
   },
   "outputs": [],
   "source": [
    "data = np.array((vasapjen_array, tekjulisti))"
   ]
  },
  {
   "cell_type": "code",
   "execution_count": 68,
   "metadata": {},
   "outputs": [
    {
     "data": {
      "image/png": "[encoded data removed]",
      "text/plain": [
       "<matplotlib.figure.Figure at 0xe040550>"
      ]
     },
     "metadata": {},
     "output_type": "display_data"
    }
   ],
   "source": [
    "fig, ax = plt.subplots()\n",
    "im = ax.imshow(data, interpolation='none')\n",
    "ax.format_coord = Formatter(im)\n",
    "plt.plot(tekjulisti, vasapjenlisti)\n",
    "plt.grid(True)\n",
    "plt.xlabel('Manadarlaun fyrir skatt', size=20)\n",
    "plt.ylabel('Peningur i vasann a manudi', size=20)\n",
    "plt.xlim(0,2000000)\n",
    "plt.ylim(0,2000000)\n",
    "plt.show()"
   ]
  },
  {
   "cell_type": "markdown",
   "metadata": {},
   "source": [
    "## Bar graph with update"
   ]
  },
  {
   "cell_type": "code",
   "execution_count": 12,
   "metadata": {},
   "outputs": [
    {
     "data": {
      "text/html": [
       "<script src=\"lib/d3/d3.min.js\"></script>"
      ],
      "text/plain": [
       "<IPython.core.display.HTML object>"
      ]
     },
     "execution_count": 12,
     "metadata": {},
     "output_type": "execute_result"
    }
   ],
   "source": [
    "HTML('<script src=\"lib/d3/d3.min.js\"></script>')"
   ]
  },
  {
   "cell_type": "markdown",
   "metadata": {},
   "source": [
    "#### Graph Config "
   ]
  },
  {
   "cell_type": "code",
   "execution_count": 13,
   "metadata": {
    "collapsed": true
   },
   "outputs": [],
   "source": [
    "html_template = Template('''\n",
    "<style> $css_text </style>\n",
    "<div id=\"graph-div\"></div>\n",
    "<script> $js_text </script>\n",
    "''')"
   ]
  },
  {
   "cell_type": "code",
   "execution_count": 14,
   "metadata": {
    "collapsed": true
   },
   "outputs": [],
   "source": [
    "css_text = '''\n",
    "\n",
    ".bar {\n",
    "  fill: steelblue;\n",
    "}\n",
    "\n",
    ".bar:hover {\n",
    "  fill: brown;\n",
    "}\n",
    "\n",
    ".axis {\n",
    "  font: 10px sans-serif;\n",
    "}\n",
    "\n",
    ".axis path,\n",
    ".axis line {\n",
    "  fill: none;\n",
    "  stroke: #000;\n",
    "  shape-rendering: crispEdges;\n",
    "}\n",
    "\n",
    ".x.axis path {\n",
    "  display: none;\n",
    "}\n",
    "\n",
    "'''"
   ]
  },
  {
   "cell_type": "code",
   "execution_count": 15,
   "metadata": {
    "collapsed": true
   },
   "outputs": [],
   "source": [
    "js_text_template = Template('''\n",
    "\n",
    "var margin = {top: 20, right: 20, bottom: 30, left: 40},\n",
    "    width = 500 - margin.left - margin.right,\n",
    "    height = 300 - margin.top - margin.bottom;\n",
    "\n",
    "var x = d3.scale.ordinal()\n",
    "    .rangeRoundBands([0, width], .1);\n",
    "\n",
    "var y = d3.scale.linear()\n",
    "    .range([height, 0]);\n",
    "\n",
    "var xAxis = d3.svg.axis()\n",
    "    .scale(x)\n",
    "    .orient(\"bottom\");\n",
    "\n",
    "var yAxis = d3.svg.axis()\n",
    "    .scale(y)\n",
    "    .orient(\"left\");\n",
    "\n",
    "var svg = d3.select(\"#graph-div\").append(\"svg\")\n",
    "    .attr(\"width\", width + margin.left + margin.right)\n",
    "    .attr(\"height\", height + margin.top + margin.bottom)\n",
    "  .append(\"g\")\n",
    "    .attr(\"transform\", \"translate(\" + margin.left + \",\" + margin.top + \")\");\n",
    "\n",
    "var data = $data ;\n",
    "\n",
    "  x.domain(data.map(function(d) { return d.letter; }));\n",
    "  y.domain([0, d3.max(data, function(d) { return d.y; })]);\n",
    "\n",
    "  svg.append(\"g\")\n",
    "      .attr(\"class\", \"x axis\")\n",
    "      .attr(\"transform\", \"translate(0,\" + height + \")\")\n",
    "      .call(xAxis);\n",
    "\n",
    "  svg.append(\"g\")\n",
    "      .attr(\"class\", \"y axis\")\n",
    "      .call(yAxis);\n",
    "\n",
    "  svg.selectAll(\".bar\")\n",
    "      .data(data)\n",
    "    .enter().append(\"rect\")\n",
    "      .attr(\"class\", \"bar\")\n",
    "      .attr(\"x\", function(d) { return x(d.letter); })\n",
    "      .attr(\"width\", x.rangeBand())\n",
    "      .attr(\"y\", function(d) { return y(d.y); })\n",
    "      .attr(\"height\", function(d) { return height - y(d.y); });\n",
    "\n",
    "''')"
   ]
  },
  {
   "cell_type": "code",
   "execution_count": 16,
   "metadata": {
    "collapsed": true
   },
   "outputs": [],
   "source": [
    "js_text_template_2 = Template('''\n",
    "\n",
    "var bars = svg.selectAll(\".bar\").data($data);\n",
    "  \n",
    "bars\n",
    "  .transition()\n",
    "    .attr(\"y\", function(d) { return y(d.y); })\n",
    "    .attr(\"height\", function(d) { return height - y(d.y); });\n",
    "\n",
    "''')"
   ]
  },
  {
   "cell_type": "markdown",
   "metadata": {},
   "source": [
    "#### Initial Data, Graph and Update "
   ]
  },
  {
   "cell_type": "code",
   "execution_count": 77,
   "metadata": {
    "collapsed": true
   },
   "outputs": [],
   "source": [
    "# loading data\n",
    "pickle_in = open(\"einstaed_3born.pickle\",\"rb\")\n",
    "example_dict = pickle.load(pickle_in)"
   ]
  },
  {
   "cell_type": "code",
   "execution_count": 78,
   "metadata": {},
   "outputs": [
    {
     "data": {
      "text/html": [
       "<div>\n",
       "<style>\n",
       "    .dataframe thead tr:only-child th {\n",
       "        text-align: right;\n",
       "    }\n",
       "\n",
       "    .dataframe thead th {\n",
       "        text-align: left;\n",
       "    }\n",
       "\n",
       "    .dataframe tbody tr th {\n",
       "        vertical-align: top;\n",
       "    }\n",
       "</style>\n",
       "<table border=\"1\" class=\"dataframe\">\n",
       "  <thead>\n",
       "    <tr style=\"text-align: right;\">\n",
       "      <th></th>\n",
       "      <th>letter</th>\n",
       "      <th>y</th>\n",
       "    </tr>\n",
       "  </thead>\n",
       "  <tbody>\n",
       "    <tr>\n",
       "      <th>0</th>\n",
       "      <td>Laun e skatt</td>\n",
       "      <td>255960.200000</td>\n",
       "    </tr>\n",
       "    <tr>\n",
       "      <th>1</th>\n",
       "      <td>Húsnæðisstuðningur</td>\n",
       "      <td>41666.000000</td>\n",
       "    </tr>\n",
       "    <tr>\n",
       "      <th>2</th>\n",
       "      <td>Barnabætur</td>\n",
       "      <td>82449.333333</td>\n",
       "    </tr>\n",
       "    <tr>\n",
       "      <th>3</th>\n",
       "      <td>Ráðstöfunartekjur</td>\n",
       "      <td>378675.533333</td>\n",
       "    </tr>\n",
       "  </tbody>\n",
       "</table>\n",
       "</div>"
      ],
      "text/plain": [
       "               letter              y\n",
       "0        Laun e skatt  255960.200000\n",
       "1  Húsnæðisstuðningur   41666.000000\n",
       "2          Barnabætur   82449.333333\n",
       "3   Ráðstöfunartekjur  378675.533333"
      ]
     },
     "execution_count": 78,
     "metadata": {},
     "output_type": "execute_result"
    }
   ],
   "source": [
    "data = pd.DataFrame({'letter': ['Laun e skatt','Húsnæðisstuðningur','Barnabætur','Ráðstöfunartekjur'], 'y':\\\n",
    "                     [example_dict[0]['tekjur_e_skatt'],\\\n",
    "                      example_dict[0]['husnaedisstudningur'],\\\n",
    "                      example_dict[0]['barnabaetur'],\\\n",
    "                      example_dict[0]['pjeng_i_vasa']]})\n",
    "data.head()"
   ]
  },
  {
   "cell_type": "code",
   "execution_count": 79,
   "metadata": {},
   "outputs": [
    {
     "data": {
      "text/html": [
       "\n",
       "<style> \n",
       "\n",
       ".bar {\n",
       "  fill: steelblue;\n",
       "}\n",
       "\n",
       ".bar:hover {\n",
       "  fill: brown;\n",
       "}\n",
       "\n",
       ".axis {\n",
       "  font: 10px sans-serif;\n",
       "}\n",
       "\n",
       ".axis path,\n",
       ".axis line {\n",
       "  fill: none;\n",
       "  stroke: #000;\n",
       "  shape-rendering: crispEdges;\n",
       "}\n",
       "\n",
       ".x.axis path {\n",
       "  display: none;\n",
       "}\n",
       "\n",
       " </style>\n",
       "<div id=\"graph-div\"></div>\n",
       "<script> \n",
       "\n",
       "var margin = {top: 20, right: 20, bottom: 30, left: 40},\n",
       "    width = 500 - margin.left - margin.right,\n",
       "    height = 300 - margin.top - margin.bottom;\n",
       "\n",
       "var x = d3.scale.ordinal()\n",
       "    .rangeRoundBands([0, width], .1);\n",
       "\n",
       "var y = d3.scale.linear()\n",
       "    .range([height, 0]);\n",
       "\n",
       "var xAxis = d3.svg.axis()\n",
       "    .scale(x)\n",
       "    .orient(\"bottom\");\n",
       "\n",
       "var yAxis = d3.svg.axis()\n",
       "    .scale(y)\n",
       "    .orient(\"left\");\n",
       "\n",
       "var svg = d3.select(\"#graph-div\").append(\"svg\")\n",
       "    .attr(\"width\", width + margin.left + margin.right)\n",
       "    .attr(\"height\", height + margin.top + margin.bottom)\n",
       "  .append(\"g\")\n",
       "    .attr(\"transform\", \"translate(\" + margin.left + \",\" + margin.top + \")\");\n",
       "\n",
       "var data = [{\"y\": 255960.2, \"letter\": \"Laun e skatt\"}, {\"y\": 41666.0, \"letter\": \"H\\u00fasn\\u00e6\\u00f0isstu\\u00f0ningur\"}, {\"y\": 82449.33333333333, \"letter\": \"Barnab\\u00e6tur\"}, {\"y\": 378675.5333333333, \"letter\": \"R\\u00e1\\u00f0st\\u00f6funartekjur\"}] ;\n",
       "\n",
       "  x.domain(data.map(function(d) { return d.letter; }));\n",
       "  y.domain([0, d3.max(data, function(d) { return d.y; })]);\n",
       "\n",
       "  svg.append(\"g\")\n",
       "      .attr(\"class\", \"x axis\")\n",
       "      .attr(\"transform\", \"translate(0,\" + height + \")\")\n",
       "      .call(xAxis);\n",
       "\n",
       "  svg.append(\"g\")\n",
       "      .attr(\"class\", \"y axis\")\n",
       "      .call(yAxis);\n",
       "\n",
       "  svg.selectAll(\".bar\")\n",
       "      .data(data)\n",
       "    .enter().append(\"rect\")\n",
       "      .attr(\"class\", \"bar\")\n",
       "      .attr(\"x\", function(d) { return x(d.letter); })\n",
       "      .attr(\"width\", x.rangeBand())\n",
       "      .attr(\"y\", function(d) { return y(d.y); })\n",
       "      .attr(\"height\", function(d) { return height - y(d.y); });\n",
       "\n",
       " </script>\n"
      ],
      "text/plain": [
       "<IPython.core.display.HTML object>"
      ]
     },
     "execution_count": 79,
     "metadata": {},
     "output_type": "execute_result"
    }
   ],
   "source": [
    "js_text = js_text_template.substitute({'data': json.dumps(data.to_dict(orient='records'))})\n",
    "HTML(html_template.substitute({'css_text': css_text, 'js_text': js_text}))"
   ]
  },
  {
   "cell_type": "code",
   "execution_count": 80,
   "metadata": {},
   "outputs": [
    {
     "data": {
      "text/html": [
       "<script>\n",
       "\n",
       "var bars = svg.selectAll(\".bar\").data([{\"y\": 284967.8, \"letter\": \"Laun e skatt\"}, {\"y\": 41666.0, \"letter\": \"H\\u00fasn\\u00e6\\u00f0isstu\\u00f0ningur\"}, {\"y\": 76449.33333333333, \"letter\": \"Barnab\\u00e6tur\"}, {\"y\": 401683.1333333333, \"letter\": \"R\\u00e1\\u00f0st\\u00f6funartekjur\"}]);\n",
       "  \n",
       "bars\n",
       "  .transition()\n",
       "    .attr(\"y\", function(d) { return y(d.y); })\n",
       "    .attr(\"height\", function(d) { return height - y(d.y); });\n",
       "\n",
       "</script>"
      ],
      "text/plain": [
       "<IPython.core.display.HTML object>"
      ]
     },
     "execution_count": 80,
     "metadata": {},
     "output_type": "execute_result"
    }
   ],
   "source": [
    "# change 'tekjur' parameter and run to update graph\n",
    "example_dict[1]['tekjur'][0] = 400000\n",
    "new_results = vasapeningur(example_dict[1])\n",
    "\n",
    "data['y'] = [new_results['tekjur_e_skatt'],\\\n",
    "             new_results['husnaedisstudningur'],\\\n",
    "             new_results['barnabaetur'],\\\n",
    "            new_results['pjeng_i_vasa']]\n",
    "js_text = js_text_template_2.substitute({'data': json.dumps(data.to_dict(orient='records'))})\n",
    "HTML('<script>' + js_text + '</script>')"
   ]
  }
 ],
 "metadata": {
  "kernelspec": {
   "display_name": "Python 2",
   "language": "python",
   "name": "python2"
  },
  "language_info": {
   "codemirror_mode": {
    "name": "ipython",
    "version": 2
   },
   "file_extension": ".py",
   "mimetype": "text/x-python",
   "name": "python",
   "nbconvert_exporter": "python",
   "pygments_lexer": "ipython2",
   "version": "2.7.13"
  }
 },
 "nbformat": 4,
 "nbformat_minor": 2
}
