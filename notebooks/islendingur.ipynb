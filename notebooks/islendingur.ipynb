{
 "cells": [
  {
   "cell_type": "markdown",
   "metadata": {
    "collapsed": true
   },
   "source": [
    "## Functions"
   ]
  },
  {
   "cell_type": "code",
   "execution_count": 40,
   "metadata": {},
   "outputs": [],
   "source": [
    "def islendingur_input():\n",
    "    hjuskaparstada = input_hjusskaparst() #gefur hjúskaparstöðu, int á bilinu 1-3\n",
    "    tekjur = input_tekjur(hjuskaparstada) #gefur tekjulista [tekjur, fjármagnstekjur, tekjur maka, fjármagnstekjur maka]\n",
    "    tekjur_e_skatt, stadgreidsla, lifeyrisgreidsla, sereignarlifeyrisgr = stadgreidsla_func(tekjur[0])\n",
    "    husnaedisstudningur, husn_eignaskerding, husn_tekjuskerding =\\\n",
    "        husnaedisstudningur_func(tekjur, hjuskaparstada)\n",
    "    if hjuskaparstada != 1:\n",
    "        barnabaetur = barnabaetur_func(hjuskaparstada, tekjur)\n",
    "    else: barnabaetur = 0\n",
    "    \n",
    "    if tekjur[0] >= 1678001/12:\n",
    "        utvarpsgjald = 16800/12\n",
    "    else: utvarpsgjald = 0\n",
    "    \n",
    "    #print_all(tekjur, tekjur_e_skatt, stadgreidsla, lifeyrisgreidsla,\\\n",
    "    #          sereignarlifeyrisgr, husnaedisstudningur, barnabaetur, utvarpsgjald)\n",
    "    netto = tekjur_e_skatt + husnaedisstudningur + barnabaetur - utvarpsgjald\n",
    "    \n",
    "    nidurstodur = {'allar_tekjur': [tekjur, tekjur_e_skatt],\\\n",
    "                   'allar_baetur': [husnaedisstudningur, barnabaetur],\\\n",
    "                   'fradrattur': [utvarpsgjald, stadgreidsla, lifeyrisgreidsla],\\\n",
    "                   'pjeng_i_vasa': (netto)}\n",
    "    \n",
    "    return nidurstodur    "
   ]
  },
  {
   "cell_type": "code",
   "execution_count": 5,
   "metadata": {
    "collapsed": true
   },
   "outputs": [],
   "source": [
    "def input_hjusskaparst():\n",
    "    hjuskaparstada = 4\n",
    "    while hjuskaparstada >3 or hjuskaparstada <1:\n",
    "        hjuskaparstada = int(raw_input('1: einhleypur, 2: einst. foreldri, 3: giftur/sambud '))\n",
    "        \n",
    "    return hjuskaparstada"
   ]
  },
  {
   "cell_type": "code",
   "execution_count": 6,
   "metadata": {
    "collapsed": true
   },
   "outputs": [],
   "source": [
    "def input_tegund_husnaedis():\n",
    "    print \"Hver er husnæðisstaða þín? Býrðu í eigin húsnæði, leiguhúsnæði eða hvorugt?\"\n",
    "    \n",
    "    tegund = 4\n",
    "    while tegund >3 or tegund <1:\n",
    "        tegund = int(raw_input('1: eigin, 2: leigu, 3: hvorugt '))\n",
    "    \n",
    "    return tegund"
   ]
  },
  {
   "cell_type": "code",
   "execution_count": 7,
   "metadata": {
    "collapsed": true
   },
   "outputs": [],
   "source": [
    "def input_tekjur(hjuskaparstada):\n",
    "    laun_a_manudi = int(raw_input(\"Laun fyrir skatt: \"))\n",
    "    fjarmagnstekjur = int(raw_input(\"Fjarmagnstekjur: \"))\n",
    "    if hjuskaparstada == 3:\n",
    "        laun_maka = int(raw_input(\"Laun maka fyrir skatt: \"))\n",
    "        fjarmagnstekjur_maka = int(raw_input(\"Fjarmagnstekjur maka: \"))\n",
    "    else:\n",
    "        laun_maka = 0\n",
    "        fjarmagnstekjur_maka = 0\n",
    "    \n",
    "    tekju_uppl = [laun_a_manudi, fjarmagnstekjur, laun_maka, fjarmagnstekjur_maka]\n",
    "    \n",
    "    return tekju_uppl        "
   ]
  },
  {
   "cell_type": "code",
   "execution_count": 8,
   "metadata": {
    "collapsed": true
   },
   "outputs": [],
   "source": [
    "def stadgreidsla_func(tekjur):\n",
    "    \n",
    "    skattthrep = 834707\n",
    "    skatthlutfall_nedra = 0.3694\n",
    "    skatthlutfall_efra = 0.4624\n",
    "    personuafsl = 52907\n",
    "    \n",
    "    print \"\tIðgjald í lífeyrissjóð?\"\n",
    "    idgjald = 3\n",
    "    while idgjald >2 or idgjald <1:\n",
    "        idgjald = int(raw_input('1: 0%, 2: 4% '))\n",
    "    if idgjald == 1:\n",
    "        idgjald = 0.0\n",
    "    elif idgjald == 2:\n",
    "        idgjald = 0.04\n",
    "            \n",
    "    print \"\tIðgjald í séreign?\"\n",
    "    sereignaridgjald = 5\n",
    "    while sereignaridgjald >4 or sereignaridgjald <0:\n",
    "        sereignaridgjald = int(raw_input('0: 0%, 1: 1%, 2: 2%, 3: 3%, 4: 4% '))\n",
    "    sereignaridgjald = sereignaridgjald / 100.0\n",
    "    \n",
    "    lifeyrir = (tekjur * idgjald)\n",
    "    serlifeyrir = (tekjur * sereignaridgjald)\n",
    "    \n",
    "    stofn = tekjur - lifeyrir - serlifeyrir\n",
    "    \n",
    "    if stofn <= skattthrep:\n",
    "        skattstofn_1 = stofn\n",
    "        skattstofn_2 = 0\n",
    "    else:\n",
    "        skattstofn_1 = skattthrep\n",
    "        skattstofn_2 = stofn - skattthrep\n",
    "        \n",
    "    skattur_nedra_threp = (skattstofn_1*skatthlutfall_nedra)\n",
    "    skattur_efra_threp = (skattstofn_2*skatthlutfall_efra)\n",
    "    \n",
    "    reiknud_stadgreidsla = skattur_nedra_threp + skattur_efra_threp\n",
    "    stadgreidsla_alls = reiknud_stadgreidsla - personuafsl\n",
    "    \n",
    "    laun_e_skatt = stofn - stadgreidsla_alls\n",
    "    \n",
    "    return laun_e_skatt, stadgreidsla_alls, lifeyrir, serlifeyrir        "
   ]
  },
  {
   "cell_type": "code",
   "execution_count": 9,
   "metadata": {
    "collapsed": true
   },
   "outputs": [],
   "source": [
    "def husnaedisstudningur_func(tekjur, hjuskaparstada):\n",
    "    \n",
    "    tegund_husnaedis = input_tegund_husnaedis()\n",
    "    \n",
    "    if tegund_husnaedis == 1:      \n",
    "        studningur = vaxtabaetur_func(tekjur, hjuskaparstada)\n",
    "        \n",
    "    elif tegund_husnaedis == 2:\n",
    "        studningur = husnaedisbaetur_func(tekjur)\n",
    "        \n",
    "    else:\n",
    "        studningur = 0\n",
    "    \n",
    "    return studningur"
   ]
  },
  {
   "cell_type": "code",
   "execution_count": 10,
   "metadata": {
    "collapsed": true,
    "scrolled": true
   },
   "outputs": [],
   "source": [
    "def vaxtabaetur_func(tekjur, hjuskaparstada):\n",
    "    \n",
    "    hamark_vaxtagjalda = [800000, 1000000, 1200000] #fyrir: [einstakling, einstætt foreldri, hjón]\n",
    "    hamark_bota = [400000, 500000, 600000] #fyrir: [einstakling, einstætt foreldri, hjón]\n",
    "    tekjur_yearly = [tekjur[0]*12, tekjur[1]*12, tekjur[2]*12, tekjur[3]*12]\n",
    "    \n",
    "    eignaskerdingarmork_nedri = [4500000.0, 4500000.0, 7300000.0] #fyrir: [einstakling, einstætt foreldri, hjón]\n",
    "    eignaskerdingarmork_efri = [7200000.0, 7200000.0, 11680000.0] #fyrir: [einstakling, einstætt foreldri, hjón]\n",
    "\n",
    "    print \"Allar eignir að frádregnum öllum skuldum. Með eignum skal telja hlutabréf, innstæður og verðbréf: \"\n",
    "    eignir = int(raw_input())\n",
    "    print 'Eftirstöðvar í árslok af lánum sem tekin hafa verið til öflunar íbúðarhúsnæðis til eigin nota: '\n",
    "    eftirstodvar = int(raw_input())\n",
    "    print \"Vextir og verðbætur af íbúðarlánum á ársgrundvelli, þ.m.t. dráttarvextir og lántökukostnaður: \"\n",
    "    vaxtagjold = int(raw_input())\n",
    "    \n",
    "    stofn_list = [hamark_vaxtagjalda[hjuskaparstada-1], 0.07*eftirstodvar, vaxtagjold]\n",
    "    stofn =  min(float(s) for s in stofn_list)\n",
    "    \n",
    "    tekjuskerding = (0.085 * sum(tekjur_yearly))\n",
    "    baetur = stofn - tekjuskerding\n",
    "    \n",
    "    if eignir >= eignaskerdingarmork_efri[hjuskaparstada-1]:\n",
    "        eignaskerding = baetur\n",
    "        baetur = 0\n",
    "        \n",
    "    elif eignir >= eignaskerdingarmork_nedri[hjuskaparstada-1]:\n",
    "        eignaskerding =\\\n",
    "            baetur * ((eignir - eignaskerdingarmork_nedri[hjuskaparstada-1]) /\n",
    "                      (eignaskerdingarmork_efri[hjuskaparstada-1] - eignaskerdingarmork_nedri[hjuskaparstada-1]))\n",
    "        baetur -= eignaskerding\n",
    "    \n",
    "    else:\n",
    "        eignaskerding = 0\n",
    "            \n",
    "    if baetur > hamark_bota[hjuskaparstada-1]:\n",
    "        baetur = hamark_bota[hjuskaparstada-1]\n",
    "\n",
    "    baetur = baetur/12\n",
    "    tekjuskerding = tekjuskerding/12\n",
    "    eignaskerding = (eignaskerding/12)\n",
    "    \n",
    "    if baetur < 0:\n",
    "        baetur = 0\n",
    "    if tekjuskerding < 0:\n",
    "        tekjuskerding = 0\n",
    "    if eignaskerding < 0:\n",
    "        eignaskerding = 0\n",
    "            \n",
    "    return baetur, tekjuskerding, eignaskerding"
   ]
  },
  {
   "cell_type": "code",
   "execution_count": 11,
   "metadata": {
    "collapsed": true
   },
   "outputs": [],
   "source": [
    "def husnaedisbaetur_func(tekjur):\n",
    "    fjoldi_heimilismanna = int(raw_input(\"fjoldi heimilismanna ad ther medtoldum: \"))\n",
    "    if fjoldi_heimilismanna > 4:\n",
    "        fjoldi_heimilismanna = 4\n",
    "    \n",
    "    if fjoldi_heimilismanna == 1:\n",
    "        heimilistekjur = (tekjur[0] + tekjur[1])\n",
    "    else:\n",
    "        heimilistekjur = int(raw_input('samanlagdar manadartekjur allra heimilismanna: '))\n",
    "    heimiliseignir = int(raw_input('samanlagdar eignir allra heimilismanna: '))\n",
    "    husnaediskostnadur = int(raw_input('manadarlegur husnaediskostnadur: '))\n",
    "    \n",
    "    grunnfjarhaedir = [372000/12, 492000/12, 576000/12, 624000/12]\n",
    "    fritekjumark = [3373000/12, 4461064/12, 5222710/12, 5657936/12]\n",
    "    eignaskerdingarmork_nedri = 6500000.0\n",
    "    eignaskerdingarmork_efri = 10400000.0\n",
    "    \n",
    "    stofn = grunnfjarhaedir[fjoldi_heimilismanna-1]\n",
    "    \n",
    "    if heimilistekjur <= fritekjumark[fjoldi_heimilismanna-1]:\n",
    "        baetur = stofn\n",
    "        tekjuskerding = 0\n",
    "    else:\n",
    "        tekjuskerding = 0.09 * (heimilistekjur - fritekjumark[fjoldi_heimilismanna-1])\n",
    "        baetur = stofn - tekjuskerding\n",
    "    \n",
    "    if heimiliseignir >= eignaskerdingarmork_efri:\n",
    "        eignaskerding = baetur\n",
    "        baetur = 0\n",
    "    elif heimiliseignir >= eignaskerdingarmork_nedri:\n",
    "        eignaskerding = baetur *\\\n",
    "            ((heimiliseignir - eignaskerdingarmork_nedri) / (eignaskerdingarmork_efri - eignaskerdingarmork_nedri))\n",
    "        baetur -= eignaskerding\n",
    "    else:\n",
    "        eignaskerding = 0\n",
    "    \n",
    "    if baetur > 0.75*husnaediskostnadur:\n",
    "        baetur = 0.75*husnaediskostnadur\n",
    "    if baetur < 0:\n",
    "        baetur = 0\n",
    "    if tekjuskerding < 0:\n",
    "        tekjuskerding = 0\n",
    "    if eignaskerding < 0:\n",
    "        eignaskerding = 0\n",
    "            \n",
    "    return baetur, tekjuskerding, eignaskerding"
   ]
  },
  {
   "cell_type": "code",
   "execution_count": 12,
   "metadata": {
    "collapsed": true
   },
   "outputs": [],
   "source": [
    "def barnabaetur_func(hjuskaparstada, tekjur):\n",
    "    tekjur_yearly = [tekjur[0]*12, tekjur[1]*12, tekjur[2]*12, tekjur[3]*12]\n",
    "    \n",
    "    print \"Fjöldi barna á heimli: \"\n",
    "    fj_barna = int(raw_input())\n",
    "    if fj_barna == 0:\n",
    "        return\n",
    "    print \" - þar af yngri en 7 ára: \"\n",
    "    fj_barna_undir_7 = fj_barna + 1\n",
    "    while fj_barna_undir_7 > fj_barna:\n",
    "        fj_barna_undir_7 = int(raw_input())\n",
    "    if fj_barna > 3:\n",
    "        fj_barna = 3\n",
    "    \n",
    "    # SKERÐINGARHLUFÖLL\n",
    "    skerdingarhlutfoll = [0.04, 0.06, 0.08] # [1 barn, 2 börn, 3 börn eða fleiri]\n",
    "    skerdingarhlutf_vidbot = 0.04\n",
    "    \n",
    "    # FJÁRHÆÐIR 2017\n",
    "    fjarhaedir_fyrsta_barn = [342939, 205834] # [einstætt foreldri, hjón/sambúðarfólk]\n",
    "    fjarhaedir_umfram_born = [351787, 245087] # [einstætt foreldri, hjón/sambúðarfólk]\n",
    "    vidbotarfjarhaed_hvert_barn_undir_7 = 122879\n",
    "    \n",
    "    # SKERÐINGARMÖRK\n",
    "    skerdingarmork = [2700000, 5400000] # [einstætt foreldri, hjón/sambúðarfólk]\n",
    "    \n",
    "    # ÚTREIKNINGUR ÓSKERTRAR BÓTAFJÁRHÆÐAR\n",
    "    stofn_til_skerdingar = sum(tekjur_yearly) - skerdingarmork[hjuskaparstada-2]\n",
    "    if stofn_til_skerdingar < 0:\n",
    "        stofn_til_skerdingar = 0\n",
    "        \n",
    "    almennar_barnabaetur =\\\n",
    "        fjarhaedir_fyrsta_barn[hjuskaparstada-2] + ((fj_barna-1) * fjarhaedir_umfram_born[hjuskaparstada-2]) \n",
    "        \n",
    "    vidbotarbaetur = (fj_barna_undir_7 * vidbotarfjarhaed_hvert_barn_undir_7)\n",
    "        \n",
    "    skerding = (skerdingarhlutfoll[fj_barna-1] * stofn_til_skerdingar)\n",
    "    skerding_vidbotar = ((fj_barna_undir_7*skerdingarhlutf_vidbot) * stofn_til_skerdingar)\n",
    "    \n",
    "    baetur = almennar_barnabaetur + vidbotarbaetur - (skerding + skerding_vidbotar)\n",
    "    if baetur < 0:\n",
    "        baetur = 0\n",
    "    \n",
    "    '''print \"Tekjustofn: {:,}\".format(sum(tekjur_yearly))\n",
    "    print \"Skerdingarmork: {:,}\".format(skerdingarmork[hjuskaparstada-2])\n",
    "    print \"Stofn til skerdingar: {:,}\".format(stofn_til_skerdingar)\n",
    "    print\n",
    "    print \"Almennar barnabaetur: {:,}\".format(almennar_barnabaetur)\n",
    "    print \"Skerding vegna tekna: {:,}\".format(skerding) \n",
    "    print\n",
    "    print \"Viðbót vegna barna yngri en 7 ára: {:,}\".format(vidbotarbaetur)\n",
    "    print \"Skerðing vegna tekna: {:,}\".format(skerding_vidbotar)\n",
    "    print\n",
    "    print \"Barnabaetur alls: {:,}\".format(baetur)\n",
    "    print \"Baetur skiptast jafnt 'a milli hjona: {:,}\".format(baetur/2)\n",
    "    print \"Til greiðslu í hverjum ársfjórðungi: {:,}\".format(baetur/4)'''\n",
    "    \n",
    "    return baetur/12\n"
   ]
  },
  {
   "cell_type": "code",
   "execution_count": 45,
   "metadata": {},
   "outputs": [],
   "source": [
    "def print_dict(person_dict):\n",
    "    print \"\"\n",
    "    print \"\"\n",
    "    print \"==========LAUN============\"\n",
    "    print \"Tekjur fyrir skatt: {:,}\".format(person_dict['allar_tekjur'][0][0])\n",
    "    print \" - staðgreiðsla: {:,}\".format(person_dict['fradrattur'][1])\n",
    "    print \" - greitt i lifeyrissparnad: {:,}\".format(person_dict['fradrattur'][2])\n",
    "    print \"Útborguð laun: {:,}\".format(person_dict['allar_tekjur'][1])\n",
    "    print \"\"\n",
    "    print \"====HÚSNÆÐISSTUÐNINGUR============\"\n",
    "    print \"Húsnæðisstuðningur á mánuði: {:,}\".format(person_dict['allar_baetur'][0])\n",
    "    print \"\"\n",
    "    print \"====Barnabætur=========\"\n",
    "    print \"Barnabætur á mánuði: {:,}\".format(person_dict['allar_baetur'][1])\n",
    "    print \"\"\n",
    "    print \"=====FRÁDRÁTTUR========\"\n",
    "    print \"Útvarpsgjald: {:,}\".format(person_dict['fradrattur'][0])\n",
    "    print \"\"\n",
    "    print \"\"\n",
    "    print \"====NIÐURSTAÐA========\"\n",
    "    print \"Pjénge í vasann í hverjum mánuði: {:,}\"\\\n",
    "        .format(person_dict['pjeng_i_vasa'])\n",
    "    print \"======================\""
   ]
  },
  {
   "cell_type": "markdown",
   "metadata": {},
   "source": [
    "# Reiknireikn "
   ]
  },
  {
   "cell_type": "code",
   "execution_count": 41,
   "metadata": {},
   "outputs": [
    {
     "name": "stdout",
     "output_type": "stream",
     "text": [
      "1: einhleypur, 2: einst. foreldri, 3: giftur/sambud 2\n",
      "Laun fyrir skatt: 600000\n",
      "Fjarmagnstekjur: 20000\n",
      "\tIðgjald í lífeyrissjóð?\n",
      "1: 0%, 2: 4% 2\n",
      "\tIðgjald í séreign?\n",
      "0: 0%, 1: 1%, 2: 2%, 3: 3%, 4: 4% 4\n",
      "Hver er husnæðisstaða þín? Býrðu í eigin húsnæði, leiguhúsnæði eða hvorugt?\n",
      "1: eigin, 2: leigu, 3: hvorugt 2\n",
      "fjoldi heimilismanna ad ther medtoldum: 2\n",
      "samanlagdar manadartekjur allra heimilismanna: 620000\n",
      "samanlagdar eignir allra heimilismanna: 2000000\n",
      "manadarlegur husnaediskostnadur: 280000\n",
      "Fjöldi barna á heimli: \n",
      "1\n",
      " - þar af yngri en 7 ára: \n",
      "1\n"
     ]
    }
   ],
   "source": [
    "kelson = islendingur_input()"
   ]
  },
  {
   "cell_type": "code",
   "execution_count": 42,
   "metadata": {},
   "outputs": [
    {
     "data": {
      "text/plain": [
       "{'allar_baetur': [18657.95, 7218.166666666667],\n",
       " 'allar_tekjur': [[600000, 20000, 0, 0], 400998.19999999995],\n",
       " 'fradrattur': [1400, 151001.80000000002, 24000.0],\n",
       " 'pjeng_i_vasa': 425474.31666666665}"
      ]
     },
     "execution_count": 42,
     "metadata": {},
     "output_type": "execute_result"
    }
   ],
   "source": [
    "kelson"
   ]
  },
  {
   "cell_type": "code",
   "execution_count": 47,
   "metadata": {},
   "outputs": [
    {
     "name": "stdout",
     "output_type": "stream",
     "text": [
      "\n",
      "\n",
      "==========LAUN============\n",
      "Tekjur fyrir skatt: 600,000\n",
      " - staðgreiðsla: 151,001.8\n",
      " - greitt i lifeyrissparnad: 24,000.0\n",
      "Útborguð laun: 400,998.2\n",
      "\n",
      "====HÚSNÆÐISSTUÐNINGUR============\n",
      "Húsnæðisstuðningur á mánuði: 18,657.95\n",
      "\n",
      "====Barnabætur=========\n",
      "Barnabætur á mánuði: 7,218.16666667\n",
      "\n",
      "=====FRÁDRÁTTUR========\n",
      "Útvarpsgjald: 1,400\n",
      "\n",
      "\n",
      "====NIÐURSTAÐA========\n",
      "Pjénge í vasann í hverjum mánuði: 425,474.316667\n",
      "======================\n"
     ]
    }
   ],
   "source": [
    "print_dict(kelson)"
   ]
  }
 ],
 "metadata": {
  "kernelspec": {
   "display_name": "Python 2",
   "language": "python",
   "name": "python2"
  },
  "language_info": {
   "codemirror_mode": {
    "name": "ipython",
    "version": 2
   },
   "file_extension": ".py",
   "mimetype": "text/x-python",
   "name": "python",
   "nbconvert_exporter": "python",
   "pygments_lexer": "ipython2",
   "version": "2.7.13"
  }
 },
 "nbformat": 4,
 "nbformat_minor": 2
}
