{
 "cells": [
  {
   "cell_type": "code",
   "execution_count": null,
   "metadata": {
    "collapsed": true
   },
   "outputs": [],
   "source": [
    "forsendur_dict = {'utvarpsgjald_threshold_m': 1678001/12,\n",
    "                 'utvarpsgjald_m': 16800/12,\n",
    "                 'eftirlaunaaldur': 67,\n",
    "                 'serstakar_tekjusk_nedri_m': [281083.0, 371755.0, 435226.0, 471495.0],\n",
    "                 'serstakar_tekjusk_efri_m': [351354, 464694, 544032, 589368],\n",
    "                 'serstakar_threshold_eign': 5126000,\n",
    "                 'serstakar_plus_venjulegar_hamark': 90000,\n",
    "                 'stadgr_threp': 834707,\n",
    "                 'stadgr_hlutfall_nedra': 0.3694,\n",
    "                 'stadgr_hlutfall_nedra': 0.4624,\n",
    "                 'personuafslattur_m': 52907,\n",
    "                 'hamark_vaxtagjalda_y': [800000, 1000000, 1200000],\n",
    "                 'hamark_vaxtabota_y': [400000, 500000, 600000],\n",
    "                 'vaxtab_eignask_nedri': [4500000.0, 4500000.0, 7300000.0],\n",
    "                 'vaxtab_eignask_efri': [7200000.0, 7200000.0, 11680000.0],\n",
    "                 'vaxtab_tekjusk_hlutfall': 0.085,\n",
    "                 'vaxtab_hamarkshl_huslans': 0.07,\n",
    "                 'husnb_grunnur_m': [372000/12, 492000/12, 576000/12, 624000/12],\n",
    "                 'husnb_fritekjumark_m': [3373000/12, 4461064/12, 5222710/12, 5657936/12],\n",
    "                 'husnb_eignask_nedri': 6500000.0,\n",
    "                 'husnb_eignask_efri': 10400000.0,\n",
    "                 'husnb_tekjusk_hlutfall': 0.09,\n",
    "                 'husnb_hamarkshluti_husnkostn': 0.75,\n",
    "                 'barnab_skerdingarhlutfoll': [0.04, 0.06, 0.08],\n",
    "                 'barnab_skerdingarhl_vidbot': 0.04,\n",
    "                 'barnab_fjarh_fyrsta_barn_y': [342939, 205834],\n",
    "                 'barnab_fjarh_umfram_born_y': [351787, 245087],\n",
    "                 'barnab_fjarh_barn_undir_7_y': 122879,\n",
    "                 'barnab_tekjuskmork': [2700000, 5400000],\n",
    "                 'ororka_grunnur': 42852.0,\n",
    "                 'ororka_tekjusk_nedri': 214602.0,\n",
    "                 'ororka_tekjusk_efri': 386010.0,\n",
    "                 'ororka_fritekjumark_fjtekna_m': 98640.0/12,\n",
    "                 'ororka_fritekjumark_launa_m': 1315200/12,\n",
    "                 'ororka_fritekjumark_lifeyris_m': 328800/12,\n",
    "                 'ororka_tekjutr_m': 137226,\n",
    "                 'ororka_tekjutr_hamark_tekna_m': 386010,\n",
    "                 'ororka_heimilisuppbot_m': 39851,\n",
    "                 'barnalifeyrir/barn': 31679,\n",
    "                 'medlag/barn': 31679,\n",
    "                 'ororka_framfvidmid_ekkieinn': 227883,\n",
    "                 'ororka_framfvidmid_einn': 280000,\n",
    "                 'ororka_tekjutr_skerdingarhlutf_nedri': 0.3835,\n",
    "                 'ororka_tekjutr_skerdingarhlutf_efri': 0.1335,\n",
    "                 'ororka_heimilisuppbot_skerdingarhlutf': 0.114,\n",
    "                 'ororka_bensinstyrkur_m': 15839,\n",
    "                 'foreldralaun_2born_m': 9171,\n",
    "                 'foreldralaun_fleiri_born_m': 23844,\n",
    "                 'ellilif_lifeyrir_m': 228734,\n",
    "                 'ellilif_heimilisuppbot_m': 52316,\n",
    "                 'ellilif_bensinstyrkur_m': 15839,\n",
    "                 'ellilif_radstofunarfe_m': 68662,\n",
    "                 'ellilif_fritekjumork': 25000,\n",
    "                 'ellilif_lifeyrir_efri_mork_m': 533298,\n",
    "                 'ellilif_heimilisuppbot_efri_mork_m': 464597,\n",
    "                 'ellilif_lifeyrir_tekjusk_hlutf': 0.45,\n",
    "                 'ellilif_huppbot_tekjusk_hlutf': 0.119,\n",
    "                 'ellilif_haekkun_v_frestunar': 0.05\n",
    "                }"
   ]
  },
  {
   "cell_type": "code",
   "execution_count": 1,
   "metadata": {
    "collapsed": true
   },
   "outputs": [],
   "source": [
    "from ipywidgets import interact, interactive, fixed, interact_manual\n",
    "import ipywidgets as widgets"
   ]
  },
  {
   "cell_type": "code",
   "execution_count": 2,
   "metadata": {
    "collapsed": true
   },
   "outputs": [],
   "source": [
    "def f(x):\n",
    "    return x"
   ]
  },
  {
   "cell_type": "code",
   "execution_count": 10,
   "metadata": {},
   "outputs": [
    {
     "data": {
      "application/vnd.jupyter.widget-view+json": {
       "model_id": "5e01eb26f7af4c99a410ff0b4d37e2e4",
       "version_major": 2,
       "version_minor": 0
      },
      "text/html": [
       "<p>Failed to display Jupyter Widget of type <code>interactive</code>.</p>\n",
       "<p>\n",
       "  If you're reading this message in the Jupyter Notebook or JupyterLab Notebook, it may mean\n",
       "  that the widgets JavaScript is still loading. If this message persists, it\n",
       "  likely means that the widgets JavaScript library is either not installed or\n",
       "  not enabled. See the <a href=\"https://ipywidgets.readthedocs.io/en/stable/user_install.html\">Jupyter\n",
       "  Widgets Documentation</a> for setup instructions.\n",
       "</p>\n",
       "<p>\n",
       "  If you're reading this message in another frontend (for example, a static\n",
       "  rendering on GitHub or <a href=\"https://nbviewer.jupyter.org/\">NBViewer</a>),\n",
       "  it may mean that your frontend doesn't currently support widgets.\n",
       "</p>\n"
      ],
      "text/plain": [
       "interactive(children=(IntSlider(value=300000, description=u'x', max=1000000, step=1000), Output()), _dom_classes=('widget-interact',))"
      ]
     },
     "metadata": {},
     "output_type": "display_data"
    }
   ],
   "source": [
    "interact(f, x=widgets.IntSlider(min=0,max=1000000,step=1000,value=300000));"
   ]
  },
  {
   "cell_type": "code",
   "execution_count": 5,
   "metadata": {},
   "outputs": [
    {
     "data": {
      "application/vnd.jupyter.widget-view+json": {
       "model_id": "6cd4eabdecf545b48a94e7f1b9f8de0b",
       "version_major": 2,
       "version_minor": 0
      },
      "text/html": [
       "<p>Failed to display Jupyter Widget of type <code>interactive</code>.</p>\n",
       "<p>\n",
       "  If you're reading this message in the Jupyter Notebook or JupyterLab Notebook, it may mean\n",
       "  that the widgets JavaScript is still loading. If this message persists, it\n",
       "  likely means that the widgets JavaScript library is either not installed or\n",
       "  not enabled. See the <a href=\"https://ipywidgets.readthedocs.io/en/stable/user_install.html\">Jupyter\n",
       "  Widgets Documentation</a> for setup instructions.\n",
       "</p>\n",
       "<p>\n",
       "  If you're reading this message in another frontend (for example, a static\n",
       "  rendering on GitHub or <a href=\"https://nbviewer.jupyter.org/\">NBViewer</a>),\n",
       "  it may mean that your frontend doesn't currently support widgets.\n",
       "</p>\n"
      ],
      "text/plain": [
       "interactive(children=(Checkbox(value=True, description=u'x'), Output()), _dom_classes=('widget-interact',))"
      ]
     },
     "metadata": {},
     "output_type": "display_data"
    }
   ],
   "source": [
    "interact(f, x=True);"
   ]
  },
  {
   "cell_type": "code",
   "execution_count": 6,
   "metadata": {},
   "outputs": [
    {
     "data": {
      "application/vnd.jupyter.widget-view+json": {
       "model_id": "33e93e21bada444aac0404fe60b6d98d",
       "version_major": 2,
       "version_minor": 0
      },
      "text/html": [
       "<p>Failed to display Jupyter Widget of type <code>interactive</code>.</p>\n",
       "<p>\n",
       "  If you're reading this message in the Jupyter Notebook or JupyterLab Notebook, it may mean\n",
       "  that the widgets JavaScript is still loading. If this message persists, it\n",
       "  likely means that the widgets JavaScript library is either not installed or\n",
       "  not enabled. See the <a href=\"https://ipywidgets.readthedocs.io/en/stable/user_install.html\">Jupyter\n",
       "  Widgets Documentation</a> for setup instructions.\n",
       "</p>\n",
       "<p>\n",
       "  If you're reading this message in another frontend (for example, a static\n",
       "  rendering on GitHub or <a href=\"https://nbviewer.jupyter.org/\">NBViewer</a>),\n",
       "  it may mean that your frontend doesn't currently support widgets.\n",
       "</p>\n"
      ],
      "text/plain": [
       "interactive(children=(Text(value=u'Hi there!', description=u'x'), Output()), _dom_classes=('widget-interact',))"
      ]
     },
     "metadata": {},
     "output_type": "display_data"
    }
   ],
   "source": [
    "interact(f, x='Hi there!');"
   ]
  },
  {
   "cell_type": "code",
   "execution_count": 7,
   "metadata": {},
   "outputs": [
    {
     "data": {
      "application/vnd.jupyter.widget-view+json": {
       "model_id": "1f491056a5ff4ccd87f7a3e7899982fb",
       "version_major": 2,
       "version_minor": 0
      },
      "text/html": [
       "<p>Failed to display Jupyter Widget of type <code>interactive</code>.</p>\n",
       "<p>\n",
       "  If you're reading this message in the Jupyter Notebook or JupyterLab Notebook, it may mean\n",
       "  that the widgets JavaScript is still loading. If this message persists, it\n",
       "  likely means that the widgets JavaScript library is either not installed or\n",
       "  not enabled. See the <a href=\"https://ipywidgets.readthedocs.io/en/stable/user_install.html\">Jupyter\n",
       "  Widgets Documentation</a> for setup instructions.\n",
       "</p>\n",
       "<p>\n",
       "  If you're reading this message in another frontend (for example, a static\n",
       "  rendering on GitHub or <a href=\"https://nbviewer.jupyter.org/\">NBViewer</a>),\n",
       "  it may mean that your frontend doesn't currently support widgets.\n",
       "</p>\n"
      ],
      "text/plain": [
       "interactive(children=(Checkbox(value=True, description=u'x'), FloatSlider(value=1.0, description=u'y', max=3.0, min=-1.0), Output()), _dom_classes=('widget-interact',))"
      ]
     },
     "metadata": {},
     "output_type": "display_data"
    }
   ],
   "source": [
    "@interact(x=True, y=1.0)\n",
    "def g(x, y):\n",
    "    return (x, y)"
   ]
  },
  {
   "cell_type": "code",
   "execution_count": 11,
   "metadata": {},
   "outputs": [
    {
     "name": "stdout",
     "output_type": "stream",
     "text": [
      "Populating the interactive namespace from numpy and matplotlib\n"
     ]
    },
    {
     "name": "stderr",
     "output_type": "stream",
     "text": [
      "C:\\Users\\kelihjoll\\Anaconda2\\lib\\site-packages\\IPython\\core\\magics\\pylab.py:161: UserWarning: pylab import has clobbered these variables: ['f', 'random', 'interactive']\n",
      "`%matplotlib` prevents importing * from pylab and numpy\n",
      "  \"\\n`%matplotlib` prevents importing * from pylab and numpy\"\n"
     ]
    }
   ],
   "source": [
    "import numpy as np\n",
    "import matplotlib.pyplot as plt\n",
    "import seaborn as sb\n",
    "import math\n",
    "from IPython.core.display import display, HTML\n",
    "import d3_lib\n",
    "from string import Template\n",
    "import pandas as pd\n",
    "import json\n",
    "import random\n",
    "import pickle\n",
    "from functions import *\n",
    "\n",
    "%pylab inline"
   ]
  },
  {
   "cell_type": "code",
   "execution_count": 40,
   "metadata": {},
   "outputs": [
    {
     "data": {
      "text/html": [
       "<script src=\"lib/d3/d3.min.js\"></script>"
      ],
      "text/plain": [
       "<IPython.core.display.HTML object>"
      ]
     },
     "execution_count": 40,
     "metadata": {},
     "output_type": "execute_result"
    }
   ],
   "source": [
    "HTML('<script src=\"lib/d3/d3.min.js\"></script>')"
   ]
  },
  {
   "cell_type": "code",
   "execution_count": 41,
   "metadata": {
    "collapsed": true
   },
   "outputs": [],
   "source": [
    "html_template = Template('''\n",
    "<style> $css_text </style>\n",
    "<div id=\"graph-div\"></div>\n",
    "<script> $js_text </script>\n",
    "''')"
   ]
  },
  {
   "cell_type": "code",
   "execution_count": 42,
   "metadata": {
    "collapsed": true
   },
   "outputs": [],
   "source": [
    "css_text = '''\n",
    "\n",
    ".bar {\n",
    "  fill: steelblue;\n",
    "}\n",
    "\n",
    ".bar:hover {\n",
    "  fill: brown;\n",
    "}\n",
    "\n",
    ".axis {\n",
    "  font: 10px sans-serif;\n",
    "}\n",
    "\n",
    ".axis path,\n",
    ".axis line {\n",
    "  fill: none;\n",
    "  stroke: #000;\n",
    "  shape-rendering: crispEdges;\n",
    "}\n",
    "\n",
    ".x.axis path {\n",
    "  display: none;\n",
    "}\n",
    "\n",
    ".d3-tip {\n",
    "  line-height: 1;\n",
    "  font-weight: bold;\n",
    "  padding: 12px;\n",
    "  background: rgba(0, 0, 0, 0.8);\n",
    "  color: #fff;\n",
    "  border-radius: 2px;\n",
    "}\n",
    "\n",
    "'''"
   ]
  },
  {
   "cell_type": "code",
   "execution_count": 43,
   "metadata": {
    "collapsed": true
   },
   "outputs": [],
   "source": [
    "js_text_template = Template('''\n",
    "\n",
    "var margin = {top: 20, right: 20, bottom: 30, left: 60},\n",
    "    width = 650 - margin.left - margin.right,\n",
    "    height = 300 - margin.top - margin.bottom;\n",
    "\n",
    "var x = d3.scale.ordinal()\n",
    "    .rangeRoundBands([0, width], .1);\n",
    "\n",
    "var y = d3.scale.linear()\n",
    "    .range([height, 0]);\n",
    "\n",
    "var xAxis = d3.svg.axis()\n",
    "    .scale(x)\n",
    "    .orient(\"bottom\");\n",
    "\n",
    "var yAxis = d3.svg.axis()\n",
    "    .scale(y)\n",
    "    .orient(\"left\");\n",
    "    \n",
    "var tip = d3.tip()\n",
    "  .attr('class', 'd3-tip')\n",
    "  .offset([-10, 0])\n",
    "  .html(function(d) {\n",
    "    return \"<strong>Pjengs:</strong> <span style='color:red'>\" + formatValue(d.y) + \" kr.\" + \"</span>\";\n",
    "  })\n",
    "\n",
    "var svg = d3.select(\"#graph-div\").append(\"svg\")\n",
    "    .attr(\"width\", width + margin.left + margin.right)\n",
    "    .attr(\"height\", height + margin.top + margin.bottom)\n",
    "  .append(\"g\")\n",
    "    .attr(\"transform\", \"translate(\" + margin.left + \",\" + margin.top + \")\");\n",
    "\n",
    "var formatValue = d3.format(\",.0f\");\n",
    "\n",
    "svg.call(tip);\n",
    "\n",
    "var data = $data ;\n",
    "\n",
    "  x.domain(data.map(function(d) { return d.letter; }));\n",
    "  y.domain([0, d3.max(data, function(d) { return d.y; })]);\n",
    "\n",
    "  svg.append(\"g\")\n",
    "      .attr(\"class\", \"x axis\")\n",
    "      .attr(\"transform\", \"translate(0,\" + height + \")\")\n",
    "      .call(xAxis);\n",
    "\n",
    "  svg.append(\"g\")\n",
    "      .attr(\"class\", \"y axis\")\n",
    "      .call(yAxis);\n",
    "\n",
    "  svg.selectAll(\".bar\")\n",
    "      .data(data)\n",
    "    .enter().append(\"rect\")\n",
    "      .attr(\"class\", \"bar\")\n",
    "      .attr(\"x\", function(d) { return x(d.letter); })\n",
    "      .attr(\"width\", x.rangeBand())\n",
    "      .attr(\"y\", function(d) { return y(d.y); })\n",
    "      .attr(\"height\", function(d) { return height - y(d.y); })\n",
    "      .on('mouseover', tip.show)\n",
    "      .on('mouseout', tip.hide);\n",
    "\n",
    "function type(d) {\n",
    "  d.y = +d.y;\n",
    "  return d;\n",
    "}\n",
    "''')\n",
    "\n",
    "js_text_template_2 = Template('''\n",
    "\n",
    "var bars = svg.selectAll(\".bar\").data($data);\n",
    "  \n",
    "bars\n",
    "  .transition()\n",
    "    .attr(\"y\", function(d) { return y(d.y); })\n",
    "    .attr(\"height\", function(d) { return height - y(d.y); });\n",
    "\n",
    "''')"
   ]
  },
  {
   "cell_type": "code",
   "execution_count": 44,
   "metadata": {
    "collapsed": true
   },
   "outputs": [],
   "source": [
    "# loading data\n",
    "pickle_in = open(\"einstaedur_oryrki.pickle\",\"rb\")\n",
    "example_dict = pickle.load(pickle_in)"
   ]
  },
  {
   "cell_type": "code",
   "execution_count": 45,
   "metadata": {},
   "outputs": [
    {
     "data": {
      "text/html": [
       "<div>\n",
       "<style>\n",
       "    .dataframe thead tr:only-child th {\n",
       "        text-align: right;\n",
       "    }\n",
       "\n",
       "    .dataframe thead th {\n",
       "        text-align: left;\n",
       "    }\n",
       "\n",
       "    .dataframe tbody tr th {\n",
       "        vertical-align: top;\n",
       "    }\n",
       "</style>\n",
       "<table border=\"1\" class=\"dataframe\">\n",
       "  <thead>\n",
       "    <tr style=\"text-align: right;\">\n",
       "      <th></th>\n",
       "      <th>letter</th>\n",
       "      <th>y</th>\n",
       "    </tr>\n",
       "  </thead>\n",
       "  <tbody>\n",
       "    <tr>\n",
       "      <th>0</th>\n",
       "      <td>Laun e skatt</td>\n",
       "      <td>260374.400000</td>\n",
       "    </tr>\n",
       "    <tr>\n",
       "      <th>1</th>\n",
       "      <td>Fjármagnstekjur</td>\n",
       "      <td>20000.000000</td>\n",
       "    </tr>\n",
       "    <tr>\n",
       "      <th>2</th>\n",
       "      <td>Húsnæðisstuðningur</td>\n",
       "      <td>32688.103090</td>\n",
       "    </tr>\n",
       "    <tr>\n",
       "      <th>3</th>\n",
       "      <td>Barnabætur</td>\n",
       "      <td>64535.425227</td>\n",
       "    </tr>\n",
       "    <tr>\n",
       "      <th>4</th>\n",
       "      <td>Örorkubætur</td>\n",
       "      <td>84137.737526</td>\n",
       "    </tr>\n",
       "    <tr>\n",
       "      <th>5</th>\n",
       "      <td>Ráðstöfunartekjur</td>\n",
       "      <td>460335.665842</td>\n",
       "    </tr>\n",
       "  </tbody>\n",
       "</table>\n",
       "</div>"
      ],
      "text/plain": [
       "               letter              y\n",
       "0        Laun e skatt  260374.400000\n",
       "1     Fjármagnstekjur   20000.000000\n",
       "2  Húsnæðisstuðningur   32688.103090\n",
       "3          Barnabætur   64535.425227\n",
       "4         Örorkubætur   84137.737526\n",
       "5   Ráðstöfunartekjur  460335.665842"
      ]
     },
     "execution_count": 45,
     "metadata": {},
     "output_type": "execute_result"
    }
   ],
   "source": [
    "data =\\\n",
    "    pd.DataFrame({'letter':['Laun e skatt',\n",
    "                            'Fjármagnstekjur',\n",
    "                            'Húsnæðisstuðningur',\n",
    "                            'Barnabætur',\n",
    "                            'Örorkubætur',\n",
    "                            'Ráðstöfunartekjur'],\n",
    "                  'y':[example_dict[0]['tekjur_e_skatt'],\n",
    "                       example_dict[0]['fjarmagnstekjur_e_skatt'],\n",
    "                       example_dict[0]['husnaedisstudningur'],\n",
    "                       example_dict[0]['barnabaetur'],\n",
    "                       example_dict[0]['ororka_e_skatt'],\n",
    "                       example_dict[0]['pjeng_i_vasa']]})\n",
    "data"
   ]
  },
  {
   "cell_type": "code",
   "execution_count": 46,
   "metadata": {},
   "outputs": [
    {
     "data": {
      "text/html": [
       "\n",
       "<style> \n",
       "\n",
       ".bar {\n",
       "  fill: steelblue;\n",
       "}\n",
       "\n",
       ".bar:hover {\n",
       "  fill: brown;\n",
       "}\n",
       "\n",
       ".axis {\n",
       "  font: 10px sans-serif;\n",
       "}\n",
       "\n",
       ".axis path,\n",
       ".axis line {\n",
       "  fill: none;\n",
       "  stroke: #000;\n",
       "  shape-rendering: crispEdges;\n",
       "}\n",
       "\n",
       ".x.axis path {\n",
       "  display: none;\n",
       "}\n",
       "\n",
       ".d3-tip {\n",
       "  line-height: 1;\n",
       "  font-weight: bold;\n",
       "  padding: 12px;\n",
       "  background: rgba(0, 0, 0, 0.8);\n",
       "  color: #fff;\n",
       "  border-radius: 2px;\n",
       "}\n",
       "\n",
       " </style>\n",
       "<div id=\"graph-div\"></div>\n",
       "<script> \n",
       "\n",
       "var margin = {top: 20, right: 20, bottom: 30, left: 60},\n",
       "    width = 650 - margin.left - margin.right,\n",
       "    height = 300 - margin.top - margin.bottom;\n",
       "\n",
       "var x = d3.scale.ordinal()\n",
       "    .rangeRoundBands([0, width], .1);\n",
       "\n",
       "var y = d3.scale.linear()\n",
       "    .range([height, 0]);\n",
       "\n",
       "var xAxis = d3.svg.axis()\n",
       "    .scale(x)\n",
       "    .orient(\"bottom\");\n",
       "\n",
       "var yAxis = d3.svg.axis()\n",
       "    .scale(y)\n",
       "    .orient(\"left\");\n",
       "    \n",
       "var tip = d3.tip()\n",
       "  .attr('class', 'd3-tip')\n",
       "  .offset([-10, 0])\n",
       "  .html(function(d) {\n",
       "    return \"<strong>Pjengs:</strong> <span style='color:red'>\" + formatValue(d.y) + \" kr.\" + \"</span>\";\n",
       "  })\n",
       "\n",
       "var svg = d3.select(\"#graph-div\").append(\"svg\")\n",
       "    .attr(\"width\", width + margin.left + margin.right)\n",
       "    .attr(\"height\", height + margin.top + margin.bottom)\n",
       "  .append(\"g\")\n",
       "    .attr(\"transform\", \"translate(\" + margin.left + \",\" + margin.top + \")\");\n",
       "\n",
       "var formatValue = d3.format(\",.0f\");\n",
       "\n",
       "svg.call(tip);\n",
       "\n",
       "var data = [{\"y\": 260374.4, \"letter\": \"Laun e skatt\"}, {\"y\": 20000.0, \"letter\": \"Fj\\u00e1rmagnstekjur\"}, {\"y\": 32688.103089753084, \"letter\": \"H\\u00fasn\\u00e6\\u00f0isstu\\u00f0ningur\"}, {\"y\": 64535.425226666666, \"letter\": \"Barnab\\u00e6tur\"}, {\"y\": 84137.73752579998, \"letter\": \"\\u00d6rorkub\\u00e6tur\"}, {\"y\": 460335.6658422197, \"letter\": \"R\\u00e1\\u00f0st\\u00f6funartekjur\"}] ;\n",
       "\n",
       "  x.domain(data.map(function(d) { return d.letter; }));\n",
       "  y.domain([0, d3.max(data, function(d) { return d.y; })]);\n",
       "\n",
       "  svg.append(\"g\")\n",
       "      .attr(\"class\", \"x axis\")\n",
       "      .attr(\"transform\", \"translate(0,\" + height + \")\")\n",
       "      .call(xAxis);\n",
       "\n",
       "  svg.append(\"g\")\n",
       "      .attr(\"class\", \"y axis\")\n",
       "      .call(yAxis);\n",
       "\n",
       "  svg.selectAll(\".bar\")\n",
       "      .data(data)\n",
       "    .enter().append(\"rect\")\n",
       "      .attr(\"class\", \"bar\")\n",
       "      .attr(\"x\", function(d) { return x(d.letter); })\n",
       "      .attr(\"width\", x.rangeBand())\n",
       "      .attr(\"y\", function(d) { return y(d.y); })\n",
       "      .attr(\"height\", function(d) { return height - y(d.y); })\n",
       "      .on('mouseover', tip.show)\n",
       "      .on('mouseout', tip.hide);\n",
       "\n",
       "function type(d) {\n",
       "  d.y = +d.y;\n",
       "  return d;\n",
       "}\n",
       " </script>\n"
      ],
      "text/plain": [
       "<IPython.core.display.HTML object>"
      ]
     },
     "execution_count": 46,
     "metadata": {},
     "output_type": "execute_result"
    }
   ],
   "source": [
    "js_text = js_text_template.substitute({'data': json.dumps(data.to_dict(orient='records'))})\n",
    "HTML(html_template.substitute({'css_text': css_text, 'js_text': js_text}))"
   ]
  },
  {
   "cell_type": "code",
   "execution_count": null,
   "metadata": {
    "collapsed": true
   },
   "outputs": [],
   "source": []
  },
  {
   "cell_type": "code",
   "execution_count": null,
   "metadata": {
    "collapsed": true
   },
   "outputs": [],
   "source": []
  }
 ],
 "metadata": {
  "kernelspec": {
   "display_name": "Python 2",
   "language": "python",
   "name": "python2"
  },
  "language_info": {
   "codemirror_mode": {
    "name": "ipython",
    "version": 2
   },
   "file_extension": ".py",
   "mimetype": "text/x-python",
   "name": "python",
   "nbconvert_exporter": "python",
   "pygments_lexer": "ipython2",
   "version": "2.7.14"
  }
 },
 "nbformat": 4,
 "nbformat_minor": 2
}
