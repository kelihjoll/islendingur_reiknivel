{
 "cells": [
  {
   "cell_type": "markdown",
   "metadata": {},
   "source": [
    "### Setting up notebook "
   ]
  },
  {
   "cell_type": "code",
   "execution_count": 1,
   "metadata": {},
   "outputs": [
    {
     "name": "stdout",
     "output_type": "stream",
     "text": [
      "Populating the interactive namespace from numpy and matplotlib\n"
     ]
    },
    {
     "name": "stderr",
     "output_type": "stream",
     "text": [
      "C:\\Users\\kelihjoll\\Anaconda2\\lib\\site-packages\\IPython\\core\\magics\\pylab.py:161: UserWarning: pylab import has clobbered these variables: ['random']\n",
      "`%matplotlib` prevents importing * from pylab and numpy\n",
      "  \"\\n`%matplotlib` prevents importing * from pylab and numpy\"\n"
     ]
    }
   ],
   "source": [
    "import numpy as np\n",
    "import matplotlib.pyplot as plt\n",
    "import seaborn as sb\n",
    "import math\n",
    "from IPython.core.display import display, HTML\n",
    "import d3_lib\n",
    "from string import Template\n",
    "import pandas as pd\n",
    "import json\n",
    "import random\n",
    "import pickle\n",
    "from functions import *\n",
    "\n",
    "%pylab inline"
   ]
  },
  {
   "cell_type": "markdown",
   "metadata": {},
   "source": [
    "### Reading in and saving data"
   ]
  },
  {
   "cell_type": "markdown",
   "metadata": {},
   "source": [
    "test = islendingur()\n",
    "pickle_out = open(\"test.pickle\",\"wb\")\n",
    "pickle.dump(test, pickle_out)\n",
    "pickle_out.close()"
   ]
  },
  {
   "cell_type": "markdown",
   "metadata": {
    "collapsed": true
   },
   "source": [
    "### Loading data and printing"
   ]
  },
  {
   "cell_type": "code",
   "execution_count": 2,
   "metadata": {},
   "outputs": [
    {
     "name": "stdout",
     "output_type": "stream",
     "text": [
      "\n",
      "\n",
      "==========LAUN============\n",
      "Laun fyrir skatt: 350,000\n",
      " - staðgreiðsla: 68,625.6\n",
      " - greitt i lifeyrissparnad: 21,000.0\n",
      "Útborguð laun: 260,374.4\n",
      "\n",
      "========FJÁRMAGNSTEKJUR==========\n",
      "Fjármagnstekjur fyrir skatt: 25,000\n",
      " - fjármagnstekjuskattur: 5,000.0\n",
      "\n",
      "====HÚSNÆÐISSTUÐNINGUR============\n",
      "Húsnæðisstuðningur á mánuði: 32,688.1030898\n",
      "\n",
      "====BARNABÆTUR=========\n",
      "Barnabætur á mánuði: 64,535.4252267\n",
      "\n",
      "=====ÖRORKUBÆTUR======\n",
      "Samtals örorkubætur á mánuði: 228,461.893\n",
      " - Frádreginn skattur: 49,287.1554742\n",
      "Samtals örorkubætur eftir skatt: 84,137.7375258\n",
      "== Sundurliðaðar örorkubætur ==\n",
      " örorkulífeyrir: 10,057.5\n",
      " aldurstengd örorkuuppbót: 6,537.375\n",
      " tekjutrygging: 79,445.47\n",
      " heimilisuppbót: 13,540.548\n",
      " barnalífeyrir: 95,037\n",
      " foreldralaun: 23,844\n",
      "\n",
      "=====FRÁDRÁTTUR========\n",
      "Útvarpsgjald: 1,400\n",
      "\n",
      "\n",
      "====NIÐURSTAÐA========\n",
      "Nettó tekjur í hverjum mánuði: 460,335.665842\n",
      "======================\n"
     ]
    }
   ],
   "source": [
    "pickle_in = open(\"einstaedur_oryrki.pickle\",\"rb\")\n",
    "einstaedur_oryrki = pickle.load(pickle_in)\n",
    "print_dict(einstaedur_oryrki[0])"
   ]
  },
  {
   "cell_type": "code",
   "execution_count": 3,
   "metadata": {},
   "outputs": [
    {
     "name": "stdout",
     "output_type": "stream",
     "text": [
      "\n",
      "\n",
      "==========LAUN============\n",
      "Laun fyrir skatt: 120,000\n",
      " - staðgreiðsla: 0\n",
      " - greitt i lifeyrissparnad: 4,800.0\n",
      "Útborguð laun: 115,200.0\n",
      "\n",
      "========FJÁRMAGNSTEKJUR==========\n",
      "Fjármagnstekjur fyrir skatt: 12,000\n",
      " - fjármagnstekjuskattur: 2,400.0\n",
      "\n",
      "====HÚSNÆÐISSTUÐNINGUR============\n",
      "Húsnæðisstuðningur á mánuði: 19,291.6771364\n",
      "\n",
      "====BARNABÆTUR=========\n",
      "Barnabætur á mánuði: 0\n",
      "\n",
      "=====ELLILÍFEYRIR=====\n",
      "Samtals ellilífeyrir á mánuði: 247,653.128\n",
      " - Frádreginn skattur: 91,483.0654832\n",
      "Samtals ellilífeyrir eftir skatt: 156,170.062517\n",
      "== Sundurliðaður ellilífeyrir ==\n",
      " ellilífeyrir: 190,053.76\n",
      " heimilisuppbót: 41,760.368\n",
      " bensínstyrkur: 15,839\n",
      "\n",
      "=====FRÁDRÁTTUR========\n",
      "Útvarpsgjald: 0\n",
      "\n",
      "\n",
      "====NIÐURSTAÐA========\n",
      "Nettó tekjur í hverjum mánuði: 300,261.739653\n",
      "======================\n"
     ]
    }
   ],
   "source": [
    "pickle_in = open(\"einstaedur_ellilif.pickle\",\"rb\")\n",
    "ellismellur = pickle.load(pickle_in)\n",
    "print_dict(ellismellur[0])"
   ]
  },
  {
   "cell_type": "code",
   "execution_count": 4,
   "metadata": {},
   "outputs": [
    {
     "name": "stdout",
     "output_type": "stream",
     "text": [
      "\n",
      "\n",
      "==========LAUN============\n",
      "Laun fyrir skatt: 350,000\n",
      " - staðgreiðsla: 66,039.8\n",
      " - greitt i lifeyrissparnad: 28,000.0\n",
      "Útborguð laun: 255,960.2\n",
      "\n",
      "========FJÁRMAGNSTEKJUR==========\n",
      "Fjármagnstekjur fyrir skatt: 10,000\n",
      " - fjármagnstekjuskattur: 2,000.0\n",
      "\n",
      "====HÚSNÆÐISSTUÐNINGUR============\n",
      "Húsnæðisstuðningur á mánuði: 14,308.3333333\n",
      "\n",
      "====BARNABÆTUR=========\n",
      "Barnabætur á mánuði: 13,800.3333333\n",
      "\n",
      "=====FRÁDRÁTTUR========\n",
      "Útvarpsgjald: 1,400\n",
      "\n",
      "\n",
      "====NIÐURSTAÐA========\n",
      "Nettó tekjur í hverjum mánuði: 290,668.866667\n",
      "======================\n"
     ]
    }
   ],
   "source": [
    "pickle_in = open(\"fjolskylda.pickle\",\"rb\")\n",
    "fjolskylda = pickle.load(pickle_in)\n",
    "print_dict(fjolskylda[0])"
   ]
  },
  {
   "cell_type": "markdown",
   "metadata": {
    "collapsed": true
   },
   "source": [
    "### Static line graph "
   ]
  },
  {
   "cell_type": "code",
   "execution_count": 19,
   "metadata": {
    "collapsed": true
   },
   "outputs": [],
   "source": [
    "pickle_in = open(\"einstaedur_oryrki.pickle\",\"rb\")\n",
    "einstaedur_oryrki = pickle.load(pickle_in)"
   ]
  },
  {
   "cell_type": "code",
   "execution_count": 20,
   "metadata": {
    "collapsed": true
   },
   "outputs": [],
   "source": [
    "vasapjenlisti = []\n",
    "tekjulisti = np.arange(0, 1000000, 1000)\n",
    "for i in tekjulisti:\n",
    "    einstaedur_oryrki[1]['tekjur'][0] = i\n",
    "    tekjur_i_vasa = islendingur(einstaedur_oryrki[1])[0]['pjeng_i_vasa']\n",
    "    vasapjenlisti.append(tekjur_i_vasa)"
   ]
  },
  {
   "cell_type": "code",
   "execution_count": 21,
   "metadata": {},
   "outputs": [
    {
     "data": {
      "image/png": "[encoded data removed]",
      "text/plain": [
       "<matplotlib.figure.Figure at 0xe6e7400>"
      ]
     },
     "metadata": {},
     "output_type": "display_data"
    }
   ],
   "source": [
    "plt.subplots(figsize=(20,20))\n",
    "#im = ax.imshow(data, interpolation='none')\n",
    "#ax.format_coord = Formatter(im)\n",
    "plt.plot(tekjulisti, vasapjenlisti)\n",
    "plt.grid(True)\n",
    "plt.title(\"Einstaedur oryrki med 2 kidz\", size=24)\n",
    "plt.xlabel('Manadarlaun fyrir skatt', size=20)\n",
    "plt.ylabel('Peningur i vasann a manudi', size=20)\n",
    "plt.xlim(0,1000000)\n",
    "plt.ylim(0,1000000)\n",
    "plt.show()"
   ]
  }
 ],
 "metadata": {
  "kernelspec": {
   "display_name": "Python 2",
   "language": "python",
   "name": "python2"
  },
  "language_info": {
   "codemirror_mode": {
    "name": "ipython",
    "version": 2
   },
   "file_extension": ".py",
   "mimetype": "text/x-python",
   "name": "python",
   "nbconvert_exporter": "python",
   "pygments_lexer": "ipython2",
   "version": "2.7.14"
  }
 },
 "nbformat": 4,
 "nbformat_minor": 2
}
