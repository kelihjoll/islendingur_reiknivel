{
 "cells": [
  {
   "cell_type": "code",
   "execution_count": 6,
   "metadata": {},
   "outputs": [
    {
     "name": "stdout",
     "output_type": "stream",
     "text": [
      "Populating the interactive namespace from numpy and matplotlib\n"
     ]
    },
    {
     "name": "stderr",
     "output_type": "stream",
     "text": [
      "C:\\Users\\kelihjoll\\Anaconda2\\lib\\site-packages\\IPython\\core\\magics\\pylab.py:161: UserWarning: pylab import has clobbered these variables: ['random', 'test']\n",
      "`%matplotlib` prevents importing * from pylab and numpy\n",
      "  \"\\n`%matplotlib` prevents importing * from pylab and numpy\"\n"
     ]
    }
   ],
   "source": [
    "import numpy as np\n",
    "import matplotlib.pyplot as plt\n",
    "import seaborn as sb\n",
    "import math\n",
    "from IPython.core.display import display, HTML\n",
    "import d3_lib\n",
    "from string import Template\n",
    "import pandas as pd\n",
    "import json\n",
    "import random\n",
    "import pickle\n",
    "from functions import *\n",
    "\n",
    "%pylab inline"
   ]
  },
  {
   "cell_type": "code",
   "execution_count": null,
   "metadata": {
    "collapsed": true
   },
   "outputs": [],
   "source": [
    "def pickling(input):\n",
    "    "
   ]
  },
  {
   "cell_type": "code",
   "execution_count": null,
   "metadata": {
    "collapsed": true
   },
   "outputs": [],
   "source": [
    "pickle_out = open(\"test.pickle\",\"wb\")\n",
    "pickle.dump(test, pickle_out)\n",
    "pickle_out.close()"
   ]
  },
  {
   "cell_type": "code",
   "execution_count": 2,
   "metadata": {},
   "outputs": [
    {
     "name": "stdout",
     "output_type": "stream",
     "text": [
      "Aldur?33\n",
      "1: einhleypur, 2: einst. foreldri, 3: giftur/sambud 2\n",
      "Laun fyrir skatt: 500000\n",
      "Fjarmagnstekjur: 0\n",
      "\tIðgjald í lífeyrissjóð?\n",
      "1: 0%, 2: 4% 2\n",
      "\tIðgjald í séreign?\n",
      "0: 0%, 1: 1%, 2: 2%, 3: 3%, 4: 4% 0\n",
      "Allar eignir að frádregnum öllum skuldum. Með eignum skal telja hlutabréf, innstæður og verðbréf: \n",
      "2500000\n",
      "Hver er husnæðisstaða þín? Býrðu í eigin húsnæði, leiguhúsnæði/búsetu eða hvorugt?\n",
      "1: eigin, 2: leigu/busetu, 3: hvorugt 1\n",
      "Eftirstöðvar í árslok af lánum sem tekin hafa verið til öflunar íbúðarhúsnæðis til eigin nota: \n",
      "36000000\n",
      "Vextir og verðbætur af íbúðarlánum á ársgrundvelli, þ.m.t. dráttarvextir og lántökukostnaður: \n",
      "2100000\n",
      "Fjöldi barna á heimli: \n",
      "2\n",
      " - þar af yngri en 7 ára: \n",
      "1\n",
      "Hlutfall örorku?\n",
      "Hlutfall i prosentum: 76\n",
      "Fyrsta 75% örorkumat?\n",
      "Aldur vid fyrsta mat: 25\n",
      "Býrðu einn?\n",
      "0: by ein/n, 1: by ekki ein/n: 0\n",
      "Hreyfihömlunarmat?\n",
      "0: Nei, 1: Ja, bensinstyrkur fra TR, 2: Ja, uppbot v/reksturs bifreidar fra TR1\n",
      "Fjoldi barna sem medlag faest greitt med fra TR: 1\n"
     ]
    }
   ],
   "source": [
    "test = islendingur()"
   ]
  },
  {
   "cell_type": "code",
   "execution_count": 3,
   "metadata": {},
   "outputs": [
    {
     "name": "stdout",
     "output_type": "stream",
     "text": [
      "\n",
      "\n",
      "==========LAUN============\n",
      "Laun fyrir skatt: 500,000\n",
      " - staðgreiðsla: 123,417.0\n",
      " - greitt i lifeyrissparnad: 20,000.0\n",
      "Útborguð laun: 356,583.0\n",
      "\n",
      "====HÚSNÆÐISSTUÐNINGUR============\n",
      "Húsnæðisstuðningur á mánuði: 39,396.5295858\n",
      "\n",
      "====BARNABÆTUR=========\n",
      "Barnabætur á mánuði: 45,302.4522567\n",
      "\n",
      "=====ÖRORKUBÆTUR======\n",
      "Samtals örorkubætur á mánuði: 116,407.5735\n",
      " - Frádreginn skattur: 6,244.1800509\n",
      "Samtals örorkubætur eftir skatt: 10,659.3934491\n",
      "== Sundurliðaðar örorkubætur ==\n",
      " örorkulífeyrir: 0\n",
      " aldurstengd örorkuuppbót: 0.0\n",
      " heimilisuppbót: 7,301.44\n",
      " bensínstyrkur: 0.1335\n",
      " barnalífeyrir: 66,336\n",
      " meðlag: 33,168\n",
      " foreldralaun: 9,602\n",
      "\n",
      "=====FRÁDRÁTTUR========\n",
      "Útvarpsgjald: 1,400\n",
      "\n",
      "\n",
      "=====NIÐURSTAÐA========\n",
      "Nettó tekjur í hverjum mánuði: 450,541.375292\n",
      "======================\n"
     ]
    }
   ],
   "source": [
    "print_dict(test[0])"
   ]
  },
  {
   "cell_type": "code",
   "execution_count": 7,
   "metadata": {},
   "outputs": [
    {
     "data": {
      "text/html": [
       "<style>\n",
       "/* Based on http://bl.ocks.org/d3noob/b3ff6ae1c120eea654b5 */\n",
       "\n",
       "path {\n",
       "    stroke: steelblue;\n",
       "    stroke-width: 2;\n",
       "    fill: none;\n",
       "}\n",
       "body {\n",
       "  font: 10px sans-serif;\n",
       "}\n",
       "\n",
       ".axis path,\n",
       ".axis line {\n",
       "  fill: none;\n",
       "  stroke: #000;\n",
       "  shape-rendering: crispEdges;\n",
       "}\n",
       ".x.axis path {\n",
       "  display: none;\n",
       "}\n",
       "\n",
       "\n",
       ".overlay {\n",
       "  fill: none;\n",
       "  pointer-events: all;\n",
       "}\n",
       "\n",
       ".focus circle {\n",
       "  fill: none;\n",
       "  stroke: steelblue;\n",
       "}\n",
       "\n",
       ".hover-line {\n",
       "  stroke: steelblue;\n",
       "  stroke-width: 2px;\n",
       "  stroke-dasharray: 3,3;\n",
       "}\n",
       "</style>"
      ],
      "text/plain": [
       "<IPython.core.display.HTML object>"
      ]
     },
     "execution_count": 7,
     "metadata": {},
     "output_type": "execute_result"
    }
   ],
   "source": [
    "HTML(d3_lib.set_styles(['line_with_hover']))"
   ]
  },
  {
   "cell_type": "code",
   "execution_count": 9,
   "metadata": {},
   "outputs": [
    {
     "data": {
      "text/plain": [
       "<bound method NoseTester.test of <numpy.testing.nosetester.NoseTester object at 0x0000000007042240>>"
      ]
     },
     "execution_count": 9,
     "metadata": {},
     "output_type": "execute_result"
    }
   ],
   "source": [
    "test"
   ]
  },
  {
   "cell_type": "code",
   "execution_count": 8,
   "metadata": {},
   "outputs": [
    {
     "ename": "TypeError",
     "evalue": "'instancemethod' object has no attribute '__getitem__'",
     "output_type": "error",
     "traceback": [
      "\u001b[1;31m\u001b[0m",
      "\u001b[1;31mTypeError\u001b[0mTraceback (most recent call last)",
      "\u001b[1;32m<ipython-input-8-cbd30bb37649>\u001b[0m in \u001b[0;36m<module>\u001b[1;34m()\u001b[0m\n\u001b[0;32m      3\u001b[0m \u001b[0mtekjulisti\u001b[0m \u001b[1;33m=\u001b[0m \u001b[0mnp\u001b[0m\u001b[1;33m.\u001b[0m\u001b[0marange\u001b[0m\u001b[1;33m(\u001b[0m\u001b[1;36m0\u001b[0m\u001b[1;33m,\u001b[0m \u001b[1;36m1000000\u001b[0m\u001b[1;33m,\u001b[0m \u001b[1;36m1000\u001b[0m\u001b[1;33m)\u001b[0m\u001b[1;33m\u001b[0m\u001b[0m\n\u001b[0;32m      4\u001b[0m \u001b[1;32mfor\u001b[0m \u001b[0mi\u001b[0m \u001b[1;32min\u001b[0m \u001b[0mtekjulisti\u001b[0m\u001b[1;33m:\u001b[0m\u001b[1;33m\u001b[0m\u001b[0m\n\u001b[1;32m----> 5\u001b[1;33m     \u001b[0mtest\u001b[0m\u001b[1;33m[\u001b[0m\u001b[1;36m1\u001b[0m\u001b[1;33m]\u001b[0m\u001b[1;33m[\u001b[0m\u001b[1;34m'tekjur'\u001b[0m\u001b[1;33m]\u001b[0m\u001b[1;33m[\u001b[0m\u001b[1;36m0\u001b[0m\u001b[1;33m]\u001b[0m \u001b[1;33m=\u001b[0m \u001b[0mi\u001b[0m\u001b[1;33m\u001b[0m\u001b[0m\n\u001b[0m\u001b[0;32m      6\u001b[0m     \u001b[0mtekjur_i_vasa\u001b[0m \u001b[1;33m=\u001b[0m \u001b[0mislendingur\u001b[0m\u001b[1;33m(\u001b[0m\u001b[0mtest\u001b[0m\u001b[1;33m[\u001b[0m\u001b[1;36m1\u001b[0m\u001b[1;33m]\u001b[0m\u001b[1;33m)\u001b[0m\u001b[1;33m[\u001b[0m\u001b[1;36m0\u001b[0m\u001b[1;33m]\u001b[0m\u001b[1;33m[\u001b[0m\u001b[1;34m'pjeng_i_vasa'\u001b[0m\u001b[1;33m]\u001b[0m\u001b[1;33m\u001b[0m\u001b[0m\n\u001b[0;32m      7\u001b[0m     \u001b[0mdata\u001b[0m\u001b[1;33m.\u001b[0m\u001b[0mappend\u001b[0m\u001b[1;33m(\u001b[0m\u001b[1;33m{\u001b[0m\u001b[1;34m'x'\u001b[0m\u001b[1;33m:\u001b[0m \u001b[0mi\u001b[0m\u001b[1;33m,\u001b[0m \u001b[1;34m'y'\u001b[0m\u001b[1;33m:\u001b[0m\u001b[0mtekjur_i_vasa\u001b[0m\u001b[1;33m}\u001b[0m\u001b[1;33m)\u001b[0m\u001b[1;33m\u001b[0m\u001b[0m\n",
      "\u001b[1;31mTypeError\u001b[0m: 'instancemethod' object has no attribute '__getitem__'"
     ]
    }
   ],
   "source": [
    "\n",
    "data = []\n",
    "tekjulisti = np.arange(0, 1000000, 1000)\n",
    "for i in tekjulisti:\n",
    "    test[1]['tekjur'][0] = i\n",
    "    tekjur_i_vasa = islendingur(test[1])[0]['pjeng_i_vasa']\n",
    "    data.append({'x': i, 'y':tekjur_i_vasa})\n",
    "    \n",
    "HTML(d3_lib.draw_graph('line_with_hover',{'data': data}))"
   ]
  }
 ],
 "metadata": {
  "kernelspec": {
   "display_name": "Python 2",
   "language": "python",
   "name": "python2"
  },
  "language_info": {
   "codemirror_mode": {
    "name": "ipython",
    "version": 2
   },
   "file_extension": ".py",
   "mimetype": "text/x-python",
   "name": "python",
   "nbconvert_exporter": "python",
   "pygments_lexer": "ipython2",
   "version": "2.7.14"
  }
 },
 "nbformat": 4,
 "nbformat_minor": 2
}
